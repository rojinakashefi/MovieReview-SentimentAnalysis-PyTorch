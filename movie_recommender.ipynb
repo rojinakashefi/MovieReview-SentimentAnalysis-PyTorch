{
  "cells": [
    {
      "cell_type": "code",
      "execution_count": 1,
      "metadata": {
        "colab": {
          "base_uri": "https://localhost:8080/"
        },
        "id": "2bdECMkqUp3i",
        "outputId": "a9433048-eb5f-4706-ec5d-f466ed0bb588"
      },
      "outputs": [
        {
          "output_type": "stream",
          "name": "stdout",
          "text": [
            "Mounted at /content/drive/\n"
          ]
        }
      ],
      "source": [
        "from google.colab import drive\n",
        "drive.mount('/content/drive/')"
      ]
    },
    {
      "cell_type": "code",
      "execution_count": 2,
      "metadata": {
        "colab": {
          "base_uri": "https://localhost:8080/"
        },
        "id": "pvxZHyLoVJ0_",
        "outputId": "f1574f9a-f740-4667-ffce-2e732c26372d"
      },
      "outputs": [
        {
          "output_type": "stream",
          "name": "stderr",
          "text": [
            "[nltk_data] Downloading package wordnet to /root/nltk_data...\n",
            "[nltk_data] Downloading package stopwords to /root/nltk_data...\n",
            "[nltk_data]   Unzipping corpora/stopwords.zip.\n",
            "[nltk_data] Downloading package omw-1.4 to /root/nltk_data...\n"
          ]
        }
      ],
      "source": [
        "import glob\n",
        "import re\n",
        "import nltk\n",
        "import pandas as pd\n",
        "from nltk.stem import WordNetLemmatizer\n",
        "import torch\n",
        "nltk.download('wordnet')\n",
        "nltk.download('stopwords')\n",
        "nltk.download('omw-1.4')\n",
        "from nltk.corpus import stopwords"
      ]
    },
    {
      "cell_type": "code",
      "source": [
        "import warnings\n",
        "warnings.filterwarnings('ignore')"
      ],
      "metadata": {
        "id": "GemvFIwC7iBO"
      },
      "execution_count": 3,
      "outputs": []
    },
    {
      "cell_type": "code",
      "execution_count": 4,
      "metadata": {
        "colab": {
          "base_uri": "https://localhost:8080/"
        },
        "id": "IKIHv5YgVPU0",
        "outputId": "f255289a-eb61-43db-c00f-ad324edbf546"
      },
      "outputs": [
        {
          "output_type": "stream",
          "name": "stdout",
          "text": [
            "Looking in indexes: https://pypi.org/simple, https://us-python.pkg.dev/colab-wheels/public/simple/\n",
            "Collecting transformers\n",
            "  Downloading transformers-4.26.1-py3-none-any.whl (6.3 MB)\n",
            "\u001b[2K     \u001b[90m━━━━━━━━━━━━━━━━━━━━━━━━━━━━━━━━━━━━━━━━\u001b[0m \u001b[32m6.3/6.3 MB\u001b[0m \u001b[31m66.5 MB/s\u001b[0m eta \u001b[36m0:00:00\u001b[0m\n",
            "\u001b[?25hCollecting tokenizers!=0.11.3,<0.14,>=0.11.1\n",
            "  Downloading tokenizers-0.13.2-cp38-cp38-manylinux_2_17_x86_64.manylinux2014_x86_64.whl (7.6 MB)\n",
            "\u001b[2K     \u001b[90m━━━━━━━━━━━━━━━━━━━━━━━━━━━━━━━━━━━━━━━━\u001b[0m \u001b[32m7.6/7.6 MB\u001b[0m \u001b[31m105.3 MB/s\u001b[0m eta \u001b[36m0:00:00\u001b[0m\n",
            "\u001b[?25hRequirement already satisfied: packaging>=20.0 in /usr/local/lib/python3.8/dist-packages (from transformers) (23.0)\n",
            "Requirement already satisfied: pyyaml>=5.1 in /usr/local/lib/python3.8/dist-packages (from transformers) (6.0)\n",
            "Requirement already satisfied: requests in /usr/local/lib/python3.8/dist-packages (from transformers) (2.25.1)\n",
            "Requirement already satisfied: filelock in /usr/local/lib/python3.8/dist-packages (from transformers) (3.9.0)\n",
            "Requirement already satisfied: tqdm>=4.27 in /usr/local/lib/python3.8/dist-packages (from transformers) (4.64.1)\n",
            "Requirement already satisfied: regex!=2019.12.17 in /usr/local/lib/python3.8/dist-packages (from transformers) (2022.6.2)\n",
            "Requirement already satisfied: numpy>=1.17 in /usr/local/lib/python3.8/dist-packages (from transformers) (1.21.6)\n",
            "Collecting huggingface-hub<1.0,>=0.11.0\n",
            "  Downloading huggingface_hub-0.12.0-py3-none-any.whl (190 kB)\n",
            "\u001b[2K     \u001b[90m━━━━━━━━━━━━━━━━━━━━━━━━━━━━━━━━━━━━━━\u001b[0m \u001b[32m190.3/190.3 KB\u001b[0m \u001b[31m26.0 MB/s\u001b[0m eta \u001b[36m0:00:00\u001b[0m\n",
            "\u001b[?25hRequirement already satisfied: typing-extensions>=3.7.4.3 in /usr/local/lib/python3.8/dist-packages (from huggingface-hub<1.0,>=0.11.0->transformers) (4.4.0)\n",
            "Requirement already satisfied: certifi>=2017.4.17 in /usr/local/lib/python3.8/dist-packages (from requests->transformers) (2022.12.7)\n",
            "Requirement already satisfied: chardet<5,>=3.0.2 in /usr/local/lib/python3.8/dist-packages (from requests->transformers) (4.0.0)\n",
            "Requirement already satisfied: urllib3<1.27,>=1.21.1 in /usr/local/lib/python3.8/dist-packages (from requests->transformers) (1.24.3)\n",
            "Requirement already satisfied: idna<3,>=2.5 in /usr/local/lib/python3.8/dist-packages (from requests->transformers) (2.10)\n",
            "Installing collected packages: tokenizers, huggingface-hub, transformers\n",
            "Successfully installed huggingface-hub-0.12.0 tokenizers-0.13.2 transformers-4.26.1\n"
          ]
        }
      ],
      "source": [
        "!pip install transformers"
      ]
    },
    {
      "cell_type": "code",
      "execution_count": 5,
      "metadata": {
        "id": "zxeeO2kqUwgJ"
      },
      "outputs": [],
      "source": [
        "negative_path = '/content/drive/MyDrive/movie/neg/*.txt'\n",
        "positive_path = '/content/drive/MyDrive/movie/pos/*.txt'"
      ]
    },
    {
      "cell_type": "code",
      "execution_count": 6,
      "metadata": {
        "id": "GWJ9tFogVK3Y"
      },
      "outputs": [],
      "source": [
        "all_neg_files = glob.glob(negative_path)\n",
        "all_pos_files = glob.glob(positive_path)"
      ]
    },
    {
      "cell_type": "code",
      "execution_count": 7,
      "metadata": {
        "id": "x46n9MltYiSP"
      },
      "outputs": [],
      "source": [
        "def create_all_data(files,label):\n",
        "  all_data = []\n",
        "  print(files)\n",
        "  for file_name in files:\n",
        "    try:\n",
        "      with open(file_name) as f:\n",
        "        all_data.append((f.read(),label))\n",
        "    except:\n",
        "      print('')\n",
        "  return all_data"
      ]
    },
    {
      "cell_type": "code",
      "execution_count": 8,
      "metadata": {
        "colab": {
          "base_uri": "https://localhost:8080/"
        },
        "id": "7n4H9W9lZfqN",
        "outputId": "ccaf28f1-e60a-4895-bf52-aeff4356f2c4"
      },
      "outputs": [
        {
          "output_type": "stream",
          "name": "stdout",
          "text": [
            "['/content/drive/MyDrive/movie/neg/cv852_27512.txt', '/content/drive/MyDrive/movie/neg/cv554_14678.txt', '/content/drive/MyDrive/movie/neg/cv395_11761.txt', '/content/drive/MyDrive/movie/neg/cv185_28372.txt', '/content/drive/MyDrive/movie/neg/cv178_14380.txt', '/content/drive/MyDrive/movie/neg/cv257_11856.txt', '/content/drive/MyDrive/movie/neg/cv130_18521.txt', '/content/drive/MyDrive/movie/neg/cv676_22202.txt', '/content/drive/MyDrive/movie/neg/cv587_20532.txt', '/content/drive/MyDrive/movie/neg/cv192_16079.txt', '/content/drive/MyDrive/movie/neg/cv260_15652.txt', '/content/drive/MyDrive/movie/neg/cv910_21930.txt', '/content/drive/MyDrive/movie/neg/cv544_5301.txt', '/content/drive/MyDrive/movie/neg/cv693_19147.txt', '/content/drive/MyDrive/movie/neg/cv578_16825.txt', '/content/drive/MyDrive/movie/neg/cv413_7893.txt', '/content/drive/MyDrive/movie/neg/cv870_18090.txt', '/content/drive/MyDrive/movie/neg/cv474_10682.txt', '/content/drive/MyDrive/movie/neg/cv160_10848.txt', '/content/drive/MyDrive/movie/neg/cv534_15683.txt', '/content/drive/MyDrive/movie/neg/cv504_29120.txt', '/content/drive/MyDrive/movie/neg/cv863_7912.txt', '/content/drive/MyDrive/movie/neg/cv749_18960.txt', '/content/drive/MyDrive/movie/neg/cv722_7571.txt', '/content/drive/MyDrive/movie/neg/cv606_17672.txt', '/content/drive/MyDrive/movie/neg/cv805_21128.txt', '/content/drive/MyDrive/movie/neg/cv687_22207.txt', '/content/drive/MyDrive/movie/neg/cv198_19313.txt', '/content/drive/MyDrive/movie/neg/cv252_24974.txt', '/content/drive/MyDrive/movie/neg/cv545_12848.txt', '/content/drive/MyDrive/movie/neg/cv815_23466.txt', '/content/drive/MyDrive/movie/neg/cv225_29083.txt', '/content/drive/MyDrive/movie/neg/cv318_11146.txt', '/content/drive/MyDrive/movie/neg/cv381_21673.txt', '/content/drive/MyDrive/movie/neg/cv238_14285.txt', '/content/drive/MyDrive/movie/neg/cv760_8977.txt', '/content/drive/MyDrive/movie/neg/cv283_11963.txt', '/content/drive/MyDrive/movie/neg/cv517_20616.txt', '/content/drive/MyDrive/movie/neg/cv164_23451.txt', '/content/drive/MyDrive/movie/neg/cv121_18621.txt', '/content/drive/MyDrive/movie/neg/cv677_18938.txt', '/content/drive/MyDrive/movie/neg/cv025_29825.txt', '/content/drive/MyDrive/movie/neg/cv974_24303.txt', '/content/drive/MyDrive/movie/neg/cv509_17354.txt', '/content/drive/MyDrive/movie/neg/cv365_12442.txt', '/content/drive/MyDrive/movie/neg/cv925_9459.txt', '/content/drive/MyDrive/movie/neg/cv746_10471.txt', '/content/drive/MyDrive/movie/neg/cv887_5306.txt', '/content/drive/MyDrive/movie/neg/cv006_17022.txt', '/content/drive/MyDrive/movie/neg/cv062_24556.txt', '/content/drive/MyDrive/movie/neg/cv572_20053.txt', '/content/drive/MyDrive/movie/neg/cv840_18033.txt', '/content/drive/MyDrive/movie/neg/cv345_9966.txt', '/content/drive/MyDrive/movie/neg/cv614_11320.txt', '/content/drive/MyDrive/movie/neg/cv994_13229.txt', '/content/drive/MyDrive/movie/neg/cv926_18471.txt', '/content/drive/MyDrive/movie/neg/cv340_14776.txt', '/content/drive/MyDrive/movie/neg/cv493_14135.txt', '/content/drive/MyDrive/movie/neg/cv456_20370.txt', '/content/drive/MyDrive/movie/neg/cv329_29293.txt', '/content/drive/MyDrive/movie/neg/cv273_28961.txt', '/content/drive/MyDrive/movie/neg/cv305_9937.txt', '/content/drive/MyDrive/movie/neg/cv511_10360.txt', '/content/drive/MyDrive/movie/neg/cv773_20264.txt', '/content/drive/MyDrive/movie/neg/cv380_8164.txt', '/content/drive/MyDrive/movie/neg/cv734_22821.txt', '/content/drive/MyDrive/movie/neg/cv622_8583.txt', '/content/drive/MyDrive/movie/neg/cv556_16563.txt', '/content/drive/MyDrive/movie/neg/cv940_18935.txt', '/content/drive/MyDrive/movie/neg/cv895_22200.txt', '/content/drive/MyDrive/movie/neg/cv923_11951.txt', '/content/drive/MyDrive/movie/neg/cv658_11186.txt', '/content/drive/MyDrive/movie/neg/cv646_16817.txt', '/content/drive/MyDrive/movie/neg/cv628_20758.txt', '/content/drive/MyDrive/movie/neg/cv761_13769.txt', '/content/drive/MyDrive/movie/neg/cv948_25870.txt', '/content/drive/MyDrive/movie/neg/cv355_18174.txt', '/content/drive/MyDrive/movie/neg/cv535_21183.txt', '/content/drive/MyDrive/movie/neg/cv962_9813.txt', '/content/drive/MyDrive/movie/neg/cv031_19540.txt', '/content/drive/MyDrive/movie/neg/cv429_7937.txt', '/content/drive/MyDrive/movie/neg/cv635_0984.txt', '/content/drive/MyDrive/movie/neg/cv453_10911.txt', '/content/drive/MyDrive/movie/neg/cv028_26964.txt', '/content/drive/MyDrive/movie/neg/cv833_11961.txt', '/content/drive/MyDrive/movie/neg/cv727_5006.txt', '/content/drive/MyDrive/movie/neg/cv175_7375.txt', '/content/drive/MyDrive/movie/neg/cv995_23113.txt', '/content/drive/MyDrive/movie/neg/cv083_25491.txt', '/content/drive/MyDrive/movie/neg/cv482_11233.txt', '/content/drive/MyDrive/movie/neg/cv303_27366.txt', '/content/drive/MyDrive/movie/neg/cv459_21834.txt', '/content/drive/MyDrive/movie/neg/cv513_7236.txt', '/content/drive/MyDrive/movie/neg/cv868_12799.txt', '/content/drive/MyDrive/movie/neg/cv347_14722.txt', '/content/drive/MyDrive/movie/neg/cv799_19812.txt', '/content/drive/MyDrive/movie/neg/cv293_29731.txt', '/content/drive/MyDrive/movie/neg/cv613_23104.txt', '/content/drive/MyDrive/movie/neg/cv399_28593.txt', '/content/drive/MyDrive/movie/neg/cv837_27232.txt', '/content/drive/MyDrive/movie/neg/cv946_20084.txt', '/content/drive/MyDrive/movie/neg/cv292_7804.txt', '/content/drive/MyDrive/movie/neg/cv432_15873.txt', '/content/drive/MyDrive/movie/neg/cv372_6654.txt', '/content/drive/MyDrive/movie/neg/cv678_14887.txt', '/content/drive/MyDrive/movie/neg/cv167_18094.txt', '/content/drive/MyDrive/movie/neg/cv435_24355.txt', '/content/drive/MyDrive/movie/neg/cv247_14668.txt', '/content/drive/MyDrive/movie/neg/cv782_21078.txt', '/content/drive/MyDrive/movie/neg/cv506_17521.txt', '/content/drive/MyDrive/movie/neg/cv573_29384.txt', '/content/drive/MyDrive/movie/neg/cv243_22164.txt', '/content/drive/MyDrive/movie/neg/cv460_11723.txt', '/content/drive/MyDrive/movie/neg/cv231_11028.txt', '/content/drive/MyDrive/movie/neg/cv104_19176.txt', '/content/drive/MyDrive/movie/neg/cv510_24758.txt', '/content/drive/MyDrive/movie/neg/cv397_28890.txt', '/content/drive/MyDrive/movie/neg/cv884_15230.txt', '/content/drive/MyDrive/movie/neg/cv698_16930.txt', '/content/drive/MyDrive/movie/neg/cv481_7930.txt', '/content/drive/MyDrive/movie/neg/cv753_11812.txt', '/content/drive/MyDrive/movie/neg/cv552_0150.txt', '/content/drive/MyDrive/movie/neg/cv411_16799.txt', '/content/drive/MyDrive/movie/neg/cv428_12202.txt', '/content/drive/MyDrive/movie/neg/cv362_16985.txt', '/content/drive/MyDrive/movie/neg/cv998_15691.txt', '/content/drive/MyDrive/movie/neg/cv869_24782.txt', '/content/drive/MyDrive/movie/neg/cv396_19127.txt', '/content/drive/MyDrive/movie/neg/cv831_16325.txt', '/content/drive/MyDrive/movie/neg/cv911_21695.txt', '/content/drive/MyDrive/movie/neg/cv542_20359.txt', '/content/drive/MyDrive/movie/neg/cv461_21124.txt', '/content/drive/MyDrive/movie/neg/cv407_23928.txt', '/content/drive/MyDrive/movie/neg/cv505_12926.txt', '/content/drive/MyDrive/movie/neg/cv078_16506.txt', '/content/drive/MyDrive/movie/neg/cv523_18285.txt', '/content/drive/MyDrive/movie/neg/cv768_12709.txt', '/content/drive/MyDrive/movie/neg/cv052_29318.txt', '/content/drive/MyDrive/movie/neg/cv241_24602.txt', '/content/drive/MyDrive/movie/neg/cv793_15235.txt', '/content/drive/MyDrive/movie/neg/cv855_22134.txt', '/content/drive/MyDrive/movie/neg/cv112_12178.txt', '/content/drive/MyDrive/movie/neg/cv744_10091.txt', '/content/drive/MyDrive/movie/neg/cv839_22807.txt', '/content/drive/MyDrive/movie/neg/cv349_15032.txt', '/content/drive/MyDrive/movie/neg/cv786_23608.txt', '/content/drive/MyDrive/movie/neg/cv684_12727.txt', '/content/drive/MyDrive/movie/neg/cv376_20883.txt', '/content/drive/MyDrive/movie/neg/cv044_18429.txt', '/content/drive/MyDrive/movie/neg/cv688_7884.txt', '/content/drive/MyDrive/movie/neg/cv466_20092.txt', '/content/drive/MyDrive/movie/neg/cv636_16954.txt', '/content/drive/MyDrive/movie/neg/cv171_15164.txt', '/content/drive/MyDrive/movie/neg/cv037_19798.txt', '/content/drive/MyDrive/movie/neg/cv288_20212.txt', '/content/drive/MyDrive/movie/neg/cv301_13010.txt', '/content/drive/MyDrive/movie/neg/cv589_12853.txt', '/content/drive/MyDrive/movie/neg/cv217_28707.txt', '/content/drive/MyDrive/movie/neg/cv109_22599.txt', '/content/drive/MyDrive/movie/neg/cv999_14636.txt', '/content/drive/MyDrive/movie/neg/cv011_13044.txt', '/content/drive/MyDrive/movie/neg/cv079_12766.txt', '/content/drive/MyDrive/movie/neg/cv239_29828.txt', '/content/drive/MyDrive/movie/neg/cv233_17614.txt', '/content/drive/MyDrive/movie/neg/cv118_28837.txt', '/content/drive/MyDrive/movie/neg/cv495_16121.txt', '/content/drive/MyDrive/movie/neg/cv019_16117.txt', '/content/drive/MyDrive/movie/neg/cv209_28973.txt', '/content/drive/MyDrive/movie/neg/cv189_24248.txt', '/content/drive/MyDrive/movie/neg/cv103_11943.txt', '/content/drive/MyDrive/movie/neg/cv540_3092.txt', '/content/drive/MyDrive/movie/neg/cv654_19345.txt', '/content/drive/MyDrive/movie/neg/cv643_29282.txt', '/content/drive/MyDrive/movie/neg/cv370_5338.txt', '/content/drive/MyDrive/movie/neg/cv111_12253.txt', '/content/drive/MyDrive/movie/neg/cv947_11316.txt', '/content/drive/MyDrive/movie/neg/cv689_13701.txt', '/content/drive/MyDrive/movie/neg/cv066_11668.txt', '/content/drive/MyDrive/movie/neg/cv255_15267.txt', '/content/drive/MyDrive/movie/neg/cv807_23024.txt', '/content/drive/MyDrive/movie/neg/cv945_13012.txt', '/content/drive/MyDrive/movie/neg/cv108_17064.txt', '/content/drive/MyDrive/movie/neg/cv116_28734.txt', '/content/drive/MyDrive/movie/neg/cv865_28796.txt', '/content/drive/MyDrive/movie/neg/cv063_28852.txt', '/content/drive/MyDrive/movie/neg/cv942_18509.txt', '/content/drive/MyDrive/movie/neg/cv539_21865.txt', '/content/drive/MyDrive/movie/neg/cv667_19672.txt', '/content/drive/MyDrive/movie/neg/cv596_4367.txt', '/content/drive/MyDrive/movie/neg/cv790_16202.txt', '/content/drive/MyDrive/movie/neg/cv633_29730.txt', '/content/drive/MyDrive/movie/neg/cv581_20790.txt', '/content/drive/MyDrive/movie/neg/cv857_17527.txt', '/content/drive/MyDrive/movie/neg/cv294_12695.txt', '/content/drive/MyDrive/movie/neg/cv972_26837.txt', '/content/drive/MyDrive/movie/neg/cv519_16239.txt', '/content/drive/MyDrive/movie/neg/cv320_9693.txt', '/content/drive/MyDrive/movie/neg/cv485_26879.txt', '/content/drive/MyDrive/movie/neg/cv331_8656.txt', '/content/drive/MyDrive/movie/neg/cv809_5012.txt', '/content/drive/MyDrive/movie/neg/cv806_9405.txt', '/content/drive/MyDrive/movie/neg/cv598_18184.txt', '/content/drive/MyDrive/movie/neg/cv549_22771.txt', '/content/drive/MyDrive/movie/neg/cv015_29356.txt', '/content/drive/MyDrive/movie/neg/cv871_25971.txt', '/content/drive/MyDrive/movie/neg/cv611_2253.txt', '/content/drive/MyDrive/movie/neg/cv022_14227.txt', '/content/drive/MyDrive/movie/neg/cv703_17948.txt', '/content/drive/MyDrive/movie/neg/cv026_29229.txt', '/content/drive/MyDrive/movie/neg/cv796_17243.txt', '/content/drive/MyDrive/movie/neg/cv754_7709.txt', '/content/drive/MyDrive/movie/neg/cv139_14236.txt', '/content/drive/MyDrive/movie/neg/cv797_7245.txt', '/content/drive/MyDrive/movie/neg/cv512_17618.txt', '/content/drive/MyDrive/movie/neg/cv328_10908.txt', '/content/drive/MyDrive/movie/neg/cv973_10171.txt', '/content/drive/MyDrive/movie/neg/cv013_10494.txt', '/content/drive/MyDrive/movie/neg/cv845_15886.txt', '/content/drive/MyDrive/movie/neg/cv070_13249.txt', '/content/drive/MyDrive/movie/neg/cv841_3367.txt', '/content/drive/MyDrive/movie/neg/cv915_9342.txt', '/content/drive/MyDrive/movie/neg/cv996_12447.txt', '/content/drive/MyDrive/movie/neg/cv137_17020.txt', '/content/drive/MyDrive/movie/neg/cv240_15948.txt', '/content/drive/MyDrive/movie/neg/cv533_9843.txt', '/content/drive/MyDrive/movie/neg/cv961_5578.txt', '/content/drive/MyDrive/movie/neg/cv463_10846.txt', '/content/drive/MyDrive/movie/neg/cv149_17084.txt', '/content/drive/MyDrive/movie/neg/cv912_5562.txt', '/content/drive/MyDrive/movie/neg/cv045_25077.txt', '/content/drive/MyDrive/movie/neg/cv462_20788.txt', '/content/drive/MyDrive/movie/neg/cv220_28906.txt', '/content/drive/MyDrive/movie/neg/cv737_28733.txt', '/content/drive/MyDrive/movie/neg/cv092_27987.txt', '/content/drive/MyDrive/movie/neg/cv039_5963.txt', '/content/drive/MyDrive/movie/neg/cv821_29283.txt', '/content/drive/MyDrive/movie/neg/cv077_23172.txt', '/content/drive/MyDrive/movie/neg/cv106_18379.txt', '/content/drive/MyDrive/movie/neg/cv516_12117.txt', '/content/drive/MyDrive/movie/neg/cv853_29119.txt', '/content/drive/MyDrive/movie/neg/cv983_24219.txt', '/content/drive/MyDrive/movie/neg/cv324_7502.txt', '/content/drive/MyDrive/movie/neg/cv147_22625.txt', '/content/drive/MyDrive/movie/neg/cv314_16095.txt', '/content/drive/MyDrive/movie/neg/cv932_14854.txt', '/content/drive/MyDrive/movie/neg/cv502_10970.txt', '/content/drive/MyDrive/movie/neg/cv296_13146.txt', '/content/drive/MyDrive/movie/neg/cv086_19488.txt', '/content/drive/MyDrive/movie/neg/cv751_17208.txt', '/content/drive/MyDrive/movie/neg/cv279_19452.txt', '/content/drive/MyDrive/movie/neg/cv846_29359.txt', '/content/drive/MyDrive/movie/neg/cv590_20712.txt', '/content/drive/MyDrive/movie/neg/cv901_11934.txt', '/content/drive/MyDrive/movie/neg/cv570_28960.txt', '/content/drive/MyDrive/movie/neg/cv503_11196.txt', '/content/drive/MyDrive/movie/neg/cv875_5622.txt', '/content/drive/MyDrive/movie/neg/cv959_16218.txt', '/content/drive/MyDrive/movie/neg/cv673_25874.txt', '/content/drive/MyDrive/movie/neg/cv726_4365.txt', '/content/drive/MyDrive/movie/neg/cv878_17204.txt', '/content/drive/MyDrive/movie/neg/cv931_18783.txt', '/content/drive/MyDrive/movie/neg/cv358_11557.txt', '/content/drive/MyDrive/movie/neg/cv507_9509.txt', '/content/drive/MyDrive/movie/neg/cv009_29417.txt', '/content/drive/MyDrive/movie/neg/cv426_10976.txt', '/content/drive/MyDrive/movie/neg/cv772_12971.txt', '/content/drive/MyDrive/movie/neg/cv484_26169.txt', '/content/drive/MyDrive/movie/neg/cv369_14245.txt', '/content/drive/MyDrive/movie/neg/cv122_7891.txt', '/content/drive/MyDrive/movie/neg/cv890_3515.txt', '/content/drive/MyDrive/movie/neg/cv764_12701.txt', '/content/drive/MyDrive/movie/neg/cv975_11920.txt', '/content/drive/MyDrive/movie/neg/cv342_20917.txt', '/content/drive/MyDrive/movie/neg/cv017_23487.txt', '/content/drive/MyDrive/movie/neg/cv827_19479.txt', '/content/drive/MyDrive/movie/neg/cv756_23676.txt', '/content/drive/MyDrive/movie/neg/cv670_2666.txt', '/content/drive/MyDrive/movie/neg/cv333_9443.txt', '/content/drive/MyDrive/movie/neg/cv788_26409.txt', '/content/drive/MyDrive/movie/neg/cv492_19370.txt', '/content/drive/MyDrive/movie/neg/cv056_14663.txt', '/content/drive/MyDrive/movie/neg/cv298_24487.txt', '/content/drive/MyDrive/movie/neg/cv140_7963.txt', '/content/drive/MyDrive/movie/neg/cv325_18330.txt', '/content/drive/MyDrive/movie/neg/cv896_17819.txt', '/content/drive/MyDrive/movie/neg/cv916_17034.txt', '/content/drive/MyDrive/movie/neg/cv844_13890.txt', '/content/drive/MyDrive/movie/neg/cv645_17078.txt', '/content/drive/MyDrive/movie/neg/cv859_15689.txt', '/content/drive/MyDrive/movie/neg/cv029_19943.txt', '/content/drive/MyDrive/movie/neg/cv457_19546.txt', '/content/drive/MyDrive/movie/neg/cv124_3903.txt', '/content/drive/MyDrive/movie/neg/cv928_9478.txt', '/content/drive/MyDrive/movie/neg/cv886_19210.txt', '/content/drive/MyDrive/movie/neg/cv211_9955.txt', '/content/drive/MyDrive/movie/neg/cv674_11593.txt', '/content/drive/MyDrive/movie/neg/cv383_14662.txt', '/content/drive/MyDrive/movie/neg/cv319_16459.txt', '/content/drive/MyDrive/movie/neg/cv490_18986.txt', '/content/drive/MyDrive/movie/neg/cv035_3343.txt', '/content/drive/MyDrive/movie/neg/cv595_26420.txt', '/content/drive/MyDrive/movie/neg/cv227_25406.txt', '/content/drive/MyDrive/movie/neg/cv363_29273.txt', '/content/drive/MyDrive/movie/neg/cv464_17076.txt', '/content/drive/MyDrive/movie/neg/cv559_0057.txt', '/content/drive/MyDrive/movie/neg/cv661_25780.txt', '/content/drive/MyDrive/movie/neg/cv577_28220.txt', '/content/drive/MyDrive/movie/neg/cv843_17054.txt', '/content/drive/MyDrive/movie/neg/cv386_10229.txt', '/content/drive/MyDrive/movie/neg/cv425_8603.txt', '/content/drive/MyDrive/movie/neg/cv776_21934.txt', '/content/drive/MyDrive/movie/neg/cv359_6751.txt', '/content/drive/MyDrive/movie/neg/cv316_5972.txt', '/content/drive/MyDrive/movie/neg/cv335_16299.txt', '/content/drive/MyDrive/movie/neg/cv933_24953.txt', '/content/drive/MyDrive/movie/neg/cv008_29326.txt', '/content/drive/MyDrive/movie/neg/cv938_10706.txt', '/content/drive/MyDrive/movie/neg/cv623_16988.txt', '/content/drive/MyDrive/movie/neg/cv414_11161.txt', '/content/drive/MyDrive/movie/neg/cv216_20165.txt', '/content/drive/MyDrive/movie/neg/cv854_18955.txt', '/content/drive/MyDrive/movie/neg/cv557_12237.txt', '/content/drive/MyDrive/movie/neg/cv222_18720.txt', '/content/drive/MyDrive/movie/neg/cv997_5152.txt', '/content/drive/MyDrive/movie/neg/cv825_5168.txt', '/content/drive/MyDrive/movie/neg/cv360_8927.txt', '/content/drive/MyDrive/movie/neg/cv767_15673.txt', '/content/drive/MyDrive/movie/neg/cv439_17633.txt', '/content/drive/MyDrive/movie/neg/cv361_28738.txt', '/content/drive/MyDrive/movie/neg/cv937_9816.txt', '/content/drive/MyDrive/movie/neg/cv420_28631.txt', '/content/drive/MyDrive/movie/neg/cv494_18689.txt', '/content/drive/MyDrive/movie/neg/cv681_9744.txt', '/content/drive/MyDrive/movie/neg/cv829_21725.txt', '/content/drive/MyDrive/movie/neg/cv986_15092.txt', '/content/drive/MyDrive/movie/neg/cv888_25678.txt', '/content/drive/MyDrive/movie/neg/cv226_26692.txt', '/content/drive/MyDrive/movie/neg/cv486_9788.txt', '/content/drive/MyDrive/movie/neg/cv547_18043.txt', '/content/drive/MyDrive/movie/neg/cv203_19052.txt', '/content/drive/MyDrive/movie/neg/cv950_13478.txt', '/content/drive/MyDrive/movie/neg/cv276_17126.txt', '/content/drive/MyDrive/movie/neg/cv188_20687.txt', '/content/drive/MyDrive/movie/neg/cv382_8393.txt', '/content/drive/MyDrive/movie/neg/cv949_21565.txt', '/content/drive/MyDrive/movie/neg/cv731_3968.txt', '/content/drive/MyDrive/movie/neg/cv879_16585.txt', '/content/drive/MyDrive/movie/neg/cv832_24713.txt', '/content/drive/MyDrive/movie/neg/cv326_14777.txt', '/content/drive/MyDrive/movie/neg/cv627_12603.txt', '/content/drive/MyDrive/movie/neg/cv115_26443.txt', '/content/drive/MyDrive/movie/neg/cv308_5079.txt', '/content/drive/MyDrive/movie/neg/cv907_3193.txt', '/content/drive/MyDrive/movie/neg/cv445_26683.txt', '/content/drive/MyDrive/movie/neg/cv630_10152.txt', '/content/drive/MyDrive/movie/neg/cv804_11763.txt', '/content/drive/MyDrive/movie/neg/cv452_5179.txt', '/content/drive/MyDrive/movie/neg/cv136_12384.txt', '/content/drive/MyDrive/movie/neg/cv451_11502.txt', '/content/drive/MyDrive/movie/neg/cv708_28539.txt', '/content/drive/MyDrive/movie/neg/cv224_18875.txt', '/content/drive/MyDrive/movie/neg/cv351_17029.txt', '/content/drive/MyDrive/movie/neg/cv055_8926.txt', '/content/drive/MyDrive/movie/neg/cv934_20426.txt', '/content/drive/MyDrive/movie/neg/cv680_10533.txt', '/content/drive/MyDrive/movie/neg/cv618_9469.txt', '/content/drive/MyDrive/movie/neg/cv501_12675.txt', '/content/drive/MyDrive/movie/neg/cv909_9973.txt', '/content/drive/MyDrive/movie/neg/cv317_25111.txt', '/content/drive/MyDrive/movie/neg/cv117_25625.txt', '/content/drive/MyDrive/movie/neg/cv679_28221.txt', '/content/drive/MyDrive/movie/neg/cv752_25330.txt', '/content/drive/MyDrive/movie/neg/cv254_5870.txt', '/content/drive/MyDrive/movie/neg/cv536_27221.txt', '/content/drive/MyDrive/movie/neg/cv344_5376.txt', '/content/drive/MyDrive/movie/neg/cv738_10287.txt', '/content/drive/MyDrive/movie/neg/cv489_19046.txt', '/content/drive/MyDrive/movie/neg/cv732_13092.txt', '/content/drive/MyDrive/movie/neg/cv491_12992.txt', '/content/drive/MyDrive/movie/neg/cv476_18402.txt', '/content/drive/MyDrive/movie/neg/cv081_18241.txt', '/content/drive/MyDrive/movie/neg/cv405_21868.txt', '/content/drive/MyDrive/movie/neg/cv002_17424.txt', '/content/drive/MyDrive/movie/neg/cv088_25274.txt', '/content/drive/MyDrive/movie/neg/cv475_22978.txt', '/content/drive/MyDrive/movie/neg/cv822_21545.txt', '/content/drive/MyDrive/movie/neg/cv700_23163.txt', '/content/drive/MyDrive/movie/neg/cv541_28683.txt', '/content/drive/MyDrive/movie/neg/cv874_12182.txt', '/content/drive/MyDrive/movie/neg/cv421_9752.txt', '/content/drive/MyDrive/movie/neg/cv448_16409.txt', '/content/drive/MyDrive/movie/neg/cv705_11973.txt', '/content/drive/MyDrive/movie/neg/cv779_18989.txt', '/content/drive/MyDrive/movie/neg/cv128_29444.txt', '/content/drive/MyDrive/movie/neg/cv016_4348.txt', '/content/drive/MyDrive/movie/neg/cv469_21998.txt', '/content/drive/MyDrive/movie/neg/cv824_9335.txt', '/content/drive/MyDrive/movie/neg/cv781_5358.txt', '/content/drive/MyDrive/movie/neg/cv371_8197.txt', '/content/drive/MyDrive/movie/neg/cv393_29234.txt', '/content/drive/MyDrive/movie/neg/cv201_7421.txt', '/content/drive/MyDrive/movie/neg/cv090_0049.txt', '/content/drive/MyDrive/movie/neg/cv600_25043.txt', '/content/drive/MyDrive/movie/neg/cv956_12547.txt', '/content/drive/MyDrive/movie/neg/cv146_19587.txt', '/content/drive/MyDrive/movie/neg/cv765_20429.txt', '/content/drive/MyDrive/movie/neg/cv180_17823.txt', '/content/drive/MyDrive/movie/neg/cv207_29141.txt', '/content/drive/MyDrive/movie/neg/cv792_3257.txt', '/content/drive/MyDrive/movie/neg/cv172_12037.txt', '/content/drive/MyDrive/movie/neg/cv976_10724.txt', '/content/drive/MyDrive/movie/neg/cv801_26335.txt', '/content/drive/MyDrive/movie/neg/cv179_9533.txt', '/content/drive/MyDrive/movie/neg/cv591_24887.txt', '/content/drive/MyDrive/movie/neg/cv275_28725.txt', '/content/drive/MyDrive/movie/neg/cv743_17023.txt', '/content/drive/MyDrive/movie/neg/cv348_19207.txt', '/content/drive/MyDrive/movie/neg/cv143_21158.txt', '/content/drive/MyDrive/movie/neg/cv548_18944.txt', '/content/drive/MyDrive/movie/neg/cv099_11189.txt', '/content/drive/MyDrive/movie/neg/cv709_11173.txt', '/content/drive/MyDrive/movie/neg/cv562_10847.txt', '/content/drive/MyDrive/movie/neg/cv735_20218.txt', '/content/drive/MyDrive/movie/neg/cv564_12011.txt', '/content/drive/MyDrive/movie/neg/cv210_9557.txt', '/content/drive/MyDrive/movie/neg/cv639_10797.txt', '/content/drive/MyDrive/movie/neg/cv487_11058.txt', '/content/drive/MyDrive/movie/neg/cv285_18186.txt', '/content/drive/MyDrive/movie/neg/cv266_26644.txt', '/content/drive/MyDrive/movie/neg/cv561_9484.txt', '/content/drive/MyDrive/movie/neg/cv155_7845.txt', '/content/drive/MyDrive/movie/neg/cv803_8584.txt', '/content/drive/MyDrive/movie/neg/cv558_29376.txt', '/content/drive/MyDrive/movie/neg/cv593_11931.txt', '/content/drive/MyDrive/movie/neg/cv200_29006.txt', '/content/drive/MyDrive/movie/neg/cv114_19501.txt', '/content/drive/MyDrive/movie/neg/cv568_17065.txt', '/content/drive/MyDrive/movie/neg/cv823_17055.txt', '/content/drive/MyDrive/movie/neg/cv763_16486.txt', '/content/drive/MyDrive/movie/neg/cv417_14653.txt', '/content/drive/MyDrive/movie/neg/cv692_17026.txt', '/content/drive/MyDrive/movie/neg/cv050_12128.txt', '/content/drive/MyDrive/movie/neg/cv430_18662.txt', '/content/drive/MyDrive/movie/neg/cv538_28485.txt', '/content/drive/MyDrive/movie/neg/cv384_18536.txt', '/content/drive/MyDrive/movie/neg/cv599_22197.txt', '/content/drive/MyDrive/movie/neg/cv992_12806.txt', '/content/drive/MyDrive/movie/neg/cv378_21982.txt', '/content/drive/MyDrive/movie/neg/cv323_29633.txt', '/content/drive/MyDrive/movie/neg/cv543_5107.txt', '/content/drive/MyDrive/movie/neg/cv005_29357.txt', '/content/drive/MyDrive/movie/neg/cv157_29302.txt', '/content/drive/MyDrive/movie/neg/cv652_15653.txt', '/content/drive/MyDrive/movie/neg/cv449_9126.txt', '/content/drive/MyDrive/movie/neg/cv385_29621.txt', '/content/drive/MyDrive/movie/neg/cv588_14467.txt', '/content/drive/MyDrive/movie/neg/cv034_29446.txt', '/content/drive/MyDrive/movie/neg/cv637_13682.txt', '/content/drive/MyDrive/movie/neg/cv892_18788.txt', '/content/drive/MyDrive/movie/neg/cv471_18405.txt', '/content/drive/MyDrive/movie/neg/cv073_23039.txt', '/content/drive/MyDrive/movie/neg/cv531_26838.txt', '/content/drive/MyDrive/movie/neg/cv893_26731.txt', '/content/drive/MyDrive/movie/neg/cv899_17812.txt', '/content/drive/MyDrive/movie/neg/cv271_15364.txt', '/content/drive/MyDrive/movie/neg/cv766_7983.txt', '/content/drive/MyDrive/movie/neg/cv101_10537.txt', '/content/drive/MyDrive/movie/neg/cv249_12674.txt', '/content/drive/MyDrive/movie/neg/cv669_24318.txt', '/content/drive/MyDrive/movie/neg/cv594_11945.txt', '/content/drive/MyDrive/movie/neg/cv555_25047.txt', '/content/drive/MyDrive/movie/neg/cv638_29394.txt', '/content/drive/MyDrive/movie/neg/cv280_8651.txt', '/content/drive/MyDrive/movie/neg/cv024_7033.txt', '/content/drive/MyDrive/movie/neg/cv269_23018.txt', '/content/drive/MyDrive/movie/neg/cv757_10668.txt', '/content/drive/MyDrive/movie/neg/cv366_10709.txt', '/content/drive/MyDrive/movie/neg/cv120_3793.txt', '/content/drive/MyDrive/movie/neg/cv812_19051.txt', '/content/drive/MyDrive/movie/neg/cv800_13494.txt', '/content/drive/MyDrive/movie/neg/cv373_21872.txt', '/content/drive/MyDrive/movie/neg/cv278_14533.txt', '/content/drive/MyDrive/movie/neg/cv304_28489.txt', '/content/drive/MyDrive/movie/neg/cv521_1730.txt', '/content/drive/MyDrive/movie/neg/cv245_8938.txt', '/content/drive/MyDrive/movie/neg/cv085_15286.txt', '/content/drive/MyDrive/movie/neg/cv202_11382.txt', '/content/drive/MyDrive/movie/neg/cv891_6035.txt', '/content/drive/MyDrive/movie/neg/cv268_20288.txt', '/content/drive/MyDrive/movie/neg/cv736_24947.txt', '/content/drive/MyDrive/movie/neg/cv332_17997.txt', '/content/drive/MyDrive/movie/neg/cv236_12427.txt', '/content/drive/MyDrive/movie/neg/cv053_23117.txt', '/content/drive/MyDrive/movie/neg/cv634_11989.txt', '/content/drive/MyDrive/movie/neg/cv980_11851.txt', '/content/drive/MyDrive/movie/neg/cv785_23748.txt', '/content/drive/MyDrive/movie/neg/cv049_21917.txt', '/content/drive/MyDrive/movie/neg/cv337_29061.txt', '/content/drive/MyDrive/movie/neg/cv830_5778.txt', '/content/drive/MyDrive/movie/neg/cv446_12209.txt', '/content/drive/MyDrive/movie/neg/cv182_7791.txt', '/content/drive/MyDrive/movie/neg/cv813_6649.txt', '/content/drive/MyDrive/movie/neg/cv858_20266.txt', '/content/drive/MyDrive/movie/neg/cv170_29808.txt', '/content/drive/MyDrive/movie/neg/cv338_9183.txt', '/content/drive/MyDrive/movie/neg/cv867_18362.txt', '/content/drive/MyDrive/movie/neg/cv706_25883.txt', '/content/drive/MyDrive/movie/neg/cv919_18155.txt', '/content/drive/MyDrive/movie/neg/cv991_19973.txt', '/content/drive/MyDrive/movie/neg/cv110_27832.txt', '/content/drive/MyDrive/movie/neg/cv905_28965.txt', '/content/drive/MyDrive/movie/neg/cv033_25680.txt', '/content/drive/MyDrive/movie/neg/cv780_8467.txt', '/content/drive/MyDrive/movie/neg/cv051_10751.txt', '/content/drive/MyDrive/movie/neg/cv981_16679.txt', '/content/drive/MyDrive/movie/neg/cv603_18885.txt', '/content/drive/MyDrive/movie/neg/cv691_5090.txt', '/content/drive/MyDrive/movie/neg/cv971_11790.txt', '/content/drive/MyDrive/movie/neg/cv969_14760.txt', '/content/drive/MyDrive/movie/neg/cv929_1841.txt', '/content/drive/MyDrive/movie/neg/cv473_7869.txt', '/content/drive/MyDrive/movie/neg/cv499_11407.txt', '/content/drive/MyDrive/movie/neg/cv616_29187.txt', '/content/drive/MyDrive/movie/neg/cv770_11061.txt', '/content/drive/MyDrive/movie/neg/cv720_5383.txt', '/content/drive/MyDrive/movie/neg/cv440_16891.txt', '/content/drive/MyDrive/movie/neg/cv604_23339.txt', '/content/drive/MyDrive/movie/neg/cv686_15553.txt', '/content/drive/MyDrive/movie/neg/cv389_9611.txt', '/content/drive/MyDrive/movie/neg/cv642_29788.txt', '/content/drive/MyDrive/movie/neg/cv671_5164.txt', '/content/drive/MyDrive/movie/neg/cv480_21195.txt', '/content/drive/MyDrive/movie/neg/cv291_26844.txt', '/content/drive/MyDrive/movie/neg/cv699_7773.txt', '/content/drive/MyDrive/movie/neg/cv989_17297.txt', '/content/drive/MyDrive/movie/neg/cv259_11827.txt', '/content/drive/MyDrive/movie/neg/cv882_10042.txt', '/content/drive/MyDrive/movie/neg/cv129_18373.txt', '/content/drive/MyDrive/movie/neg/cv719_5581.txt', '/content/drive/MyDrive/movie/neg/cv860_15520.txt', '/content/drive/MyDrive/movie/neg/cv251_23901.txt', '/content/drive/MyDrive/movie/neg/cv881_14767.txt', '/content/drive/MyDrive/movie/neg/cv289_6239.txt', '/content/drive/MyDrive/movie/neg/cv162_10977.txt', '/content/drive/MyDrive/movie/neg/cv357_14710.txt', '/content/drive/MyDrive/movie/neg/cv530_17949.txt', '/content/drive/MyDrive/movie/neg/cv097_26081.txt', '/content/drive/MyDrive/movie/neg/cv113_24354.txt', '/content/drive/MyDrive/movie/neg/cv769_8565.txt', '/content/drive/MyDrive/movie/neg/cv985_5964.txt', '/content/drive/MyDrive/movie/neg/cv918_27080.txt', '/content/drive/MyDrive/movie/neg/cv683_13047.txt', '/content/drive/MyDrive/movie/neg/cv631_4782.txt', '/content/drive/MyDrive/movie/neg/cv913_29127.txt', '/content/drive/MyDrive/movie/neg/cv567_29420.txt', '/content/drive/MyDrive/movie/neg/cv537_13516.txt', '/content/drive/MyDrive/movie/neg/cv075_6250.txt', '/content/drive/MyDrive/movie/neg/cv651_11120.txt', '/content/drive/MyDrive/movie/neg/cv069_11613.txt', '/content/drive/MyDrive/movie/neg/cv660_23140.txt', '/content/drive/MyDrive/movie/neg/cv733_9891.txt', '/content/drive/MyDrive/movie/neg/cv820_24157.txt', '/content/drive/MyDrive/movie/neg/cv675_22871.txt', '/content/drive/MyDrive/movie/neg/cv775_17966.txt', '/content/drive/MyDrive/movie/neg/cv575_22598.txt', '/content/drive/MyDrive/movie/neg/cv624_11601.txt', '/content/drive/MyDrive/movie/neg/cv262_13812.txt', '/content/drive/MyDrive/movie/neg/cv713_29002.txt', '/content/drive/MyDrive/movie/neg/cv023_13847.txt', '/content/drive/MyDrive/movie/neg/cv404_21805.txt', '/content/drive/MyDrive/movie/neg/cv741_12765.txt', '/content/drive/MyDrive/movie/neg/cv046_10613.txt', '/content/drive/MyDrive/movie/neg/cv080_14899.txt', '/content/drive/MyDrive/movie/neg/cv649_13947.txt', '/content/drive/MyDrive/movie/neg/cv876_9633.txt', '/content/drive/MyDrive/movie/neg/cv632_9704.txt', '/content/drive/MyDrive/movie/neg/cv187_14112.txt', '/content/drive/MyDrive/movie/neg/cv864_3087.txt', '/content/drive/MyDrive/movie/neg/cv877_29132.txt', '/content/drive/MyDrive/movie/neg/cv394_5311.txt', '/content/drive/MyDrive/movie/neg/cv580_15681.txt', '/content/drive/MyDrive/movie/neg/cv690_5425.txt', '/content/drive/MyDrive/movie/neg/cv415_23674.txt', '/content/drive/MyDrive/movie/neg/cv441_15276.txt', '/content/drive/MyDrive/movie/neg/cv281_24711.txt', '/content/drive/MyDrive/movie/neg/cv205_9676.txt', '/content/drive/MyDrive/movie/neg/cv392_12238.txt', '/content/drive/MyDrive/movie/neg/cv583_29465.txt', '/content/drive/MyDrive/movie/neg/cv412_25254.txt', '/content/drive/MyDrive/movie/neg/cv520_13297.txt', '/content/drive/MyDrive/movie/neg/cv873_19937.txt', '/content/drive/MyDrive/movie/neg/cv327_21743.txt', '/content/drive/MyDrive/movie/neg/cv310_14568.txt', '/content/drive/MyDrive/movie/neg/cv336_10363.txt', '/content/drive/MyDrive/movie/neg/cv154_9562.txt', '/content/drive/MyDrive/movie/neg/cv282_6833.txt', '/content/drive/MyDrive/movie/neg/cv924_29397.txt', '/content/drive/MyDrive/movie/neg/cv979_2029.txt', '/content/drive/MyDrive/movie/neg/cv657_25835.txt', '/content/drive/MyDrive/movie/neg/cv089_12222.txt', '/content/drive/MyDrive/movie/neg/cv615_15734.txt', '/content/drive/MyDrive/movie/neg/cv586_8048.txt', '/content/drive/MyDrive/movie/neg/cv334_0074.txt', '/content/drive/MyDrive/movie/neg/cv235_10704.txt', '/content/drive/MyDrive/movie/neg/cv267_16618.txt', '/content/drive/MyDrive/movie/neg/cv214_13285.txt', '/content/drive/MyDrive/movie/neg/cv265_11625.txt', '/content/drive/MyDrive/movie/neg/cv666_20301.txt', '/content/drive/MyDrive/movie/neg/cv795_10291.txt', '/content/drive/MyDrive/movie/neg/cv553_26965.txt', '/content/drive/MyDrive/movie/neg/cv954_19932.txt', '/content/drive/MyDrive/movie/neg/cv710_23745.txt', '/content/drive/MyDrive/movie/neg/cv685_5710.txt', '/content/drive/MyDrive/movie/neg/cv921_13988.txt', '/content/drive/MyDrive/movie/neg/cv010_29063.txt', '/content/drive/MyDrive/movie/neg/cv174_9735.txt', '/content/drive/MyDrive/movie/neg/cv655_12055.txt', '/content/drive/MyDrive/movie/neg/cv939_11247.txt', '/content/drive/MyDrive/movie/neg/cv067_21192.txt', '/content/drive/MyDrive/movie/neg/cv745_14009.txt', '/content/drive/MyDrive/movie/neg/cv302_26481.txt', '/content/drive/MyDrive/movie/neg/cv663_14484.txt', '/content/drive/MyDrive/movie/neg/cv087_2145.txt', '/content/drive/MyDrive/movie/neg/cv339_22452.txt', '/content/drive/MyDrive/movie/neg/cv550_23226.txt', '/content/drive/MyDrive/movie/neg/cv169_24973.txt', '/content/drive/MyDrive/movie/neg/cv277_20467.txt', '/content/drive/MyDrive/movie/neg/cv849_17215.txt', '/content/drive/MyDrive/movie/neg/cv403_6721.txt', '/content/drive/MyDrive/movie/neg/cv953_7078.txt', '/content/drive/MyDrive/movie/neg/cv585_23576.txt', '/content/drive/MyDrive/movie/neg/cv138_13903.txt', '/content/drive/MyDrive/movie/neg/cv300_23302.txt', '/content/drive/MyDrive/movie/neg/cv065_16909.txt', '/content/drive/MyDrive/movie/neg/cv321_14191.txt', '/content/drive/MyDrive/movie/neg/cv496_11185.txt', '/content/drive/MyDrive/movie/neg/cv368_11090.txt', '/content/drive/MyDrive/movie/neg/cv742_8279.txt', '/content/drive/MyDrive/movie/neg/cv856_28882.txt', '/content/drive/MyDrive/movie/neg/cv234_22123.txt', '/content/drive/MyDrive/movie/neg/cv528_11669.txt', '/content/drive/MyDrive/movie/neg/cv532_6495.txt', '/content/drive/MyDrive/movie/neg/cv367_24065.txt', '/content/drive/MyDrive/movie/neg/cv617_9561.txt', '/content/drive/MyDrive/movie/neg/cv410_25624.txt', '/content/drive/MyDrive/movie/neg/cv914_2856.txt', '/content/drive/MyDrive/movie/neg/cv597_26744.txt', '/content/drive/MyDrive/movie/neg/cv199_9721.txt', '/content/drive/MyDrive/movie/neg/cv354_8573.txt', '/content/drive/MyDrive/movie/neg/cv191_29539.txt', '/content/drive/MyDrive/movie/neg/cv223_28923.txt', '/content/drive/MyDrive/movie/neg/cv059_28723.txt', '/content/drive/MyDrive/movie/neg/cv400_20631.txt', '/content/drive/MyDrive/movie/neg/cv141_17179.txt', '/content/drive/MyDrive/movie/neg/cv102_8306.txt', '/content/drive/MyDrive/movie/neg/cv723_9002.txt', '/content/drive/MyDrive/movie/neg/cv176_14196.txt', '/content/drive/MyDrive/movie/neg/cv444_9975.txt', '/content/drive/MyDrive/movie/neg/cv500_10722.txt', '/content/drive/MyDrive/movie/neg/cv218_25651.txt', '/content/drive/MyDrive/movie/neg/cv000_29416.txt', '/content/drive/MyDrive/movie/neg/cv014_15600.txt', '/content/drive/MyDrive/movie/neg/cv458_9000.txt', '/content/drive/MyDrive/movie/neg/cv153_11607.txt', '/content/drive/MyDrive/movie/neg/cv183_19826.txt', '/content/drive/MyDrive/movie/neg/cv970_19532.txt', '/content/drive/MyDrive/movie/neg/cv020_9234.txt', '/content/drive/MyDrive/movie/neg/cv707_11421.txt', '/content/drive/MyDrive/movie/neg/cv156_11119.txt', '/content/drive/MyDrive/movie/neg/cv730_10729.txt', '/content/drive/MyDrive/movie/neg/cv434_5641.txt', '/content/drive/MyDrive/movie/neg/cv958_13020.txt', '/content/drive/MyDrive/movie/neg/cv377_8440.txt', '/content/drive/MyDrive/movie/neg/cv148_18084.txt', '/content/drive/MyDrive/movie/neg/cv007_4992.txt', '/content/drive/MyDrive/movie/neg/cv729_10475.txt', '/content/drive/MyDrive/movie/neg/cv784_16077.txt', '/content/drive/MyDrive/movie/neg/cv096_12262.txt', '/content/drive/MyDrive/movie/neg/cv612_5396.txt', '/content/drive/MyDrive/movie/neg/cv814_20316.txt', '/content/drive/MyDrive/movie/neg/cv546_12723.txt', '/content/drive/MyDrive/movie/neg/cv601_24759.txt', '/content/drive/MyDrive/movie/neg/cv574_23191.txt', '/content/drive/MyDrive/movie/neg/cv662_14791.txt', '/content/drive/MyDrive/movie/neg/cv219_19874.txt', '/content/drive/MyDrive/movie/neg/cv701_15880.txt', '/content/drive/MyDrive/movie/neg/cv721_28993.txt', '/content/drive/MyDrive/movie/neg/cv072_5928.txt', '/content/drive/MyDrive/movie/neg/cv270_5873.txt', '/content/drive/MyDrive/movie/neg/cv390_12187.txt', '/content/drive/MyDrive/movie/neg/cv694_4526.txt', '/content/drive/MyDrive/movie/neg/cv131_11568.txt', '/content/drive/MyDrive/movie/neg/cv379_23167.txt', '/content/drive/MyDrive/movie/neg/cv789_12991.txt', '/content/drive/MyDrive/movie/neg/cv828_21392.txt', '/content/drive/MyDrive/movie/neg/cv197_29271.txt', '/content/drive/MyDrive/movie/neg/cv794_17353.txt', '/content/drive/MyDrive/movie/neg/cv967_5626.txt', '/content/drive/MyDrive/movie/neg/cv084_15183.txt', '/content/drive/MyDrive/movie/neg/cv346_19198.txt', '/content/drive/MyDrive/movie/neg/cv817_3675.txt', '/content/drive/MyDrive/movie/neg/cv716_11153.txt', '/content/drive/MyDrive/movie/neg/cv620_2556.txt', '/content/drive/MyDrive/movie/neg/cv672_27988.txt', '/content/drive/MyDrive/movie/neg/cv515_18484.txt', '/content/drive/MyDrive/movie/neg/cv529_10972.txt', '/content/drive/MyDrive/movie/neg/cv341_25667.txt', '/content/drive/MyDrive/movie/neg/cv880_29629.txt', '/content/drive/MyDrive/movie/neg/cv851_21895.txt', '/content/drive/MyDrive/movie/neg/cv232_16768.txt', '/content/drive/MyDrive/movie/neg/cv284_20530.txt', '/content/drive/MyDrive/movie/neg/cv619_13677.txt', '/content/drive/MyDrive/movie/neg/cv208_9475.txt', '/content/drive/MyDrive/movie/neg/cv100_12406.txt', '/content/drive/MyDrive/movie/neg/cv322_21820.txt', '/content/drive/MyDrive/movie/neg/cv808_13773.txt', '/content/drive/MyDrive/movie/neg/cv920_29423.txt', '/content/drive/MyDrive/movie/neg/cv903_18981.txt', '/content/drive/MyDrive/movie/neg/cv036_18385.txt', '/content/drive/MyDrive/movie/neg/cv917_29484.txt', '/content/drive/MyDrive/movie/neg/cv105_19135.txt', '/content/drive/MyDrive/movie/neg/cv134_23300.txt', '/content/drive/MyDrive/movie/neg/cv151_17231.txt', '/content/drive/MyDrive/movie/neg/cv253_10190.txt', '/content/drive/MyDrive/movie/neg/cv387_12391.txt', '/content/drive/MyDrive/movie/neg/cv525_17930.txt', '/content/drive/MyDrive/movie/neg/cv508_17742.txt', '/content/drive/MyDrive/movie/neg/cv968_25413.txt', '/content/drive/MyDrive/movie/neg/cv003_12683.txt', '/content/drive/MyDrive/movie/neg/cv750_10606.txt', '/content/drive/MyDrive/movie/neg/cv605_12730.txt', '/content/drive/MyDrive/movie/neg/cv802_28381.txt', '/content/drive/MyDrive/movie/neg/cv755_24881.txt', '/content/drive/MyDrive/movie/neg/cv935_24977.txt', '/content/drive/MyDrive/movie/neg/cv629_16604.txt', '/content/drive/MyDrive/movie/neg/cv246_28668.txt', '/content/drive/MyDrive/movie/neg/cv906_12332.txt', '/content/drive/MyDrive/movie/neg/cv443_22367.txt', '/content/drive/MyDrive/movie/neg/cv718_12227.txt', '/content/drive/MyDrive/movie/neg/cv715_19246.txt', '/content/drive/MyDrive/movie/neg/cv433_10443.txt', '/content/drive/MyDrive/movie/neg/cv728_17931.txt', '/content/drive/MyDrive/movie/neg/cv551_11214.txt', '/content/drive/MyDrive/movie/neg/cv418_16562.txt', '/content/drive/MyDrive/movie/neg/cv465_23401.txt', '/content/drive/MyDrive/movie/neg/cv943_23547.txt', '/content/drive/MyDrive/movie/neg/cv126_28821.txt', '/content/drive/MyDrive/movie/neg/cv607_8235.txt', '/content/drive/MyDrive/movie/neg/cv048_18380.txt', '/content/drive/MyDrive/movie/neg/cv565_29403.txt', '/content/drive/MyDrive/movie/neg/cv212_10054.txt', '/content/drive/MyDrive/movie/neg/cv477_23530.txt', '/content/drive/MyDrive/movie/neg/cv584_29549.txt', '/content/drive/MyDrive/movie/neg/cv897_11703.txt', '/content/drive/MyDrive/movie/neg/cv082_11979.txt', '/content/drive/MyDrive/movie/neg/cv866_29447.txt', '/content/drive/MyDrive/movie/neg/cv717_17472.txt', '/content/drive/MyDrive/movie/neg/cv309_23737.txt', '/content/drive/MyDrive/movie/neg/cv125_9636.txt', '/content/drive/MyDrive/movie/neg/cv771_28466.txt', '/content/drive/MyDrive/movie/neg/cv133_18065.txt', '/content/drive/MyDrive/movie/neg/cv306_10859.txt', '/content/drive/MyDrive/movie/neg/cv759_15091.txt', '/content/drive/MyDrive/movie/neg/cv514_12173.txt', '/content/drive/MyDrive/movie/neg/cv244_22935.txt', '/content/drive/MyDrive/movie/neg/cv762_15604.txt', '/content/drive/MyDrive/movie/neg/cv842_5702.txt', '/content/drive/MyDrive/movie/neg/cv184_26935.txt', '/content/drive/MyDrive/movie/neg/cv518_14798.txt', '/content/drive/MyDrive/movie/neg/cv043_16808.txt', '/content/drive/MyDrive/movie/neg/cv093_15606.txt', '/content/drive/MyDrive/movie/neg/cv472_29140.txt', '/content/drive/MyDrive/movie/neg/cv941_10718.txt', '/content/drive/MyDrive/movie/neg/cv168_7435.txt', '/content/drive/MyDrive/movie/neg/cv388_12810.txt', '/content/drive/MyDrive/movie/neg/cv442_15499.txt', '/content/drive/MyDrive/movie/neg/cv984_14006.txt', '/content/drive/MyDrive/movie/neg/cv248_15672.txt', '/content/drive/MyDrive/movie/neg/cv190_27176.txt', '/content/drive/MyDrive/movie/neg/cv777_10247.txt', '/content/drive/MyDrive/movie/neg/cv747_18189.txt', '/content/drive/MyDrive/movie/neg/cv608_24647.txt', '/content/drive/MyDrive/movie/neg/cv987_7394.txt', '/content/drive/MyDrive/movie/neg/cv402_16097.txt', '/content/drive/MyDrive/movie/neg/cv204_8930.txt', '/content/drive/MyDrive/movie/neg/cv758_9740.txt', '/content/drive/MyDrive/movie/neg/cv977_4776.txt', '/content/drive/MyDrive/movie/neg/cv186_2396.txt', '/content/drive/MyDrive/movie/neg/cv132_5423.txt', '/content/drive/MyDrive/movie/neg/cv960_28877.txt', '/content/drive/MyDrive/movie/neg/cv656_25395.txt', '/content/drive/MyDrive/movie/neg/cv163_10110.txt', '/content/drive/MyDrive/movie/neg/cv563_18610.txt', '/content/drive/MyDrive/movie/neg/cv602_8830.txt', '/content/drive/MyDrive/movie/neg/cv206_15893.txt', '/content/drive/MyDrive/movie/neg/cv526_12868.txt', '/content/drive/MyDrive/movie/neg/cv352_5414.txt', '/content/drive/MyDrive/movie/neg/cv436_20564.txt', '/content/drive/MyDrive/movie/neg/cv374_26455.txt', '/content/drive/MyDrive/movie/neg/cv522_5418.txt', '/content/drive/MyDrive/movie/neg/cv398_17047.txt', '/content/drive/MyDrive/movie/neg/cv166_11959.txt', '/content/drive/MyDrive/movie/neg/cv641_13412.txt', '/content/drive/MyDrive/movie/neg/cv142_23657.txt', '/content/drive/MyDrive/movie/neg/cv644_18551.txt', '/content/drive/MyDrive/movie/neg/cv001_19502.txt', '/content/drive/MyDrive/movie/neg/cv774_15488.txt', '/content/drive/MyDrive/movie/neg/cv315_12638.txt', '/content/drive/MyDrive/movie/neg/cv908_17779.txt', '/content/drive/MyDrive/movie/neg/cv158_10914.txt', '/content/drive/MyDrive/movie/neg/cv330_29675.txt', '/content/drive/MyDrive/movie/neg/cv127_16451.txt', '/content/drive/MyDrive/movie/neg/cv195_16146.txt', '/content/drive/MyDrive/movie/neg/cv312_29308.txt', '/content/drive/MyDrive/movie/neg/cv470_17444.txt', '/content/drive/MyDrive/movie/neg/cv560_18608.txt', '/content/drive/MyDrive/movie/neg/cv060_11754.txt', '/content/drive/MyDrive/movie/neg/cv290_11981.txt', '/content/drive/MyDrive/movie/neg/cv993_29565.txt', '/content/drive/MyDrive/movie/neg/cv064_25842.txt', '/content/drive/MyDrive/movie/neg/cv295_17060.txt', '/content/drive/MyDrive/movie/neg/cv566_8967.txt', '/content/drive/MyDrive/movie/neg/cv978_22192.txt', '/content/drive/MyDrive/movie/neg/cv836_14311.txt', '/content/drive/MyDrive/movie/neg/cv725_10266.txt', '/content/drive/MyDrive/movie/neg/cv798_24779.txt', '/content/drive/MyDrive/movie/neg/cv228_5644.txt', '/content/drive/MyDrive/movie/neg/cv431_7538.txt', '/content/drive/MyDrive/movie/neg/cv524_24885.txt', '/content/drive/MyDrive/movie/neg/cv488_21453.txt', '/content/drive/MyDrive/movie/neg/cv704_17622.txt', '/content/drive/MyDrive/movie/neg/cv696_29619.txt', '/content/drive/MyDrive/movie/neg/cv847_20855.txt', '/content/drive/MyDrive/movie/neg/cv982_22209.txt', '/content/drive/MyDrive/movie/neg/cv047_18725.txt', '/content/drive/MyDrive/movie/neg/cv883_27621.txt', '/content/drive/MyDrive/movie/neg/cv922_10185.txt', '/content/drive/MyDrive/movie/neg/cv990_12443.txt', '/content/drive/MyDrive/movie/neg/cv904_25663.txt', '/content/drive/MyDrive/movie/neg/cv054_4101.txt', '/content/drive/MyDrive/movie/neg/cv682_17947.txt', '/content/drive/MyDrive/movie/neg/cv030_22893.txt', '/content/drive/MyDrive/movie/neg/cv787_15277.txt', '/content/drive/MyDrive/movie/neg/cv041_22364.txt', '/content/drive/MyDrive/movie/neg/cv898_1576.txt', '/content/drive/MyDrive/movie/neg/cv740_13643.txt', '/content/drive/MyDrive/movie/neg/cv311_17708.txt', '/content/drive/MyDrive/movie/neg/cv094_27868.txt', '/content/drive/MyDrive/movie/neg/cv885_13390.txt', '/content/drive/MyDrive/movie/neg/cv609_25038.txt', '/content/drive/MyDrive/movie/neg/cv791_17995.txt', '/content/drive/MyDrive/movie/neg/cv027_26270.txt', '/content/drive/MyDrive/movie/neg/cv712_24217.txt', '/content/drive/MyDrive/movie/neg/cv071_12969.txt', '/content/drive/MyDrive/movie/neg/cv957_9059.txt', '/content/drive/MyDrive/movie/neg/cv263_20693.txt', '/content/drive/MyDrive/movie/neg/cv819_9567.txt', '/content/drive/MyDrive/movie/neg/cv902_13217.txt', '/content/drive/MyDrive/movie/neg/cv576_15688.txt', '/content/drive/MyDrive/movie/neg/cv668_18848.txt', '/content/drive/MyDrive/movie/neg/cv152_9052.txt', '/content/drive/MyDrive/movie/neg/cv123_12165.txt', '/content/drive/MyDrive/movie/neg/cv256_16529.txt', '/content/drive/MyDrive/movie/neg/cv447_27334.txt', '/content/drive/MyDrive/movie/neg/cv286_26156.txt', '/content/drive/MyDrive/movie/neg/cv391_11615.txt', '/content/drive/MyDrive/movie/neg/cv497_27086.txt', '/content/drive/MyDrive/movie/neg/cv181_16083.txt', '/content/drive/MyDrive/movie/neg/cv297_10104.txt', '/content/drive/MyDrive/movie/neg/cv042_11927.txt', '/content/drive/MyDrive/movie/neg/cv861_12809.txt', '/content/drive/MyDrive/movie/neg/cv250_26462.txt', '/content/drive/MyDrive/movie/neg/cv119_9909.txt', '/content/drive/MyDrive/movie/neg/cv479_5450.txt', '/content/drive/MyDrive/movie/neg/cv695_22268.txt', '/content/drive/MyDrive/movie/neg/cv375_9932.txt', '/content/drive/MyDrive/movie/neg/cv018_21672.txt', '/content/drive/MyDrive/movie/neg/cv299_17950.txt', '/content/drive/MyDrive/movie/neg/cv258_5627.txt', '/content/drive/MyDrive/movie/neg/cv237_20635.txt', '/content/drive/MyDrive/movie/neg/cv038_9781.txt', '/content/drive/MyDrive/movie/neg/cv965_26688.txt', '/content/drive/MyDrive/movie/neg/cv161_12224.txt', '/content/drive/MyDrive/movie/neg/cv437_24070.txt', '/content/drive/MyDrive/movie/neg/cv221_27081.txt', '/content/drive/MyDrive/movie/neg/cv872_13710.txt', '/content/drive/MyDrive/movie/neg/cv778_18629.txt', '/content/drive/MyDrive/movie/neg/cv648_17277.txt', '/content/drive/MyDrive/movie/neg/cv455_28866.txt', '/content/drive/MyDrive/movie/neg/cv816_15257.txt', '/content/drive/MyDrive/movie/neg/cv579_12542.txt', '/content/drive/MyDrive/movie/neg/cv150_14279.txt', '/content/drive/MyDrive/movie/neg/cv659_21483.txt', '/content/drive/MyDrive/movie/neg/cv401_13758.txt', '/content/drive/MyDrive/movie/neg/cv811_22646.txt', '/content/drive/MyDrive/movie/neg/cv213_20300.txt', '/content/drive/MyDrive/movie/neg/cv527_10338.txt', '/content/drive/MyDrive/movie/neg/cv145_12239.txt', '/content/drive/MyDrive/movie/neg/cv159_29374.txt', '/content/drive/MyDrive/movie/neg/cv061_9321.txt', '/content/drive/MyDrive/movie/neg/cv653_2107.txt', '/content/drive/MyDrive/movie/neg/cv427_11693.txt', '/content/drive/MyDrive/movie/neg/cv702_12371.txt', '/content/drive/MyDrive/movie/neg/cv697_12106.txt', '/content/drive/MyDrive/movie/neg/cv582_6678.txt', '/content/drive/MyDrive/movie/neg/cv422_9632.txt', '/content/drive/MyDrive/movie/neg/cv955_26154.txt', '/content/drive/MyDrive/movie/neg/cv004_12641.txt', '/content/drive/MyDrive/movie/neg/cv307_26382.txt', '/content/drive/MyDrive/movie/neg/cv107_25639.txt', '/content/drive/MyDrive/movie/neg/cv468_16844.txt', '/content/drive/MyDrive/movie/neg/cv021_17313.txt', '/content/drive/MyDrive/movie/neg/cv095_28730.txt', '/content/drive/MyDrive/movie/neg/cv900_10800.txt', '/content/drive/MyDrive/movie/neg/cv625_13518.txt', '/content/drive/MyDrive/movie/neg/cv626_7907.txt', '/content/drive/MyDrive/movie/neg/cv068_14810.txt', '/content/drive/MyDrive/movie/neg/cv419_14799.txt', '/content/drive/MyDrive/movie/neg/cv408_5367.txt', '/content/drive/MyDrive/movie/neg/cv454_21961.txt', '/content/drive/MyDrive/movie/neg/cv592_23391.txt', '/content/drive/MyDrive/movie/neg/cv483_18103.txt', '/content/drive/MyDrive/movie/neg/cv058_8469.txt', '/content/drive/MyDrive/movie/neg/cv610_24153.txt', '/content/drive/MyDrive/movie/neg/cv406_22199.txt', '/content/drive/MyDrive/movie/neg/cv313_19337.txt', '/content/drive/MyDrive/movie/neg/cv194_12855.txt', '/content/drive/MyDrive/movie/neg/cv173_4295.txt', '/content/drive/MyDrive/movie/neg/cv834_23192.txt', '/content/drive/MyDrive/movie/neg/cv350_22139.txt', '/content/drive/MyDrive/movie/neg/cv952_26375.txt', '/content/drive/MyDrive/movie/neg/cv936_17473.txt', '/content/drive/MyDrive/movie/neg/cv287_17410.txt', '/content/drive/MyDrive/movie/neg/cv498_9288.txt', '/content/drive/MyDrive/movie/neg/cv438_8500.txt', '/content/drive/MyDrive/movie/neg/cv862_15924.txt', '/content/drive/MyDrive/movie/neg/cv012_29411.txt', '/content/drive/MyDrive/movie/neg/cv894_22140.txt', '/content/drive/MyDrive/movie/neg/cv826_12761.txt', '/content/drive/MyDrive/movie/neg/cv098_17021.txt', '/content/drive/MyDrive/movie/neg/cv424_9268.txt', '/content/drive/MyDrive/movie/neg/cv665_29386.txt', '/content/drive/MyDrive/movie/neg/cv076_26009.txt', '/content/drive/MyDrive/movie/neg/cv810_13660.txt', '/content/drive/MyDrive/movie/neg/cv416_12048.txt', '/content/drive/MyDrive/movie/neg/cv264_14108.txt', '/content/drive/MyDrive/movie/neg/cv364_14254.txt', '/content/drive/MyDrive/movie/neg/cv930_14949.txt', '/content/drive/MyDrive/movie/neg/cv748_14044.txt', '/content/drive/MyDrive/movie/neg/cv964_5794.txt', '/content/drive/MyDrive/movie/neg/cv091_7899.txt', '/content/drive/MyDrive/movie/neg/cv177_10904.txt', '/content/drive/MyDrive/movie/neg/cv478_15921.txt', '/content/drive/MyDrive/movie/neg/cv242_11354.txt', '/content/drive/MyDrive/movie/neg/cv927_11471.txt', '/content/drive/MyDrive/movie/neg/cv835_20531.txt', '/content/drive/MyDrive/movie/neg/cv963_7208.txt', '/content/drive/MyDrive/movie/neg/cv229_15200.txt', '/content/drive/MyDrive/movie/neg/cv135_12506.txt', '/content/drive/MyDrive/movie/neg/cv944_15042.txt', '/content/drive/MyDrive/movie/neg/cv664_4264.txt', '/content/drive/MyDrive/movie/neg/cv057_7962.txt', '/content/drive/MyDrive/movie/neg/cv409_29625.txt', '/content/drive/MyDrive/movie/neg/cv032_23718.txt', '/content/drive/MyDrive/movie/neg/cv165_2389.txt', '/content/drive/MyDrive/movie/neg/cv074_7188.txt', '/content/drive/MyDrive/movie/neg/cv356_26170.txt', '/content/drive/MyDrive/movie/neg/cv640_5380.txt', '/content/drive/MyDrive/movie/neg/cv650_15974.txt', '/content/drive/MyDrive/movie/neg/cv848_10061.txt', '/content/drive/MyDrive/movie/neg/cv215_23246.txt', '/content/drive/MyDrive/movie/neg/cv951_11816.txt', '/content/drive/MyDrive/movie/neg/cv739_12179.txt', '/content/drive/MyDrive/movie/neg/cv272_20313.txt', '/content/drive/MyDrive/movie/neg/cv711_12687.txt', '/content/drive/MyDrive/movie/neg/cv274_26379.txt', '/content/drive/MyDrive/movie/neg/cv193_5393.txt', '/content/drive/MyDrive/movie/neg/cv450_8319.txt', '/content/drive/MyDrive/movie/neg/cv230_7913.txt', '/content/drive/MyDrive/movie/neg/cv196_28898.txt', '/content/drive/MyDrive/movie/neg/cv889_22670.txt', '/content/drive/MyDrive/movie/neg/cv966_28671.txt', '/content/drive/MyDrive/movie/neg/cv261_11855.txt', '/content/drive/MyDrive/movie/neg/cv467_26610.txt', '/content/drive/MyDrive/movie/neg/cv343_10906.txt', '/content/drive/MyDrive/movie/neg/cv818_10698.txt', '/content/drive/MyDrive/movie/neg/cv144_5010.txt', '/content/drive/MyDrive/movie/neg/cv714_19704.txt', '/content/drive/MyDrive/movie/neg/cv783_14724.txt', '/content/drive/MyDrive/movie/neg/cv988_20168.txt', '/content/drive/MyDrive/movie/neg/cv621_15984.txt', '/content/drive/MyDrive/movie/neg/cv571_29292.txt', '/content/drive/MyDrive/movie/neg/cv040_8829.txt', '/content/drive/MyDrive/movie/neg/cv647_15275.txt', '/content/drive/MyDrive/movie/neg/cv353_19197.txt', '/content/drive/MyDrive/movie/neg/cv838_25886.txt', '/content/drive/MyDrive/movie/neg/cv569_26750.txt', '/content/drive/MyDrive/movie/neg/cv850_18185.txt', '/content/drive/MyDrive/movie/neg/cv724_15265.txt', '/content/drive/MyDrive/movie/neg/cv423_12089.txt']\n",
            "['/content/drive/MyDrive/movie/pos/cv519_14661.txt', '/content/drive/MyDrive/movie/pos/cv360_8398.txt', '/content/drive/MyDrive/movie/pos/cv564_11110.txt', '/content/drive/MyDrive/movie/pos/cv109_21172.txt', '/content/drive/MyDrive/movie/pos/cv715_18179.txt', '/content/drive/MyDrive/movie/pos/cv370_5221.txt', '/content/drive/MyDrive/movie/pos/cv805_19601.txt', '/content/drive/MyDrive/movie/pos/cv931_17563.txt', '/content/drive/MyDrive/movie/pos/cv746_10147.txt', '/content/drive/MyDrive/movie/pos/cv021_15838.txt', '/content/drive/MyDrive/movie/pos/cv112_11193.txt', '/content/drive/MyDrive/movie/pos/cv098_15435.txt', '/content/drive/MyDrive/movie/pos/cv495_14518.txt', '/content/drive/MyDrive/movie/pos/cv815_22456.txt', '/content/drive/MyDrive/movie/pos/cv179_9228.txt', '/content/drive/MyDrive/movie/pos/cv835_19159.txt', '/content/drive/MyDrive/movie/pos/cv992_11962.txt', '/content/drive/MyDrive/movie/pos/cv997_5046.txt', '/content/drive/MyDrive/movie/pos/cv572_18657.txt', '/content/drive/MyDrive/movie/pos/cv486_9799.txt', '/content/drive/MyDrive/movie/pos/cv874_11236.txt', '/content/drive/MyDrive/movie/pos/cv700_21947.txt', '/content/drive/MyDrive/movie/pos/cv086_18371.txt', '/content/drive/MyDrive/movie/pos/cv262_12649.txt', '/content/drive/MyDrive/movie/pos/cv426_10421.txt', '/content/drive/MyDrive/movie/pos/cv456_18985.txt', '/content/drive/MyDrive/movie/pos/cv652_13972.txt', '/content/drive/MyDrive/movie/pos/cv990_11591.txt', '/content/drive/MyDrive/movie/pos/cv454_2053.txt', '/content/drive/MyDrive/movie/pos/cv840_16321.txt', '/content/drive/MyDrive/movie/pos/cv587_19162.txt', '/content/drive/MyDrive/movie/pos/cv551_10565.txt', '/content/drive/MyDrive/movie/pos/cv330_29809.txt', '/content/drive/MyDrive/movie/pos/cv405_20399.txt', '/content/drive/MyDrive/movie/pos/cv937_9811.txt', '/content/drive/MyDrive/movie/pos/cv848_10036.txt', '/content/drive/MyDrive/movie/pos/cv075_6500.txt', '/content/drive/MyDrive/movie/pos/cv329_29370.txt', '/content/drive/MyDrive/movie/pos/cv532_6522.txt', '/content/drive/MyDrive/movie/pos/cv995_21821.txt', '/content/drive/MyDrive/movie/pos/cv118_28980.txt', '/content/drive/MyDrive/movie/pos/cv768_11751.txt', '/content/drive/MyDrive/movie/pos/cv110_27788.txt', '/content/drive/MyDrive/movie/pos/cv121_17302.txt', '/content/drive/MyDrive/movie/pos/cv381_20172.txt', '/content/drive/MyDrive/movie/pos/cv873_18636.txt', '/content/drive/MyDrive/movie/pos/cv521_15828.txt', '/content/drive/MyDrive/movie/pos/cv978_20929.txt', '/content/drive/MyDrive/movie/pos/cv338_8821.txt', '/content/drive/MyDrive/movie/pos/cv091_7400.txt', '/content/drive/MyDrive/movie/pos/cv578_15094.txt', '/content/drive/MyDrive/movie/pos/cv779_17881.txt', '/content/drive/MyDrive/movie/pos/cv606_15985.txt', '/content/drive/MyDrive/movie/pos/cv123_11182.txt', '/content/drive/MyDrive/movie/pos/cv555_23922.txt', '/content/drive/MyDrive/movie/pos/cv305_9946.txt', '/content/drive/MyDrive/movie/pos/cv315_11629.txt', '/content/drive/MyDrive/movie/pos/cv029_18643.txt', '/content/drive/MyDrive/movie/pos/cv463_10343.txt', '/content/drive/MyDrive/movie/pos/cv601_23453(1).txt', '/content/drive/MyDrive/movie/pos/cv189_22934.txt', '/content/drive/MyDrive/movie/pos/cv809_5009.txt', '/content/drive/MyDrive/movie/pos/cv247_13142.txt', '/content/drive/MyDrive/movie/pos/cv711_11665.txt', '/content/drive/MyDrive/movie/pos/cv614_10626.txt', '/content/drive/MyDrive/movie/pos/cv026_29325.txt', '/content/drive/MyDrive/movie/pos/cv372_6552.txt', '/content/drive/MyDrive/movie/pos/cv911_20260.txt', '/content/drive/MyDrive/movie/pos/cv543_5045.txt', '/content/drive/MyDrive/movie/pos/cv200_2915.txt', '/content/drive/MyDrive/movie/pos/cv162_10424.txt', '/content/drive/MyDrive/movie/pos/cv320_9530.txt', '/content/drive/MyDrive/movie/pos/cv102_7846.txt', '/content/drive/MyDrive/movie/pos/cv346_18168.txt', '/content/drive/MyDrive/movie/pos/cv065_15248.txt', '/content/drive/MyDrive/movie/pos/cv979_18921.txt', '/content/drive/MyDrive/movie/pos/cv559_0050.txt', '/content/drive/MyDrive/movie/pos/cv184_2673.txt', '/content/drive/MyDrive/movie/pos/cv536_27134.txt', '/content/drive/MyDrive/movie/pos/cv766_7540.txt', '/content/drive/MyDrive/movie/pos/cv706_24716.txt', '/content/drive/MyDrive/movie/pos/cv230_7428.txt', '/content/drive/MyDrive/movie/pos/cv845_14290.txt', '/content/drive/MyDrive/movie/pos/cv864_3416.txt', '/content/drive/MyDrive/movie/pos/cv861_1198.txt', '/content/drive/MyDrive/movie/pos/cv298_23111.txt', '/content/drive/MyDrive/movie/pos/cv670_25826.txt', '/content/drive/MyDrive/movie/pos/cv757_10189.txt', '/content/drive/MyDrive/movie/pos/cv703_16143.txt', '/content/drive/MyDrive/movie/pos/cv761_12620.txt', '/content/drive/MyDrive/movie/pos/cv063_28997.txt', '/content/drive/MyDrive/movie/pos/cv306_10364.txt', '/content/drive/MyDrive/movie/pos/cv398_15537.txt', '/content/drive/MyDrive/movie/pos/cv386_10080.txt', '/content/drive/MyDrive/movie/pos/cv987_6965.txt', '/content/drive/MyDrive/movie/pos/cv480_19817.txt', '/content/drive/MyDrive/movie/pos/cv035_3954.txt', '/content/drive/MyDrive/movie/pos/cv709_10529.txt', '/content/drive/MyDrive/movie/pos/cv401_12605.txt', '/content/drive/MyDrive/movie/pos/cv620_24265.txt', '/content/drive/MyDrive/movie/pos/cv082_11080.txt', '/content/drive/MyDrive/movie/pos/cv334_10001.txt', '/content/drive/MyDrive/movie/pos/cv602_8300(1).txt', '/content/drive/MyDrive/movie/pos/cv505_12090.txt', '/content/drive/MyDrive/movie/pos/cv224_17661.txt', '/content/drive/MyDrive/movie/pos/cv313_18198.txt', '/content/drive/MyDrive/movie/pos/cv605_11800(1).txt', '/content/drive/MyDrive/movie/pos/cv631_4967.txt', '/content/drive/MyDrive/movie/pos/cv625_12440.txt', '/content/drive/MyDrive/movie/pos/cv228_5806.txt', '/content/drive/MyDrive/movie/pos/cv605_11800.txt', '/content/drive/MyDrive/movie/pos/cv477_22479.txt', '/content/drive/MyDrive/movie/pos/cv016_4659.txt', '/content/drive/MyDrive/movie/pos/cv217_28842.txt', '/content/drive/MyDrive/movie/pos/cv273_29112.txt', '/content/drive/MyDrive/movie/pos/cv927_10681.txt', '/content/drive/MyDrive/movie/pos/cv696_29740.txt', '/content/drive/MyDrive/movie/pos/cv081_16582.txt', '/content/drive/MyDrive/movie/pos/cv688_7368.txt', '/content/drive/MyDrive/movie/pos/cv824_8838.txt', '/content/drive/MyDrive/movie/pos/cv951_10926.txt', '/content/drive/MyDrive/movie/pos/cv758_9671.txt', '/content/drive/MyDrive/movie/pos/cv343_10368.txt', '/content/drive/MyDrive/movie/pos/cv676_21090.txt', '/content/drive/MyDrive/movie/pos/cv352_5524.txt', '/content/drive/MyDrive/movie/pos/cv635_10022.txt', '/content/drive/MyDrive/movie/pos/cv939_10583.txt', '/content/drive/MyDrive/movie/pos/cv055_8338.txt', '/content/drive/MyDrive/movie/pos/cv318_10493.txt', '/content/drive/MyDrive/movie/pos/cv399_2877.txt', '/content/drive/MyDrive/movie/pos/cv209_29118.txt', '/content/drive/MyDrive/movie/pos/cv483_16378.txt', '/content/drive/MyDrive/movie/pos/cv470_15952.txt', '/content/drive/MyDrive/movie/pos/cv344_5312.txt', '/content/drive/MyDrive/movie/pos/cv804_10862.txt', '/content/drive/MyDrive/movie/pos/cv547_16324.txt', '/content/drive/MyDrive/movie/pos/cv811_21386.txt', '/content/drive/MyDrive/movie/pos/cv600_23878.txt', '/content/drive/MyDrive/movie/pos/cv648_15792.txt', '/content/drive/MyDrive/movie/pos/cv438_8043.txt', '/content/drive/MyDrive/movie/pos/cv892_17576.txt', '/content/drive/MyDrive/movie/pos/cv423_11155.txt', '/content/drive/MyDrive/movie/pos/cv918_2693.txt', '/content/drive/MyDrive/movie/pos/cv734_21568.txt', '/content/drive/MyDrive/movie/pos/cv447_27332.txt', '/content/drive/MyDrive/movie/pos/cv017_22464.txt', '/content/drive/MyDrive/movie/pos/cv674_10732.txt', '/content/drive/MyDrive/movie/pos/cv264_12801.txt', '/content/drive/MyDrive/movie/pos/cv364_12901.txt', '/content/drive/MyDrive/movie/pos/cv730_10279.txt', '/content/drive/MyDrive/movie/pos/cv849_15729.txt', '/content/drive/MyDrive/movie/pos/cv936_15954.txt', '/content/drive/MyDrive/movie/pos/cv353_18159.txt', '/content/drive/MyDrive/movie/pos/cv046_10188.txt', '/content/drive/MyDrive/movie/pos/cv646_15065.txt', '/content/drive/MyDrive/movie/pos/cv331_8273.txt', '/content/drive/MyDrive/movie/pos/cv623_15356.txt', '/content/drive/MyDrive/movie/pos/cv159_29505.txt', '/content/drive/MyDrive/movie/pos/cv242_10638.txt', '/content/drive/MyDrive/movie/pos/cv234_20643.txt', '/content/drive/MyDrive/movie/pos/cv220_29059.txt', '/content/drive/MyDrive/movie/pos/cv702_11500.txt', '/content/drive/MyDrive/movie/pos/cv723_8648.txt', '/content/drive/MyDrive/movie/pos/cv666_18963.txt', '/content/drive/MyDrive/movie/pos/cv443_21118.txt', '/content/drive/MyDrive/movie/pos/cv601_23453.txt', '/content/drive/MyDrive/movie/pos/cv888_24435.txt', '/content/drive/MyDrive/movie/pos/cv025_3108.txt', '/content/drive/MyDrive/movie/pos/cv349_13507.txt', '/content/drive/MyDrive/movie/pos/cv052_29378.txt', '/content/drive/MyDrive/movie/pos/cv690_5619.txt', '/content/drive/MyDrive/movie/pos/cv569_26381.txt', '/content/drive/MyDrive/movie/pos/cv148_16345.txt', '/content/drive/MyDrive/movie/pos/cv214_12294.txt', '/content/drive/MyDrive/movie/pos/cv993_29737.txt', '/content/drive/MyDrive/movie/pos/cv060_10844.txt', '/content/drive/MyDrive/movie/pos/cv415_22517.txt', '/content/drive/MyDrive/movie/pos/cv244_21649.txt', '/content/drive/MyDrive/movie/pos/cv491_12145.txt', '/content/drive/MyDrive/movie/pos/cv916_15467.txt', '/content/drive/MyDrive/movie/pos/cv175_6964.txt', '/content/drive/MyDrive/movie/pos/cv257_10975.txt', '/content/drive/MyDrive/movie/pos/cv493_12839.txt', '/content/drive/MyDrive/movie/pos/cv665_29538.txt', '/content/drive/MyDrive/movie/pos/cv977_4938.txt', '/content/drive/MyDrive/movie/pos/cv624_10744.txt', '/content/drive/MyDrive/movie/pos/cv316_6370.txt', '/content/drive/MyDrive/movie/pos/cv827_18331.txt', '/content/drive/MyDrive/movie/pos/cv950_12350.txt', '/content/drive/MyDrive/movie/pos/cv164_22447.txt', '/content/drive/MyDrive/movie/pos/cv488_19856.txt', '/content/drive/MyDrive/movie/pos/cv394_5137.txt', '/content/drive/MyDrive/movie/pos/cv288_18791.txt', '/content/drive/MyDrive/movie/pos/cv460_10842.txt', '/content/drive/MyDrive/movie/pos/cv163_10052.txt', '/content/drive/MyDrive/movie/pos/cv501_11657.txt', '/content/drive/MyDrive/movie/pos/cv328_10373.txt', '/content/drive/MyDrive/movie/pos/cv146_18458.txt', '/content/drive/MyDrive/movie/pos/cv302_25649.txt', '/content/drive/MyDrive/movie/pos/cv724_13681.txt', '/content/drive/MyDrive/movie/pos/cv420_28795.txt', '/content/drive/MyDrive/movie/pos/cv985_6359.txt', '/content/drive/MyDrive/movie/pos/cv236_11565.txt', '/content/drive/MyDrive/movie/pos/cv375_9929.txt', '/content/drive/MyDrive/movie/pos/cv172_11131.txt', '/content/drive/MyDrive/movie/pos/cv122_7392.txt', '/content/drive/MyDrive/movie/pos/cv542_18980.txt', '/content/drive/MyDrive/movie/pos/cv054_4230.txt', '/content/drive/MyDrive/movie/pos/cv207_29284.txt', '/content/drive/MyDrive/movie/pos/cv185_28654.txt', '/content/drive/MyDrive/movie/pos/cv087_1989.txt', '/content/drive/MyDrive/movie/pos/cv850_16466.txt', '/content/drive/MyDrive/movie/pos/cv297_10047.txt', '/content/drive/MyDrive/movie/pos/cv822_20049.txt', '/content/drive/MyDrive/movie/pos/cv598_16452.txt', '/content/drive/MyDrive/movie/pos/cv114_18398.txt', '/content/drive/MyDrive/movie/pos/cv826_11834.txt', '/content/drive/MyDrive/movie/pos/cv388_12009.txt', '/content/drive/MyDrive/movie/pos/cv988_18740.txt', '/content/drive/MyDrive/movie/pos/cv961_5682.txt', '/content/drive/MyDrive/movie/pos/cv609_23877.txt', '/content/drive/MyDrive/movie/pos/cv444_9974.txt', '/content/drive/MyDrive/movie/pos/cv440_15243.txt', '/content/drive/MyDrive/movie/pos/cv582_6559.txt', '/content/drive/MyDrive/movie/pos/cv878_15694.txt', '/content/drive/MyDrive/movie/pos/cv425_8250.txt', '/content/drive/MyDrive/movie/pos/cv549_21443.txt', '/content/drive/MyDrive/movie/pos/cv158_10390.txt', '/content/drive/MyDrive/movie/pos/cv749_17765.txt', '/content/drive/MyDrive/movie/pos/cv092_28017.txt', '/content/drive/MyDrive/movie/pos/cv910_20488.txt', '/content/drive/MyDrive/movie/pos/cv225_29224.txt', '/content/drive/MyDrive/movie/pos/cv511_10132.txt', '/content/drive/MyDrive/movie/pos/cv682_16139.txt', '/content/drive/MyDrive/movie/pos/cv915_8841.txt', '/content/drive/MyDrive/movie/pos/cv991_18645.txt', '/content/drive/MyDrive/movie/pos/cv256_14740.txt', '/content/drive/MyDrive/movie/pos/cv642_29867.txt', '/content/drive/MyDrive/movie/pos/cv736_23670.txt', '/content/drive/MyDrive/movie/pos/cv797_6957.txt', '/content/drive/MyDrive/movie/pos/cv905_29114.txt', '/content/drive/MyDrive/movie/pos/cv304_28706.txt', '/content/drive/MyDrive/movie/pos/cv628_19325.txt', '/content/drive/MyDrive/movie/pos/cv351_15458.txt', '/content/drive/MyDrive/movie/pos/cv949_20112.txt', '/content/drive/MyDrive/movie/pos/cv756_22540.txt', '/content/drive/MyDrive/movie/pos/cv719_5713.txt', '/content/drive/MyDrive/movie/pos/cv070_12289.txt', '/content/drive/MyDrive/movie/pos/cv167_16376.txt', '/content/drive/MyDrive/movie/pos/cv964_6021.txt', '/content/drive/MyDrive/movie/pos/cv397_29023.txt', '/content/drive/MyDrive/movie/pos/cv679_28559.txt', '/content/drive/MyDrive/movie/pos/cv669_22995.txt', '/content/drive/MyDrive/movie/pos/cv445_25882.txt', '/content/drive/MyDrive/movie/pos/cv418_14774.txt', '/content/drive/MyDrive/movie/pos/cv350_20670.txt', '/content/drive/MyDrive/movie/pos/cv108_15571.txt', '/content/drive/MyDrive/movie/pos/cv041_21113.txt', '/content/drive/MyDrive/movie/pos/cv484_25054.txt', '/content/drive/MyDrive/movie/pos/cv525_16122.txt', '/content/drive/MyDrive/movie/pos/cv235_10217.txt', '/content/drive/MyDrive/movie/pos/cv113_23102.txt', '/content/drive/MyDrive/movie/pos/cv933_23776.txt', '/content/drive/MyDrive/movie/pos/cv023_12672.txt', '/content/drive/MyDrive/movie/pos/cv485_26649.txt', '/content/drive/MyDrive/movie/pos/cv147_21193.txt', '/content/drive/MyDrive/movie/pos/cv906_11491.txt', '/content/drive/MyDrive/movie/pos/cv518_13331.txt', '/content/drive/MyDrive/movie/pos/cv932_13401.txt', '/content/drive/MyDrive/movie/pos/cv998_14111.txt', '/content/drive/MyDrive/movie/pos/cv241_23130.txt', '/content/drive/MyDrive/movie/pos/cv033_24444.txt', '/content/drive/MyDrive/movie/pos/cv728_16133.txt', '/content/drive/MyDrive/movie/pos/cv894_2068.txt', '/content/drive/MyDrive/movie/pos/cv387_11507.txt', '/content/drive/MyDrive/movie/pos/cv050_11175.txt', '/content/drive/MyDrive/movie/pos/cv629_14909.txt', '/content/drive/MyDrive/movie/pos/cv965_26071.txt', '/content/drive/MyDrive/movie/pos/cv971_10874.txt', '/content/drive/MyDrive/movie/pos/cv168_7050.txt', '/content/drive/MyDrive/movie/pos/cv791_16302.txt', '/content/drive/MyDrive/movie/pos/cv393_29327.txt', '/content/drive/MyDrive/movie/pos/cv568_15638.txt', '/content/drive/MyDrive/movie/pos/cv336_10143.txt', '/content/drive/MyDrive/movie/pos/cv808_12635.txt', '/content/drive/MyDrive/movie/pos/cv677_17715.txt', '/content/drive/MyDrive/movie/pos/cv073_21785.txt', '/content/drive/MyDrive/movie/pos/cv613_21796.txt', '/content/drive/MyDrive/movie/pos/cv852_27523.txt', '/content/drive/MyDrive/movie/pos/cv322_20318.txt', '/content/drive/MyDrive/movie/pos/cv844_12690.txt', '/content/drive/MyDrive/movie/pos/cv516_11172.txt', '/content/drive/MyDrive/movie/pos/cv603_17694.txt', '/content/drive/MyDrive/movie/pos/cv712_22920.txt', '/content/drive/MyDrive/movie/pos/cv072_6169.txt', '/content/drive/MyDrive/movie/pos/cv371_7630.txt', '/content/drive/MyDrive/movie/pos/cv607_7717.txt', '/content/drive/MyDrive/movie/pos/cv800_12368.txt', '/content/drive/MyDrive/movie/pos/cv312_29377.txt', '/content/drive/MyDrive/movie/pos/cv227_24215.txt', '/content/drive/MyDrive/movie/pos/cv865_2895.txt', '/content/drive/MyDrive/movie/pos/cv980_10953.txt', '/content/drive/MyDrive/movie/pos/cv310_13091.txt', '/content/drive/MyDrive/movie/pos/cv880_29800.txt', '/content/drive/MyDrive/movie/pos/cv903_17822.txt', '/content/drive/MyDrive/movie/pos/cv289_6463.txt', '/content/drive/MyDrive/movie/pos/cv260_13959.txt', '/content/drive/MyDrive/movie/pos/cv010_29198.txt', '/content/drive/MyDrive/movie/pos/cv974_22941.txt', '/content/drive/MyDrive/movie/pos/cv528_10822.txt', '/content/drive/MyDrive/movie/pos/cv169_23778.txt', '/content/drive/MyDrive/movie/pos/cv191_29719.txt', '/content/drive/MyDrive/movie/pos/cv272_18974.txt', '/content/drive/MyDrive/movie/pos/cv838_24728.txt', '/content/drive/MyDrive/movie/pos/cv308_5016.txt', '/content/drive/MyDrive/movie/pos/cv526_12083.txt', '/content/drive/MyDrive/movie/pos/cv140_7479.txt', '/content/drive/MyDrive/movie/pos/cv149_15670.txt', '/content/drive/MyDrive/movie/pos/cv884_13632.txt', '/content/drive/MyDrive/movie/pos/cv714_18502.txt', '/content/drive/MyDrive/movie/pos/cv284_19119.txt', '/content/drive/MyDrive/movie/pos/cv799_18543.txt', '/content/drive/MyDrive/movie/pos/cv717_15953.txt', '/content/drive/MyDrive/movie/pos/cv433_10144.txt', '/content/drive/MyDrive/movie/pos/cv571_29366.txt', '/content/drive/MyDrive/movie/pos/cv385_29741.txt', '/content/drive/MyDrive/movie/pos/cv100_11528.txt', '/content/drive/MyDrive/movie/pos/cv653_19583.txt', '/content/drive/MyDrive/movie/pos/cv868_11948.txt', '/content/drive/MyDrive/movie/pos/cv776_20529.txt', '/content/drive/MyDrive/movie/pos/cv437_22849.txt', '/content/drive/MyDrive/movie/pos/cv452_5088.txt', '/content/drive/MyDrive/movie/pos/cv735_18801.txt', '/content/drive/MyDrive/movie/pos/cv618_8974.txt', '/content/drive/MyDrive/movie/pos/cv513_6923.txt', '/content/drive/MyDrive/movie/pos/cv031_18452.txt', '/content/drive/MyDrive/movie/pos/cv694_4876.txt', '/content/drive/MyDrive/movie/pos/cv966_28832.txt', '/content/drive/MyDrive/movie/pos/cv194_12079.txt', '/content/drive/MyDrive/movie/pos/cv893_26269.txt', '/content/drive/MyDrive/movie/pos/cv066_10821.txt', '/content/drive/MyDrive/movie/pos/cv658_10532.txt', '/content/drive/MyDrive/movie/pos/cv881_13254.txt', '/content/drive/MyDrive/movie/pos/cv314_14422.txt', '/content/drive/MyDrive/movie/pos/cv983_22928.txt', '/content/drive/MyDrive/movie/pos/cv608_23231.txt', '/content/drive/MyDrive/movie/pos/cv406_21020.txt', '/content/drive/MyDrive/movie/pos/cv462_19350.txt', '/content/drive/MyDrive/movie/pos/cv115_25396.txt', '/content/drive/MyDrive/movie/pos/cv579_11605.txt', '/content/drive/MyDrive/movie/pos/cv134_22246.txt', '/content/drive/MyDrive/movie/pos/cv327_20292.txt', '/content/drive/MyDrive/movie/pos/cv871_24888.txt', '/content/drive/MyDrive/movie/pos/cv919_16380.txt', '/content/drive/MyDrive/movie/pos/cv263_19259.txt', '/content/drive/MyDrive/movie/pos/cv039_6170.txt', '/content/drive/MyDrive/movie/pos/cv701_14252.txt', '/content/drive/MyDrive/movie/pos/cv948_24606.txt', '/content/drive/MyDrive/movie/pos/cv729_10154.txt', '/content/drive/MyDrive/movie/pos/cv215_22240.txt', '/content/drive/MyDrive/movie/pos/cv473_7367.txt', '/content/drive/MyDrive/movie/pos/cv429_7439.txt', '/content/drive/MyDrive/movie/pos/cv094_27889.txt', '/content/drive/MyDrive/movie/pos/cv268_18834.txt', '/content/drive/MyDrive/movie/pos/cv422_9381.txt', '/content/drive/MyDrive/movie/pos/cv675_21588.txt', '/content/drive/MyDrive/movie/pos/cv307_25270.txt', '/content/drive/MyDrive/movie/pos/cv170_3006.txt', '/content/drive/MyDrive/movie/pos/cv138_12721.txt', '/content/drive/MyDrive/movie/pos/cv006_15448.txt', '/content/drive/MyDrive/movie/pos/cv045_23923.txt', '/content/drive/MyDrive/movie/pos/cv047_1754.txt', '/content/drive/MyDrive/movie/pos/cv469_20630.txt', '/content/drive/MyDrive/movie/pos/cv157_29372.txt', '/content/drive/MyDrive/movie/pos/cv829_20289.txt', '/content/drive/MyDrive/movie/pos/cv281_23253.txt', '/content/drive/MyDrive/movie/pos/cv412_24095.txt', '/content/drive/MyDrive/movie/pos/cv414_10518.txt', '/content/drive/MyDrive/movie/pos/cv802_28664.txt', '/content/drive/MyDrive/movie/pos/cv335_14665.txt', '/content/drive/MyDrive/movie/pos/cv707_10678.txt', '/content/drive/MyDrive/movie/pos/cv096_11474.txt', '/content/drive/MyDrive/movie/pos/cv713_29155.txt', '/content/drive/MyDrive/movie/pos/cv269_21732.txt', '/content/drive/MyDrive/movie/pos/cv504_29243.txt', '/content/drive/MyDrive/movie/pos/cv887_5126.txt', '/content/drive/MyDrive/movie/pos/cv036_16831.txt', '/content/drive/MyDrive/movie/pos/cv557_11449.txt', '/content/drive/MyDrive/movie/pos/cv078_14730.txt', '/content/drive/MyDrive/movie/pos/cv970_18450.txt', '/content/drive/MyDrive/movie/pos/cv781_5262.txt', '/content/drive/MyDrive/movie/pos/cv345_9954.txt', '/content/drive/MyDrive/movie/pos/cv199_9629.txt', '/content/drive/MyDrive/movie/pos/cv546_11767.txt', '/content/drive/MyDrive/movie/pos/cv556_14808.txt', '/content/drive/MyDrive/movie/pos/cv012_29576.txt', '/content/drive/MyDrive/movie/pos/cv926_17059.txt', '/content/drive/MyDrive/movie/pos/cv941_10246.txt', '/content/drive/MyDrive/movie/pos/cv049_20471.txt', '/content/drive/MyDrive/movie/pos/cv186_2269.txt', '/content/drive/MyDrive/movie/pos/cv591_23640.txt', '/content/drive/MyDrive/movie/pos/cv376_19435.txt', '/content/drive/MyDrive/movie/pos/cv177_10367.txt', '/content/drive/MyDrive/movie/pos/cv687_21100.txt', '/content/drive/MyDrive/movie/pos/cv753_10875.txt', '/content/drive/MyDrive/movie/pos/cv120_4111.txt', '/content/drive/MyDrive/movie/pos/cv464_15650.txt', '/content/drive/MyDrive/movie/pos/cv274_25253.txt', '/content/drive/MyDrive/movie/pos/cv775_16237.txt', '/content/drive/MyDrive/movie/pos/cv722_7110.txt', '/content/drive/MyDrive/movie/pos/cv909_9960.txt', '/content/drive/MyDrive/movie/pos/cv064_24576.txt', '/content/drive/MyDrive/movie/pos/cv649_12735.txt', '/content/drive/MyDrive/movie/pos/cv384_17140.txt', '/content/drive/MyDrive/movie/pos/cv683_12167.txt', '/content/drive/MyDrive/movie/pos/cv436_19179.txt', '/content/drive/MyDrive/movie/pos/cv584_29722.txt', '/content/drive/MyDrive/movie/pos/cv632_9610.txt', '/content/drive/MyDrive/movie/pos/cv151_15771.txt', '/content/drive/MyDrive/movie/pos/cv899_16014.txt', '/content/drive/MyDrive/movie/pos/cv537_12370.txt', '/content/drive/MyDrive/movie/pos/cv448_14695.txt', '/content/drive/MyDrive/movie/pos/cv801_25228.txt', '/content/drive/MyDrive/movie/pos/cv914_28742.txt', '/content/drive/MyDrive/movie/pos/cv851_20469.txt', '/content/drive/MyDrive/movie/pos/cv196_29027.txt', '/content/drive/MyDrive/movie/pos/cv737_28907.txt', '/content/drive/MyDrive/movie/pos/cv333_8916.txt', '/content/drive/MyDrive/movie/pos/cv832_23275.txt', '/content/drive/MyDrive/movie/pos/cv296_12251.txt', '/content/drive/MyDrive/movie/pos/cv468_15228.txt', '/content/drive/MyDrive/movie/pos/cv750_10180.txt', '/content/drive/MyDrive/movie/pos/cv192_14395.txt', '/content/drive/MyDrive/movie/pos/cv293_29856.txt', '/content/drive/MyDrive/movie/pos/cv862_14324.txt', '/content/drive/MyDrive/movie/pos/cv853_29233.txt', '/content/drive/MyDrive/movie/pos/cv786_22497.txt', '/content/drive/MyDrive/movie/pos/cv697_11162.txt', '/content/drive/MyDrive/movie/pos/cv018_20137.txt', '/content/drive/MyDrive/movie/pos/cv492_18271.txt', '/content/drive/MyDrive/movie/pos/cv193_5416.txt', '/content/drive/MyDrive/movie/pos/cv340_13287.txt', '/content/drive/MyDrive/movie/pos/cv431_7085.txt', '/content/drive/MyDrive/movie/pos/cv059_28885.txt', '/content/drive/MyDrive/movie/pos/cv132_5618.txt', '/content/drive/MyDrive/movie/pos/cv503_10558.txt', '/content/drive/MyDrive/movie/pos/cv908_16009.txt', '/content/drive/MyDrive/movie/pos/cv424_8831.txt', '/content/drive/MyDrive/movie/pos/cv203_17986.txt', '/content/drive/MyDrive/movie/pos/cv999_13106.txt', '/content/drive/MyDrive/movie/pos/cv128_29627.txt', '/content/drive/MyDrive/movie/pos/cv585_22496.txt', '/content/drive/MyDrive/movie/pos/cv684_11798.txt', '/content/drive/MyDrive/movie/pos/cv895_21022.txt', '/content/drive/MyDrive/movie/pos/cv661_2450.txt', '/content/drive/MyDrive/movie/pos/cv615_14182.txt', '/content/drive/MyDrive/movie/pos/cv814_18975.txt', '/content/drive/MyDrive/movie/pos/cv127_14711.txt', '/content/drive/MyDrive/movie/pos/cv816_13655.txt', '/content/drive/MyDrive/movie/pos/cv982_21103.txt', '/content/drive/MyDrive/movie/pos/cv588_13008.txt', '/content/drive/MyDrive/movie/pos/cv622_8147.txt', '/content/drive/MyDrive/movie/pos/cv777_10094.txt', '/content/drive/MyDrive/movie/pos/cv602_8300.txt', '/content/drive/MyDrive/movie/pos/cv427_10825.txt', '/content/drive/MyDrive/movie/pos/cv860_13853.txt', '/content/drive/MyDrive/movie/pos/cv489_17906.txt', '/content/drive/MyDrive/movie/pos/cv137_15422.txt', '/content/drive/MyDrive/movie/pos/cv283_11055.txt', '/content/drive/MyDrive/movie/pos/cv616_29319.txt', '/content/drive/MyDrive/movie/pos/cv085_1381.txt', '/content/drive/MyDrive/movie/pos/cv541_28835.txt', '/content/drive/MyDrive/movie/pos/cv520_12295.txt', '/content/drive/MyDrive/movie/pos/cv592_22315.txt', '/content/drive/MyDrive/movie/pos/cv107_24319.txt', '/content/drive/MyDrive/movie/pos/cv080_13465.txt', '/content/drive/MyDrive/movie/pos/cv212_10027.txt', '/content/drive/MyDrive/movie/pos/cv030_21593.txt', '/content/drive/MyDrive/movie/pos/cv093_13951.txt', '/content/drive/MyDrive/movie/pos/cv733_9839.txt', '/content/drive/MyDrive/movie/pos/cv027_25219.txt', '/content/drive/MyDrive/movie/pos/cv152_8736.txt', '/content/drive/MyDrive/movie/pos/cv125_9391.txt', '/content/drive/MyDrive/movie/pos/cv739_11209.txt', '/content/drive/MyDrive/movie/pos/cv792_3832.txt', '/content/drive/MyDrive/movie/pos/cv904_24353.txt', '/content/drive/MyDrive/movie/pos/cv326_13295.txt', '/content/drive/MyDrive/movie/pos/cv890_3977.txt', '/content/drive/MyDrive/movie/pos/cv378_20629.txt', '/content/drive/MyDrive/movie/pos/cv872_12591.txt', '/content/drive/MyDrive/movie/pos/cv875_5754.txt', '/content/drive/MyDrive/movie/pos/cv178_12972.txt', '/content/drive/MyDrive/movie/pos/cv285_16494.txt', '/content/drive/MyDrive/movie/pos/cv368_10466.txt', '/content/drive/MyDrive/movie/pos/cv678_13419.txt', '/content/drive/MyDrive/movie/pos/cv342_19456.txt', '/content/drive/MyDrive/movie/pos/cv058_8025.txt', '/content/drive/MyDrive/movie/pos/cv590_19290.txt', '/content/drive/MyDrive/movie/pos/cv960_29007.txt', '/content/drive/MyDrive/movie/pos/cv451_10690.txt', '/content/drive/MyDrive/movie/pos/cv365_11576.txt', '/content/drive/MyDrive/movie/pos/cv291_26635.txt', '/content/drive/MyDrive/movie/pos/cv639_10308.txt', '/content/drive/MyDrive/movie/pos/cv773_18817.txt', '/content/drive/MyDrive/movie/pos/cv403_6621.txt', '/content/drive/MyDrive/movie/pos/cv968_24218.txt', '/content/drive/MyDrive/movie/pos/cv789_12136.txt', '/content/drive/MyDrive/movie/pos/cv290_11084.txt', '/content/drive/MyDrive/movie/pos/cv223_29066.txt', '/content/drive/MyDrive/movie/pos/cv662_13320.txt', '/content/drive/MyDrive/movie/pos/cv366_10221.txt', '/content/drive/MyDrive/movie/pos/cv882_10026.txt', '/content/drive/MyDrive/movie/pos/cv498_8832.txt', '/content/drive/MyDrive/movie/pos/cv458_8604.txt', '/content/drive/MyDrive/movie/pos/cv986_13527.txt', '/content/drive/MyDrive/movie/pos/cv136_11505.txt', '/content/drive/MyDrive/movie/pos/cv020_8825.txt', '/content/drive/MyDrive/movie/pos/cv836_12968.txt', '/content/drive/MyDrive/movie/pos/cv508_16006.txt', '/content/drive/MyDrive/movie/pos/cv116_28942.txt', '/content/drive/MyDrive/movie/pos/cv233_15964.txt', '/content/drive/MyDrive/movie/pos/cv621_14368.txt', '/content/drive/MyDrive/movie/pos/cv994_12270.txt', '/content/drive/MyDrive/movie/pos/cv413_7398.txt', '/content/drive/MyDrive/movie/pos/cv671_5054.txt', '/content/drive/MyDrive/movie/pos/cv003_11664.txt', '/content/drive/MyDrive/movie/pos/cv535_19728.txt', '/content/drive/MyDrive/movie/pos/cv770_10451.txt', '/content/drive/MyDrive/movie/pos/cv560_17175.txt', '/content/drive/MyDrive/movie/pos/cv912_5674.txt', '/content/drive/MyDrive/movie/pos/cv238_12931.txt', '/content/drive/MyDrive/movie/pos/cv596_28311.txt', '/content/drive/MyDrive/movie/pos/cv793_13650.txt', '/content/drive/MyDrive/movie/pos/cv902_12256.txt', '/content/drive/MyDrive/movie/pos/cv698_15253.txt', '/content/drive/MyDrive/movie/pos/cv732_12245.txt', '/content/drive/MyDrive/movie/pos/cv984_12767.txt', '/content/drive/MyDrive/movie/pos/cv522_5583.txt', '/content/drive/MyDrive/movie/pos/cv673_24714.txt', '/content/drive/MyDrive/movie/pos/cv392_11458.txt', '/content/drive/MyDrive/movie/pos/cv943_22488.txt', '/content/drive/MyDrive/movie/pos/cv249_11640.txt', '/content/drive/MyDrive/movie/pos/cv292_7282.txt', '/content/drive/MyDrive/movie/pos/cv450_7890.txt', '/content/drive/MyDrive/movie/pos/cv105_17990.txt', '/content/drive/MyDrive/movie/pos/cv251_22636.txt', '/content/drive/MyDrive/movie/pos/cv659_19944.txt', '/content/drive/MyDrive/movie/pos/cv301_12146.txt', '/content/drive/MyDrive/movie/pos/cv963_6895.txt', '/content/drive/MyDrive/movie/pos/cv286_25050.txt', '/content/drive/MyDrive/movie/pos/cv216_18738.txt', '/content/drive/MyDrive/movie/pos/cv277_19091.txt', '/content/drive/MyDrive/movie/pos/cv839_21467.txt', '/content/drive/MyDrive/movie/pos/cv955_25001.txt', '/content/drive/MyDrive/movie/pos/cv024_6778.txt', '/content/drive/MyDrive/movie/pos/cv011_12166.txt', '/content/drive/MyDrive/movie/pos/cv538_28667.txt', '/content/drive/MyDrive/movie/pos/cv210_9312.txt', '/content/drive/MyDrive/movie/pos/cv973_10066.txt', '/content/drive/MyDrive/movie/pos/cv499_10658.txt', '/content/drive/MyDrive/movie/pos/cv663_13019.txt', '/content/drive/MyDrive/movie/pos/cv369_12886.txt', '/content/drive/MyDrive/movie/pos/cv019_14482.txt', '/content/drive/MyDrive/movie/pos/cv976_10267.txt', '/content/drive/MyDrive/movie/pos/cv005_29443.txt', '/content/drive/MyDrive/movie/pos/cv686_13900.txt', '/content/drive/MyDrive/movie/pos/cv240_14336.txt', '/content/drive/MyDrive/movie/pos/cv089_11418.txt', '/content/drive/MyDrive/movie/pos/cv856_29013.txt', '/content/drive/MyDrive/movie/pos/cv161_11425.txt', '/content/drive/MyDrive/movie/pos/cv400_19220.txt', '/content/drive/MyDrive/movie/pos/cv527_10123.txt', '/content/drive/MyDrive/movie/pos/cv303_27520.txt', '/content/drive/MyDrive/movie/pos/cv668_17604.txt', '/content/drive/MyDrive/movie/pos/cv270_6079.txt', '/content/drive/MyDrive/movie/pos/cv938_10220.txt', '/content/drive/MyDrive/movie/pos/cv032_22550.txt', '/content/drive/MyDrive/movie/pos/cv466_18722.txt', '/content/drive/MyDrive/movie/pos/cv004_11636.txt', '/content/drive/MyDrive/movie/pos/cv900_10331.txt', '/content/drive/MyDrive/movie/pos/cv818_10211.txt', '/content/drive/MyDrive/movie/pos/cv575_21150.txt', '/content/drive/MyDrive/movie/pos/cv780_7984.txt', '/content/drive/MyDrive/movie/pos/cv610_2287.txt', '/content/drive/MyDrive/movie/pos/cv496_10530.txt', '/content/drive/MyDrive/movie/pos/cv953_6836.txt', '/content/drive/MyDrive/movie/pos/cv198_18180.txt', '/content/drive/MyDrive/movie/pos/cv355_16413.txt', '/content/drive/MyDrive/movie/pos/cv928_9168.txt', '/content/drive/MyDrive/movie/pos/cv886_18177.txt', '/content/drive/MyDrive/movie/pos/cv131_10713.txt', '/content/drive/MyDrive/movie/pos/cv181_14401.txt', '/content/drive/MyDrive/movie/pos/cv710_22577.txt', '/content/drive/MyDrive/movie/pos/cv863_7424.txt', '/content/drive/MyDrive/movie/pos/cv219_18626.txt', '/content/drive/MyDrive/movie/pos/cv088_24113.txt', '/content/drive/MyDrive/movie/pos/cv141_15686.txt', '/content/drive/MyDrive/movie/pos/cv959_14611.txt', '/content/drive/MyDrive/movie/pos/cv190_27052.txt', '/content/drive/MyDrive/movie/pos/cv962_9803.txt', '/content/drive/MyDrive/movie/pos/cv841_3967.txt', '/content/drive/MyDrive/movie/pos/cv699_7223.txt', '/content/drive/MyDrive/movie/pos/cv727_4978.txt', '/content/drive/MyDrive/movie/pos/cv913_29252.txt', '/content/drive/MyDrive/movie/pos/cv180_16113.txt', '/content/drive/MyDrive/movie/pos/cv567_29611.txt', '/content/drive/MyDrive/movie/pos/cv142_22516.txt', '/content/drive/MyDrive/movie/pos/cv348_18176.txt', '/content/drive/MyDrive/movie/pos/cv439_15970.txt', '/content/drive/MyDrive/movie/pos/cv595_25335.txt', '/content/drive/MyDrive/movie/pos/cv391_10802.txt', '/content/drive/MyDrive/movie/pos/cv487_10446.txt', '/content/drive/MyDrive/movie/pos/cv379_21963.txt', '/content/drive/MyDrive/movie/pos/cv211_9953.txt', '/content/drive/MyDrive/movie/pos/cv693_18063.txt', '/content/drive/MyDrive/movie/pos/cv705_11059.txt', '/content/drive/MyDrive/movie/pos/cv419_13394.txt', '/content/drive/MyDrive/movie/pos/cv512_15965.txt', '/content/drive/MyDrive/movie/pos/cv924_29540.txt', '/content/drive/MyDrive/movie/pos/cv539_20347.txt', '/content/drive/MyDrive/movie/pos/cv548_17731.txt', '/content/drive/MyDrive/movie/pos/cv627_11620.txt', '/content/drive/MyDrive/movie/pos/cv382_7897.txt', '/content/drive/MyDrive/movie/pos/cv558_29507.txt', '/content/drive/MyDrive/movie/pos/cv130_17083.txt', '/content/drive/MyDrive/movie/pos/cv395_10849.txt', '/content/drive/MyDrive/movie/pos/cv380_7574.txt', '/content/drive/MyDrive/movie/pos/cv404_20315.txt', '/content/drive/MyDrive/movie/pos/cv626_7410.txt', '/content/drive/MyDrive/movie/pos/cv282_6653.txt', '/content/drive/MyDrive/movie/pos/cv500_10251.txt', '/content/drive/MyDrive/movie/pos/cv981_14989.txt', '/content/drive/MyDrive/movie/pos/cv917_29715.txt', '/content/drive/MyDrive/movie/pos/cv877_29274.txt', '/content/drive/MyDrive/movie/pos/cv245_8569.txt', '/content/drive/MyDrive/movie/pos/cv459_20319.txt', '/content/drive/MyDrive/movie/pos/cv651_10492.txt', '/content/drive/MyDrive/movie/pos/cv226_2618.txt', '/content/drive/MyDrive/movie/pos/cv660_21893.txt', '/content/drive/MyDrive/movie/pos/cv656_24201.txt', '/content/drive/MyDrive/movie/pos/cv611_21120.txt', '/content/drive/MyDrive/movie/pos/cv022_12864.txt', '/content/drive/MyDrive/movie/pos/cv718_11434.txt', '/content/drive/MyDrive/movie/pos/cv246_28807.txt', '/content/drive/MyDrive/movie/pos/cv820_22892.txt', '/content/drive/MyDrive/movie/pos/cv076_24945.txt', '/content/drive/MyDrive/movie/pos/cv206_14293.txt', '/content/drive/MyDrive/movie/pos/cv796_15782.txt', '/content/drive/MyDrive/movie/pos/cv300_22284.txt', '/content/drive/MyDrive/movie/pos/cv407_22637.txt', '/content/drive/MyDrive/movie/pos/cv001_18431.txt', '/content/drive/MyDrive/movie/pos/cv135_11603.txt', '/content/drive/MyDrive/movie/pos/cv182_7281.txt', '/content/drive/MyDrive/movie/pos/cv716_10514.txt', '/content/drive/MyDrive/movie/pos/cv869_23611.txt', '/content/drive/MyDrive/movie/pos/cv332_16307.txt', '/content/drive/MyDrive/movie/pos/cv111_11473.txt', '/content/drive/MyDrive/movie/pos/cv604_2230(1).txt', '/content/drive/MyDrive/movie/pos/cv767_14062.txt', '/content/drive/MyDrive/movie/pos/cv095_28892.txt', '/content/drive/MyDrive/movie/pos/cv069_10801.txt', '/content/drive/MyDrive/movie/pos/cv847_1941.txt', '/content/drive/MyDrive/movie/pos/cv764_11739.txt', '/content/drive/MyDrive/movie/pos/cv630_10057.txt', '/content/drive/MyDrive/movie/pos/cv383_13116.txt', '/content/drive/MyDrive/movie/pos/cv817_4041.txt', '/content/drive/MyDrive/movie/pos/cv389_9369.txt', '/content/drive/MyDrive/movie/pos/cv580_14064.txt', '/content/drive/MyDrive/movie/pos/cv275_28887.txt', '/content/drive/MyDrive/movie/pos/cv752_24155.txt', '/content/drive/MyDrive/movie/pos/cv810_12458.txt', '/content/drive/MyDrive/movie/pos/cv083_24234.txt', '/content/drive/MyDrive/movie/pos/cv885_12318.txt', '/content/drive/MyDrive/movie/pos/cv650_14340.txt', '/content/drive/MyDrive/movie/pos/cv934_19027.txt', '/content/drive/MyDrive/movie/pos/cv038_9749.txt', '/content/drive/MyDrive/movie/pos/cv747_16556.txt', '/content/drive/MyDrive/movie/pos/cv015_29439.txt', '/content/drive/MyDrive/movie/pos/cv043_15013.txt', '/content/drive/MyDrive/movie/pos/cv237_19221.txt', '/content/drive/MyDrive/movie/pos/cv324_7082.txt', '/content/drive/MyDrive/movie/pos/cv907_3541.txt', '/content/drive/MyDrive/movie/pos/cv428_11347.txt', '/content/drive/MyDrive/movie/pos/cv144_5007.txt', '/content/drive/MyDrive/movie/pos/cv099_10534.txt', '/content/drive/MyDrive/movie/pos/cv812_17924.txt', '/content/drive/MyDrive/movie/pos/cv119_9867.txt', '/content/drive/MyDrive/movie/pos/cv769_8123.txt', '/content/drive/MyDrive/movie/pos/cv819_9364.txt', '/content/drive/MyDrive/movie/pos/cv057_7453.txt', '/content/drive/MyDrive/movie/pos/cv740_12445.txt', '/content/drive/MyDrive/movie/pos/cv471_16858.txt', '/content/drive/MyDrive/movie/pos/cv552_10016.txt', '/content/drive/MyDrive/movie/pos/cv213_18934.txt', '/content/drive/MyDrive/movie/pos/cv762_13927.txt', '/content/drive/MyDrive/movie/pos/cv896_16071.txt', '/content/drive/MyDrive/movie/pos/cv218_24352.txt', '/content/drive/MyDrive/movie/pos/cv643_29349.txt', '/content/drive/MyDrive/movie/pos/cv171_13537.txt', '/content/drive/MyDrive/movie/pos/cv969_13250.txt', '/content/drive/MyDrive/movie/pos/cv474_10209.txt', '/content/drive/MyDrive/movie/pos/cv566_8581.txt', '/content/drive/MyDrive/movie/pos/cv876_9390.txt', '/content/drive/MyDrive/movie/pos/cv617_9322.txt', '/content/drive/MyDrive/movie/pos/cv577_28549.txt', '/content/drive/MyDrive/movie/pos/cv597_26360.txt', '/content/drive/MyDrive/movie/pos/cv667_18467.txt', '/content/drive/MyDrive/movie/pos/cv417_13115.txt', '/content/drive/MyDrive/movie/pos/cv754_7216.txt', '/content/drive/MyDrive/movie/pos/cv079_11933.txt', '/content/drive/MyDrive/movie/pos/cv891_6385.txt', '/content/drive/MyDrive/movie/pos/cv807_21740.txt', '/content/drive/MyDrive/movie/pos/cv053_21822.txt', '/content/drive/MyDrive/movie/pos/cv581_19381.txt', '/content/drive/MyDrive/movie/pos/cv594_11039.txt', '/content/drive/MyDrive/movie/pos/cv408_5297.txt', '/content/drive/MyDrive/movie/pos/cv034_29647.txt', '/content/drive/MyDrive/movie/pos/cv051_10306.txt', '/content/drive/MyDrive/movie/pos/cv783_13227.txt', '/content/drive/MyDrive/movie/pos/cv825_5063.txt', '/content/drive/MyDrive/movie/pos/cv744_10038.txt', '/content/drive/MyDrive/movie/pos/cv231_10425.txt', '/content/drive/MyDrive/movie/pos/cv599_20988.txt', '/content/drive/MyDrive/movie/pos/cv657_24513.txt', '/content/drive/MyDrive/movie/pos/cv759_13522.txt', '/content/drive/MyDrive/movie/pos/cv763_14729.txt', '/content/drive/MyDrive/movie/pos/cv593_10987.txt', '/content/drive/MyDrive/movie/pos/cv889_21430.txt', '/content/drive/MyDrive/movie/pos/cv681_9692.txt', '/content/drive/MyDrive/movie/pos/cv062_23115.txt', '/content/drive/MyDrive/movie/pos/cv084_13566.txt', '/content/drive/MyDrive/movie/pos/cv704_15969.txt', '/content/drive/MyDrive/movie/pos/cv208_9020.txt', '/content/drive/MyDrive/movie/pos/cv008_29435.txt', '/content/drive/MyDrive/movie/pos/cv898_14187.txt', '/content/drive/MyDrive/movie/pos/cv311_16002.txt', '/content/drive/MyDrive/movie/pos/cv271_13837.txt', '/content/drive/MyDrive/movie/pos/cv654_18246.txt', '/content/drive/MyDrive/movie/pos/cv367_22792.txt', '/content/drive/MyDrive/movie/pos/cv205_9457.txt', '/content/drive/MyDrive/movie/pos/cv187_12829.txt', '/content/drive/MyDrive/movie/pos/cv641_12349.txt', '/content/drive/MyDrive/movie/pos/cv692_15451.txt', '/content/drive/MyDrive/movie/pos/cv411_15007.txt', '/content/drive/MyDrive/movie/pos/cv866_29691.txt', '/content/drive/MyDrive/movie/pos/cv347_13194.txt', '/content/drive/MyDrive/movie/pos/cv267_14952.txt', '/content/drive/MyDrive/movie/pos/cv833_11053.txt', '/content/drive/MyDrive/movie/pos/cv721_29121.txt', '/content/drive/MyDrive/movie/pos/cv562_10359.txt', '/content/drive/MyDrive/movie/pos/cv680_10160.txt', '/content/drive/MyDrive/movie/pos/cv160_10362.txt', '/content/drive/MyDrive/movie/pos/cv362_15341.txt', '/content/drive/MyDrive/movie/pos/cv524_23627.txt', '/content/drive/MyDrive/movie/pos/cv117_24295.txt', '/content/drive/MyDrive/movie/pos/cv553_26915.txt', '/content/drive/MyDrive/movie/pos/cv056_13133.txt', '/content/drive/MyDrive/movie/pos/cv416_11136.txt', '/content/drive/MyDrive/movie/pos/cv563_17257.txt', '/content/drive/MyDrive/movie/pos/cv048_16828.txt', '/content/drive/MyDrive/movie/pos/cv266_25779.txt', '/content/drive/MyDrive/movie/pos/cv321_12843.txt', '/content/drive/MyDrive/movie/pos/cv467_25773.txt', '/content/drive/MyDrive/movie/pos/cv494_17389.txt', '/content/drive/MyDrive/movie/pos/cv009_29592.txt', '/content/drive/MyDrive/movie/pos/cv857_15958.txt', '/content/drive/MyDrive/movie/pos/cv373_20404.txt', '/content/drive/MyDrive/movie/pos/cv465_22431.txt', '/content/drive/MyDrive/movie/pos/cv014_13924.txt', '/content/drive/MyDrive/movie/pos/cv586_7543.txt', '/content/drive/MyDrive/movie/pos/cv435_23110.txt', '/content/drive/MyDrive/movie/pos/cv743_15449.txt', '/content/drive/MyDrive/movie/pos/cv197_29328.txt', '/content/drive/MyDrive/movie/pos/cv357_13156.txt', '/content/drive/MyDrive/movie/pos/cv166_11052.txt', '/content/drive/MyDrive/movie/pos/cv996_11592.txt', '/content/drive/MyDrive/movie/pos/cv640_5378.txt', '/content/drive/MyDrive/movie/pos/cv294_11684.txt', '/content/drive/MyDrive/movie/pos/cv453_10379.txt', '/content/drive/MyDrive/movie/pos/cv106_16807.txt', '/content/drive/MyDrive/movie/pos/cv647_13691.txt', '/content/drive/MyDrive/movie/pos/cv255_13683.txt', '/content/drive/MyDrive/movie/pos/cv183_18612.txt', '/content/drive/MyDrive/movie/pos/cv337_29181.txt', '/content/drive/MyDrive/movie/pos/cv846_29497.txt', '/content/drive/MyDrive/movie/pos/cv645_15668.txt', '/content/drive/MyDrive/movie/pos/cv842_5866.txt', '/content/drive/MyDrive/movie/pos/cv472_29280.txt', '/content/drive/MyDrive/movie/pos/cv421_9709.txt', '/content/drive/MyDrive/movie/pos/cv176_12857.txt', '/content/drive/MyDrive/movie/pos/cv823_15569.txt', '/content/drive/MyDrive/movie/pos/cv774_13845.txt', '/content/drive/MyDrive/movie/pos/cv834_22195.txt', '/content/drive/MyDrive/movie/pos/cv945_12160.txt', '/content/drive/MyDrive/movie/pos/cv634_11101.txt', '/content/drive/MyDrive/movie/pos/cv956_11609.txt', '/content/drive/MyDrive/movie/pos/cv554_13151.txt', '/content/drive/MyDrive/movie/pos/cv725_10103.txt', '/content/drive/MyDrive/movie/pos/cv644_17154.txt', '/content/drive/MyDrive/movie/pos/cv691_5043.txt', '/content/drive/MyDrive/movie/pos/cv742_7751.txt', '/content/drive/MyDrive/movie/pos/cv359_6647.txt', '/content/drive/MyDrive/movie/pos/cv947_10601.txt', '/content/drive/MyDrive/movie/pos/cv795_10122.txt', '/content/drive/MyDrive/movie/pos/cv442_13846.txt', '/content/drive/MyDrive/movie/pos/cv760_8597.txt', '/content/drive/MyDrive/movie/pos/cv363_29332.txt', '/content/drive/MyDrive/movie/pos/cv870_16348.txt', '/content/drive/MyDrive/movie/pos/cv975_10981.txt', '/content/drive/MyDrive/movie/pos/cv479_5649.txt', '/content/drive/MyDrive/movie/pos/cv530_16212.txt', '/content/drive/MyDrive/movie/pos/cv077_22138.txt', '/content/drive/MyDrive/movie/pos/cv637_1250.txt', '/content/drive/MyDrive/movie/pos/cv154_9328.txt', '/content/drive/MyDrive/movie/pos/cv561_9201.txt', '/content/drive/MyDrive/movie/pos/cv545_12014.txt', '/content/drive/MyDrive/movie/pos/cv243_20728.txt', '/content/drive/MyDrive/movie/pos/cv787_13743.txt', '/content/drive/MyDrive/movie/pos/cv319_14727.txt', '/content/drive/MyDrive/movie/pos/cv741_11890.txt', '/content/drive/MyDrive/movie/pos/cv150_12916.txt', '/content/drive/MyDrive/movie/pos/cv798_23531.txt', '/content/drive/MyDrive/movie/pos/cv040_8276.txt', '/content/drive/MyDrive/movie/pos/cv061_8837.txt', '/content/drive/MyDrive/movie/pos/cv967_5788.txt', '/content/drive/MyDrive/movie/pos/cv803_8207.txt', '/content/drive/MyDrive/movie/pos/cv531_26486.txt', '/content/drive/MyDrive/movie/pos/cv738_10116.txt', '/content/drive/MyDrive/movie/pos/cv958_12162.txt', '/content/drive/MyDrive/movie/pos/cv540_3421.txt', '/content/drive/MyDrive/movie/pos/cv534_14083.txt', '/content/drive/MyDrive/movie/pos/cv103_11021.txt', '/content/drive/MyDrive/movie/pos/cv101_10175.txt', '/content/drive/MyDrive/movie/pos/cv481_7436.txt', '/content/drive/MyDrive/movie/pos/cv446_11353.txt', '/content/drive/MyDrive/movie/pos/cv942_17082.txt', '/content/drive/MyDrive/movie/pos/cv604_2230.txt', '/content/drive/MyDrive/movie/pos/cv377_7946.txt', '/content/drive/MyDrive/movie/pos/cv745_12773.txt', '/content/drive/MyDrive/movie/pos/cv589_12064.txt', '/content/drive/MyDrive/movie/pos/cv457_18453.txt', '/content/drive/MyDrive/movie/pos/cv002_15918.txt', '/content/drive/MyDrive/movie/pos/cv195_14528.txt', '/content/drive/MyDrive/movie/pos/cv173_4471.txt', '/content/drive/MyDrive/movie/pos/cv204_8451.txt', '/content/drive/MyDrive/movie/pos/cv396_17989.txt', '/content/drive/MyDrive/movie/pos/cv129_16741.txt', '/content/drive/MyDrive/movie/pos/cv533_9821.txt', '/content/drive/MyDrive/movie/pos/cv514_11187.txt', '/content/drive/MyDrive/movie/pos/cv402_14425.txt', '/content/drive/MyDrive/movie/pos/cv695_21108.txt', '/content/drive/MyDrive/movie/pos/cv858_18819.txt', '/content/drive/MyDrive/movie/pos/cv901_11017.txt', '/content/drive/MyDrive/movie/pos/cv222_17395.txt', '/content/drive/MyDrive/movie/pos/cv751_15719.txt', '/content/drive/MyDrive/movie/pos/cv929_16908.txt', '/content/drive/MyDrive/movie/pos/cv261_10954.txt', '/content/drive/MyDrive/movie/pos/cv325_16629.txt', '/content/drive/MyDrive/movie/pos/cv188_19226.txt', '/content/drive/MyDrive/movie/pos/cv837_27325.txt', '/content/drive/MyDrive/movie/pos/cv124_4122.txt', '/content/drive/MyDrive/movie/pos/cv155_7308.txt', '/content/drive/MyDrive/movie/pos/cv341_24430.txt', '/content/drive/MyDrive/movie/pos/cv603_17694(1).txt', '/content/drive/MyDrive/movie/pos/cv259_10934.txt', '/content/drive/MyDrive/movie/pos/cv000_29590.txt', '/content/drive/MyDrive/movie/pos/cv922_10073.txt', '/content/drive/MyDrive/movie/pos/cv755_23616.txt', '/content/drive/MyDrive/movie/pos/cv461_19600.txt', '/content/drive/MyDrive/movie/pos/cv879_14903.txt', '/content/drive/MyDrive/movie/pos/cv145_11472.txt', '/content/drive/MyDrive/movie/pos/cv506_15956.txt', '/content/drive/MyDrive/movie/pos/cv221_2695.txt', '/content/drive/MyDrive/movie/pos/cv434_5793.txt', '/content/drive/MyDrive/movie/pos/cv278_13041.txt', '/content/drive/MyDrive/movie/pos/cv067_19774.txt', '/content/drive/MyDrive/movie/pos/cv071_12095.txt', '/content/drive/MyDrive/movie/pos/cv250_25616.txt', '/content/drive/MyDrive/movie/pos/cv843_15544.txt', '/content/drive/MyDrive/movie/pos/cv925_8969.txt', '/content/drive/MyDrive/movie/pos/cv778_17330.txt', '/content/drive/MyDrive/movie/pos/cv930_13475.txt', '/content/drive/MyDrive/movie/pos/cv165_22619.txt', '/content/drive/MyDrive/movie/pos/cv254_6027.txt', '/content/drive/MyDrive/movie/pos/cv897_10837.txt', '/content/drive/MyDrive/movie/pos/cv806_8842.txt', '/content/drive/MyDrive/movie/pos/cv672_28083.txt', '/content/drive/MyDrive/movie/pos/cv921_12747.txt', '/content/drive/MyDrive/movie/pos/cv239_3385.txt', '/content/drive/MyDrive/movie/pos/cv583_29692.txt', '/content/drive/MyDrive/movie/pos/cv248_13987.txt', '/content/drive/MyDrive/movie/pos/cv374_25436.txt', '/content/drive/MyDrive/movie/pos/cv867_16661.txt', '/content/drive/MyDrive/movie/pos/cv576_14094.txt', '/content/drive/MyDrive/movie/pos/cv280_8267.txt', '/content/drive/MyDrive/movie/pos/cv515_17069.txt', '/content/drive/MyDrive/movie/pos/cv410_24266.txt', '/content/drive/MyDrive/movie/pos/cv952_25240.txt', '/content/drive/MyDrive/movie/pos/cv920_29622.txt', '/content/drive/MyDrive/movie/pos/cv944_13521.txt', '/content/drive/MyDrive/movie/pos/cv339_21119.txt', '/content/drive/MyDrive/movie/pos/cv430_17351.txt', '/content/drive/MyDrive/movie/pos/cv502_10406.txt', '/content/drive/MyDrive/movie/pos/cv689_12587.txt', '/content/drive/MyDrive/movie/pos/cv201_6997.txt', '/content/drive/MyDrive/movie/pos/cv726_4719.txt', '/content/drive/MyDrive/movie/pos/cv772_12119.txt', '/content/drive/MyDrive/movie/pos/cv972_26417.txt', '/content/drive/MyDrive/movie/pos/cv529_10420.txt', '/content/drive/MyDrive/movie/pos/cv299_16214.txt', '/content/drive/MyDrive/movie/pos/cv126_28971.txt', '/content/drive/MyDrive/movie/pos/cv104_18134.txt', '/content/drive/MyDrive/movie/pos/cv570_29082.txt', '/content/drive/MyDrive/movie/pos/cv573_29525.txt', '/content/drive/MyDrive/movie/pos/cv855_20661.txt', '/content/drive/MyDrive/movie/pos/cv478_14309.txt', '/content/drive/MyDrive/movie/pos/cv044_16969.txt', '/content/drive/MyDrive/movie/pos/cv550_22211.txt', '/content/drive/MyDrive/movie/pos/cv708_28729.txt', '/content/drive/MyDrive/movie/pos/cv309_22571.txt', '/content/drive/MyDrive/movie/pos/cv476_16856.txt', '/content/drive/MyDrive/movie/pos/cv517_19219.txt', '/content/drive/MyDrive/movie/pos/cv358_10691.txt', '/content/drive/MyDrive/movie/pos/cv859_14107.txt', '/content/drive/MyDrive/movie/pos/cv497_26980.txt', '/content/drive/MyDrive/movie/pos/cv509_15888.txt', '/content/drive/MyDrive/movie/pos/cv265_10814.txt', '/content/drive/MyDrive/movie/pos/cv954_18628.txt', '/content/drive/MyDrive/movie/pos/cv655_11154.txt', '/content/drive/MyDrive/movie/pos/cv295_15570.txt', '/content/drive/MyDrive/movie/pos/cv317_24049.txt', '/content/drive/MyDrive/movie/pos/cv957_8737.txt', '/content/drive/MyDrive/movie/pos/cv612_5461.txt', '/content/drive/MyDrive/movie/pos/cv229_13611.txt', '/content/drive/MyDrive/movie/pos/cv720_5389.txt', '/content/drive/MyDrive/movie/pos/cv731_4136.txt', '/content/drive/MyDrive/movie/pos/cv923_11051.txt', '/content/drive/MyDrive/movie/pos/cv619_12462.txt', '/content/drive/MyDrive/movie/pos/cv276_15684.txt', '/content/drive/MyDrive/movie/pos/cv482_10580.txt', '/content/drive/MyDrive/movie/pos/cv883_27751.txt', '/content/drive/MyDrive/movie/pos/cv409_29786.txt', '/content/drive/MyDrive/movie/pos/cv633_29837.txt', '/content/drive/MyDrive/movie/pos/cv013_10159.txt', '/content/drive/MyDrive/movie/pos/cv279_18329.txt', '/content/drive/MyDrive/movie/pos/cv854_17740.txt', '/content/drive/MyDrive/movie/pos/cv432_14224.txt', '/content/drive/MyDrive/movie/pos/cv946_18658.txt', '/content/drive/MyDrive/movie/pos/cv510_23360.txt', '/content/drive/MyDrive/movie/pos/cv156_10481.txt', '/content/drive/MyDrive/movie/pos/cv287_15900.txt', '/content/drive/MyDrive/movie/pos/cv771_28665.txt', '/content/drive/MyDrive/movie/pos/cv390_11345.txt', '/content/drive/MyDrive/movie/pos/cv940_17705.txt', '/content/drive/MyDrive/movie/pos/cv507_9220.txt', '/content/drive/MyDrive/movie/pos/cv323_29805.txt', '/content/drive/MyDrive/movie/pos/cv685_5947.txt', '/content/drive/MyDrive/movie/pos/cv356_25163.txt', '/content/drive/MyDrive/movie/pos/cv831_14689.txt', '/content/drive/MyDrive/movie/pos/cv490_17872.txt', '/content/drive/MyDrive/movie/pos/cv782_19526.txt', '/content/drive/MyDrive/movie/pos/cv097_24970.txt', '/content/drive/MyDrive/movie/pos/cv821_29364.txt', '/content/drive/MyDrive/movie/pos/cv441_13711.txt', '/content/drive/MyDrive/movie/pos/cv830_6014.txt', '/content/drive/MyDrive/movie/pos/cv788_25272.txt', '/content/drive/MyDrive/movie/pos/cv090_0042.txt', '/content/drive/MyDrive/movie/pos/cv785_22600.txt', '/content/drive/MyDrive/movie/pos/cv565_29572.txt', '/content/drive/MyDrive/movie/pos/cv354_8132.txt', '/content/drive/MyDrive/movie/pos/cv068_13400.txt', '/content/drive/MyDrive/movie/pos/cv989_15824.txt', '/content/drive/MyDrive/movie/pos/cv455_29000.txt', '/content/drive/MyDrive/movie/pos/cv544_5108.txt', '/content/drive/MyDrive/movie/pos/cv252_23779.txt', '/content/drive/MyDrive/movie/pos/cv174_9659.txt', '/content/drive/MyDrive/movie/pos/cv133_16336.txt', '/content/drive/MyDrive/movie/pos/cv258_5792.txt', '/content/drive/MyDrive/movie/pos/cv153_10779.txt', '/content/drive/MyDrive/movie/pos/cv361_28944.txt', '/content/drive/MyDrive/movie/pos/cv574_22156.txt', '/content/drive/MyDrive/movie/pos/cv813_6534.txt', '/content/drive/MyDrive/movie/pos/cv037_18510.txt', '/content/drive/MyDrive/movie/pos/cv202_10654.txt', '/content/drive/MyDrive/movie/pos/cv790_14600.txt', '/content/drive/MyDrive/movie/pos/cv794_15868.txt', '/content/drive/MyDrive/movie/pos/cv765_19037.txt', '/content/drive/MyDrive/movie/pos/cv523_16615.txt', '/content/drive/MyDrive/movie/pos/cv638_2953.txt', '/content/drive/MyDrive/movie/pos/cv935_23841.txt', '/content/drive/MyDrive/movie/pos/cv253_10077.txt', '/content/drive/MyDrive/movie/pos/cv475_21692.txt', '/content/drive/MyDrive/movie/pos/cv028_26746.txt', '/content/drive/MyDrive/movie/pos/cv139_12873.txt', '/content/drive/MyDrive/movie/pos/cv784_14394.txt', '/content/drive/MyDrive/movie/pos/cv007_4968.txt', '/content/drive/MyDrive/movie/pos/cv042_10982.txt', '/content/drive/MyDrive/movie/pos/cv664_4389.txt', '/content/drive/MyDrive/movie/pos/cv074_6875.txt', '/content/drive/MyDrive/movie/pos/cv748_12786.txt', '/content/drive/MyDrive/movie/pos/cv636_15279.txt', '/content/drive/MyDrive/movie/pos/cv143_19666.txt', '/content/drive/MyDrive/movie/pos/cv828_19831.txt', '/content/drive/MyDrive/movie/pos/cv606_15985(1).txt', '/content/drive/MyDrive/movie/pos/cv449_8785.txt', '/content/drive/MyDrive/movie/pos/cv232_14991.txt']\n"
          ]
        }
      ],
      "source": [
        "all_neg_data = create_all_data(all_neg_files,0)\n",
        "all_pos_data = create_all_data(all_pos_files,1)\n",
        "all_data = all_neg_data + all_pos_data"
      ]
    },
    {
      "cell_type": "code",
      "execution_count": 9,
      "metadata": {
        "id": "plm055meZeVW"
      },
      "outputs": [],
      "source": [
        "all_text_data = [all_data[i][0] for i in range(len(all_data))]\n",
        "all_label_data = [all_data[i][1] for i in range(len(all_data))]"
      ]
    },
    {
      "cell_type": "code",
      "execution_count": 10,
      "metadata": {
        "id": "RcPm1ugNfvN8"
      },
      "outputs": [],
      "source": [
        "def preprocess(data):\n",
        "  corpus = []\n",
        "  lemmatizer = WordNetLemmatizer() \n",
        "  for i in range(len(data)):\n",
        "      review = re.sub('[^a-zA-Z]', ' ', data[i])\n",
        "      review = review.lower()\n",
        "      review = review.split()\n",
        "      review = [lemmatizer.lemmatize(word) for word in review if not word in stopwords.words('english')]\n",
        "      review = ' '.join(review)\n",
        "      corpus.append(review)\n",
        "  return corpus"
      ]
    },
    {
      "cell_type": "code",
      "execution_count": 11,
      "metadata": {
        "id": "onVgxXyOf54O"
      },
      "outputs": [],
      "source": [
        "all_preprocess_data = preprocess(all_text_data)"
      ]
    },
    {
      "cell_type": "code",
      "execution_count": 12,
      "metadata": {
        "id": "ShJ78Viik-Zv"
      },
      "outputs": [],
      "source": [
        "df = pd.concat([pd.DataFrame(all_preprocess_data), pd.DataFrame(all_label_data)],axis=1)"
      ]
    },
    {
      "cell_type": "code",
      "execution_count": 13,
      "metadata": {
        "id": "zIlwTORioPwW"
      },
      "outputs": [],
      "source": [
        "df.columns = ['text', 'sentiment']"
      ]
    },
    {
      "cell_type": "code",
      "execution_count": 14,
      "metadata": {
        "colab": {
          "base_uri": "https://localhost:8080/",
          "height": 424
        },
        "id": "xvZivixZqI7Y",
        "outputId": "5580b6c5-5faa-40ce-849a-de4b7f8368cb"
      },
      "outputs": [
        {
          "output_type": "execute_result",
          "data": {
            "text/plain": [
              "                                                   text  sentiment\n",
              "0     delicatessen director marc caro jean pierre je...          0\n",
              "1     grateful song grace chan comfort u starring le...          0\n",
              "2     part buddy comedy part fish water story part n...          0\n",
              "3     animal marginally inspired comedy manages lumb...          0\n",
              "4     starring ben stiller elizabeth hurley maria be...          0\n",
              "...                                                 ...        ...\n",
              "2001  known successful highest grossing romantic com...          1\n",
              "2002  offended something mary tread water american p...          1\n",
              "2003  synopsis captain picard crew starship enterpri...          1\n",
              "2004  good year want plenty sci fi multiplex comedy ...          1\n",
              "2005  last night could aka tagged end say end world ...          1\n",
              "\n",
              "[2006 rows x 2 columns]"
            ],
            "text/html": [
              "\n",
              "  <div id=\"df-80be2737-40ac-4498-8ff2-efff7da2c760\">\n",
              "    <div class=\"colab-df-container\">\n",
              "      <div>\n",
              "<style scoped>\n",
              "    .dataframe tbody tr th:only-of-type {\n",
              "        vertical-align: middle;\n",
              "    }\n",
              "\n",
              "    .dataframe tbody tr th {\n",
              "        vertical-align: top;\n",
              "    }\n",
              "\n",
              "    .dataframe thead th {\n",
              "        text-align: right;\n",
              "    }\n",
              "</style>\n",
              "<table border=\"1\" class=\"dataframe\">\n",
              "  <thead>\n",
              "    <tr style=\"text-align: right;\">\n",
              "      <th></th>\n",
              "      <th>text</th>\n",
              "      <th>sentiment</th>\n",
              "    </tr>\n",
              "  </thead>\n",
              "  <tbody>\n",
              "    <tr>\n",
              "      <th>0</th>\n",
              "      <td>delicatessen director marc caro jean pierre je...</td>\n",
              "      <td>0</td>\n",
              "    </tr>\n",
              "    <tr>\n",
              "      <th>1</th>\n",
              "      <td>grateful song grace chan comfort u starring le...</td>\n",
              "      <td>0</td>\n",
              "    </tr>\n",
              "    <tr>\n",
              "      <th>2</th>\n",
              "      <td>part buddy comedy part fish water story part n...</td>\n",
              "      <td>0</td>\n",
              "    </tr>\n",
              "    <tr>\n",
              "      <th>3</th>\n",
              "      <td>animal marginally inspired comedy manages lumb...</td>\n",
              "      <td>0</td>\n",
              "    </tr>\n",
              "    <tr>\n",
              "      <th>4</th>\n",
              "      <td>starring ben stiller elizabeth hurley maria be...</td>\n",
              "      <td>0</td>\n",
              "    </tr>\n",
              "    <tr>\n",
              "      <th>...</th>\n",
              "      <td>...</td>\n",
              "      <td>...</td>\n",
              "    </tr>\n",
              "    <tr>\n",
              "      <th>2001</th>\n",
              "      <td>known successful highest grossing romantic com...</td>\n",
              "      <td>1</td>\n",
              "    </tr>\n",
              "    <tr>\n",
              "      <th>2002</th>\n",
              "      <td>offended something mary tread water american p...</td>\n",
              "      <td>1</td>\n",
              "    </tr>\n",
              "    <tr>\n",
              "      <th>2003</th>\n",
              "      <td>synopsis captain picard crew starship enterpri...</td>\n",
              "      <td>1</td>\n",
              "    </tr>\n",
              "    <tr>\n",
              "      <th>2004</th>\n",
              "      <td>good year want plenty sci fi multiplex comedy ...</td>\n",
              "      <td>1</td>\n",
              "    </tr>\n",
              "    <tr>\n",
              "      <th>2005</th>\n",
              "      <td>last night could aka tagged end say end world ...</td>\n",
              "      <td>1</td>\n",
              "    </tr>\n",
              "  </tbody>\n",
              "</table>\n",
              "<p>2006 rows × 2 columns</p>\n",
              "</div>\n",
              "      <button class=\"colab-df-convert\" onclick=\"convertToInteractive('df-80be2737-40ac-4498-8ff2-efff7da2c760')\"\n",
              "              title=\"Convert this dataframe to an interactive table.\"\n",
              "              style=\"display:none;\">\n",
              "        \n",
              "  <svg xmlns=\"http://www.w3.org/2000/svg\" height=\"24px\"viewBox=\"0 0 24 24\"\n",
              "       width=\"24px\">\n",
              "    <path d=\"M0 0h24v24H0V0z\" fill=\"none\"/>\n",
              "    <path d=\"M18.56 5.44l.94 2.06.94-2.06 2.06-.94-2.06-.94-.94-2.06-.94 2.06-2.06.94zm-11 1L8.5 8.5l.94-2.06 2.06-.94-2.06-.94L8.5 2.5l-.94 2.06-2.06.94zm10 10l.94 2.06.94-2.06 2.06-.94-2.06-.94-.94-2.06-.94 2.06-2.06.94z\"/><path d=\"M17.41 7.96l-1.37-1.37c-.4-.4-.92-.59-1.43-.59-.52 0-1.04.2-1.43.59L10.3 9.45l-7.72 7.72c-.78.78-.78 2.05 0 2.83L4 21.41c.39.39.9.59 1.41.59.51 0 1.02-.2 1.41-.59l7.78-7.78 2.81-2.81c.8-.78.8-2.07 0-2.86zM5.41 20L4 18.59l7.72-7.72 1.47 1.35L5.41 20z\"/>\n",
              "  </svg>\n",
              "      </button>\n",
              "      \n",
              "  <style>\n",
              "    .colab-df-container {\n",
              "      display:flex;\n",
              "      flex-wrap:wrap;\n",
              "      gap: 12px;\n",
              "    }\n",
              "\n",
              "    .colab-df-convert {\n",
              "      background-color: #E8F0FE;\n",
              "      border: none;\n",
              "      border-radius: 50%;\n",
              "      cursor: pointer;\n",
              "      display: none;\n",
              "      fill: #1967D2;\n",
              "      height: 32px;\n",
              "      padding: 0 0 0 0;\n",
              "      width: 32px;\n",
              "    }\n",
              "\n",
              "    .colab-df-convert:hover {\n",
              "      background-color: #E2EBFA;\n",
              "      box-shadow: 0px 1px 2px rgba(60, 64, 67, 0.3), 0px 1px 3px 1px rgba(60, 64, 67, 0.15);\n",
              "      fill: #174EA6;\n",
              "    }\n",
              "\n",
              "    [theme=dark] .colab-df-convert {\n",
              "      background-color: #3B4455;\n",
              "      fill: #D2E3FC;\n",
              "    }\n",
              "\n",
              "    [theme=dark] .colab-df-convert:hover {\n",
              "      background-color: #434B5C;\n",
              "      box-shadow: 0px 1px 3px 1px rgba(0, 0, 0, 0.15);\n",
              "      filter: drop-shadow(0px 1px 2px rgba(0, 0, 0, 0.3));\n",
              "      fill: #FFFFFF;\n",
              "    }\n",
              "  </style>\n",
              "\n",
              "      <script>\n",
              "        const buttonEl =\n",
              "          document.querySelector('#df-80be2737-40ac-4498-8ff2-efff7da2c760 button.colab-df-convert');\n",
              "        buttonEl.style.display =\n",
              "          google.colab.kernel.accessAllowed ? 'block' : 'none';\n",
              "\n",
              "        async function convertToInteractive(key) {\n",
              "          const element = document.querySelector('#df-80be2737-40ac-4498-8ff2-efff7da2c760');\n",
              "          const dataTable =\n",
              "            await google.colab.kernel.invokeFunction('convertToInteractive',\n",
              "                                                     [key], {});\n",
              "          if (!dataTable) return;\n",
              "\n",
              "          const docLinkHtml = 'Like what you see? Visit the ' +\n",
              "            '<a target=\"_blank\" href=https://colab.research.google.com/notebooks/data_table.ipynb>data table notebook</a>'\n",
              "            + ' to learn more about interactive tables.';\n",
              "          element.innerHTML = '';\n",
              "          dataTable['output_type'] = 'display_data';\n",
              "          await google.colab.output.renderOutput(dataTable, element);\n",
              "          const docLink = document.createElement('div');\n",
              "          docLink.innerHTML = docLinkHtml;\n",
              "          element.appendChild(docLink);\n",
              "        }\n",
              "      </script>\n",
              "    </div>\n",
              "  </div>\n",
              "  "
            ]
          },
          "metadata": {},
          "execution_count": 14
        }
      ],
      "source": [
        "df"
      ]
    },
    {
      "cell_type": "markdown",
      "metadata": {
        "id": "yX_xQmsfsLXW"
      },
      "source": [
        "## Data analysis and visualization"
      ]
    },
    {
      "cell_type": "code",
      "execution_count": 15,
      "metadata": {
        "id": "pJ5WabbIsOo_"
      },
      "outputs": [],
      "source": [
        "import seaborn as sns\n",
        "from matplotlib import pyplot as plt\n",
        "from wordcloud import WordCloud"
      ]
    },
    {
      "cell_type": "code",
      "execution_count": 16,
      "metadata": {
        "colab": {
          "base_uri": "https://localhost:8080/",
          "height": 0
        },
        "id": "qi8dnrrmrNGZ",
        "outputId": "22931b7a-74df-40d8-8a41-dd95a464221d"
      },
      "outputs": [
        {
          "output_type": "execute_result",
          "data": {
            "text/plain": [
              "                                                text  sentiment\n",
              "0  delicatessen director marc caro jean pierre je...          0\n",
              "1  grateful song grace chan comfort u starring le...          0\n",
              "2  part buddy comedy part fish water story part n...          0\n",
              "3  animal marginally inspired comedy manages lumb...          0\n",
              "4  starring ben stiller elizabeth hurley maria be...          0"
            ],
            "text/html": [
              "\n",
              "  <div id=\"df-67fa5471-fffc-4c6d-96cb-ee12a267d7b9\">\n",
              "    <div class=\"colab-df-container\">\n",
              "      <div>\n",
              "<style scoped>\n",
              "    .dataframe tbody tr th:only-of-type {\n",
              "        vertical-align: middle;\n",
              "    }\n",
              "\n",
              "    .dataframe tbody tr th {\n",
              "        vertical-align: top;\n",
              "    }\n",
              "\n",
              "    .dataframe thead th {\n",
              "        text-align: right;\n",
              "    }\n",
              "</style>\n",
              "<table border=\"1\" class=\"dataframe\">\n",
              "  <thead>\n",
              "    <tr style=\"text-align: right;\">\n",
              "      <th></th>\n",
              "      <th>text</th>\n",
              "      <th>sentiment</th>\n",
              "    </tr>\n",
              "  </thead>\n",
              "  <tbody>\n",
              "    <tr>\n",
              "      <th>0</th>\n",
              "      <td>delicatessen director marc caro jean pierre je...</td>\n",
              "      <td>0</td>\n",
              "    </tr>\n",
              "    <tr>\n",
              "      <th>1</th>\n",
              "      <td>grateful song grace chan comfort u starring le...</td>\n",
              "      <td>0</td>\n",
              "    </tr>\n",
              "    <tr>\n",
              "      <th>2</th>\n",
              "      <td>part buddy comedy part fish water story part n...</td>\n",
              "      <td>0</td>\n",
              "    </tr>\n",
              "    <tr>\n",
              "      <th>3</th>\n",
              "      <td>animal marginally inspired comedy manages lumb...</td>\n",
              "      <td>0</td>\n",
              "    </tr>\n",
              "    <tr>\n",
              "      <th>4</th>\n",
              "      <td>starring ben stiller elizabeth hurley maria be...</td>\n",
              "      <td>0</td>\n",
              "    </tr>\n",
              "  </tbody>\n",
              "</table>\n",
              "</div>\n",
              "      <button class=\"colab-df-convert\" onclick=\"convertToInteractive('df-67fa5471-fffc-4c6d-96cb-ee12a267d7b9')\"\n",
              "              title=\"Convert this dataframe to an interactive table.\"\n",
              "              style=\"display:none;\">\n",
              "        \n",
              "  <svg xmlns=\"http://www.w3.org/2000/svg\" height=\"24px\"viewBox=\"0 0 24 24\"\n",
              "       width=\"24px\">\n",
              "    <path d=\"M0 0h24v24H0V0z\" fill=\"none\"/>\n",
              "    <path d=\"M18.56 5.44l.94 2.06.94-2.06 2.06-.94-2.06-.94-.94-2.06-.94 2.06-2.06.94zm-11 1L8.5 8.5l.94-2.06 2.06-.94-2.06-.94L8.5 2.5l-.94 2.06-2.06.94zm10 10l.94 2.06.94-2.06 2.06-.94-2.06-.94-.94-2.06-.94 2.06-2.06.94z\"/><path d=\"M17.41 7.96l-1.37-1.37c-.4-.4-.92-.59-1.43-.59-.52 0-1.04.2-1.43.59L10.3 9.45l-7.72 7.72c-.78.78-.78 2.05 0 2.83L4 21.41c.39.39.9.59 1.41.59.51 0 1.02-.2 1.41-.59l7.78-7.78 2.81-2.81c.8-.78.8-2.07 0-2.86zM5.41 20L4 18.59l7.72-7.72 1.47 1.35L5.41 20z\"/>\n",
              "  </svg>\n",
              "      </button>\n",
              "      \n",
              "  <style>\n",
              "    .colab-df-container {\n",
              "      display:flex;\n",
              "      flex-wrap:wrap;\n",
              "      gap: 12px;\n",
              "    }\n",
              "\n",
              "    .colab-df-convert {\n",
              "      background-color: #E8F0FE;\n",
              "      border: none;\n",
              "      border-radius: 50%;\n",
              "      cursor: pointer;\n",
              "      display: none;\n",
              "      fill: #1967D2;\n",
              "      height: 32px;\n",
              "      padding: 0 0 0 0;\n",
              "      width: 32px;\n",
              "    }\n",
              "\n",
              "    .colab-df-convert:hover {\n",
              "      background-color: #E2EBFA;\n",
              "      box-shadow: 0px 1px 2px rgba(60, 64, 67, 0.3), 0px 1px 3px 1px rgba(60, 64, 67, 0.15);\n",
              "      fill: #174EA6;\n",
              "    }\n",
              "\n",
              "    [theme=dark] .colab-df-convert {\n",
              "      background-color: #3B4455;\n",
              "      fill: #D2E3FC;\n",
              "    }\n",
              "\n",
              "    [theme=dark] .colab-df-convert:hover {\n",
              "      background-color: #434B5C;\n",
              "      box-shadow: 0px 1px 3px 1px rgba(0, 0, 0, 0.15);\n",
              "      filter: drop-shadow(0px 1px 2px rgba(0, 0, 0, 0.3));\n",
              "      fill: #FFFFFF;\n",
              "    }\n",
              "  </style>\n",
              "\n",
              "      <script>\n",
              "        const buttonEl =\n",
              "          document.querySelector('#df-67fa5471-fffc-4c6d-96cb-ee12a267d7b9 button.colab-df-convert');\n",
              "        buttonEl.style.display =\n",
              "          google.colab.kernel.accessAllowed ? 'block' : 'none';\n",
              "\n",
              "        async function convertToInteractive(key) {\n",
              "          const element = document.querySelector('#df-67fa5471-fffc-4c6d-96cb-ee12a267d7b9');\n",
              "          const dataTable =\n",
              "            await google.colab.kernel.invokeFunction('convertToInteractive',\n",
              "                                                     [key], {});\n",
              "          if (!dataTable) return;\n",
              "\n",
              "          const docLinkHtml = 'Like what you see? Visit the ' +\n",
              "            '<a target=\"_blank\" href=https://colab.research.google.com/notebooks/data_table.ipynb>data table notebook</a>'\n",
              "            + ' to learn more about interactive tables.';\n",
              "          element.innerHTML = '';\n",
              "          dataTable['output_type'] = 'display_data';\n",
              "          await google.colab.output.renderOutput(dataTable, element);\n",
              "          const docLink = document.createElement('div');\n",
              "          docLink.innerHTML = docLinkHtml;\n",
              "          element.appendChild(docLink);\n",
              "        }\n",
              "      </script>\n",
              "    </div>\n",
              "  </div>\n",
              "  "
            ]
          },
          "metadata": {},
          "execution_count": 16
        }
      ],
      "source": [
        "df_copy = pd.DataFrame(df)\n",
        "df_copy.head()"
      ]
    },
    {
      "cell_type": "code",
      "execution_count": 17,
      "metadata": {
        "colab": {
          "base_uri": "https://localhost:8080/",
          "height": 0
        },
        "id": "pHdS1we6sNWb",
        "outputId": "5b08648b-f1af-47a4-ce80-7fbbbcbfd34b"
      },
      "outputs": [
        {
          "output_type": "display_data",
          "data": {
            "text/plain": [
              "<Figure size 1080x360 with 2 Axes>"
            ],
            "image/png": "[encoded data removed]"
          },
          "metadata": {}
        }
      ],
      "source": [
        "sns.set_style('darkgrid')\n",
        "n_bins =10\n",
        "fig,(ax1,ax2)=plt.subplots(1,2,figsize=(15,5))\n",
        "tweet_len=df_copy[df_copy['sentiment']==1]['text'].str.len()\n",
        "ax1.hist(tweet_len,color='tomato',bins=n_bins,alpha = 0.7)\n",
        "ax1.set_title('Positive Sentiments')\n",
        "tweet_len=df_copy[df_copy['sentiment']==0]['text'].str.len()\n",
        "ax2.hist(tweet_len,bins=n_bins,color ='#607c8e', alpha = 0.7)                          \n",
        "ax2.set_title('Negative Sentiments')\n",
        "fig.suptitle('Characters in Reviews')\n",
        "plt.tight_layout(True)\n",
        "plt.show()"
      ]
    },
    {
      "cell_type": "code",
      "execution_count": 18,
      "metadata": {
        "colab": {
          "base_uri": "https://localhost:8080/",
          "height": 0
        },
        "id": "XT5y78m_t4qN",
        "outputId": "30256577-70a9-4031-e5da-198785f5a003"
      },
      "outputs": [
        {
          "output_type": "display_data",
          "data": {
            "text/plain": [
              "<Figure size 1080x360 with 2 Axes>"
            ],
            "image/png": "[encoded data removed]"
          },
          "metadata": {}
        }
      ],
      "source": [
        "fig,(ax1,ax2)=plt.subplots(1,2,figsize=(15,5))\n",
        "tweet_len=df_copy[df_copy['sentiment']==1]['text'].str.split().map(lambda x: len(x))\n",
        "ax1.hist(tweet_len,color='#17C37B')\n",
        "ax1.set_title('Positive Sentiments')\n",
        "tweet_len=df_copy[df_copy['sentiment']==0]['text'].str.split().map(lambda x: len(x))\n",
        "ax2.hist(tweet_len,color='#F92969')\n",
        "ax2.set_title('Negative Sentiments')\n",
        "fig.suptitle('Words in a Review')\n",
        "plt.show()"
      ]
    },
    {
      "cell_type": "code",
      "execution_count": 19,
      "metadata": {
        "colab": {
          "base_uri": "https://localhost:8080/",
          "height": 0
        },
        "id": "LNOHCoGSuFCq",
        "outputId": "10c3ce3f-2cfa-4b2b-aa41-368c9ddf206b"
      },
      "outputs": [
        {
          "output_type": "display_data",
          "data": {
            "text/plain": [
              "<Figure size 1008x504 with 1 Axes>"
            ],
            "image/png": "[encoded data removed]"
          },
          "metadata": {}
        }
      ],
      "source": [
        "words = ' '.join([text for text in df_copy['text']])\n",
        "wordcloud = WordCloud(\n",
        "    width=800, height=400, background_color='white', max_font_size=110)\\\n",
        "    .generate(words)\n",
        "\n",
        "plt.figure(figsize=(14, 7))\n",
        "plt.imshow(wordcloud, interpolation=\"bilinear\")\n",
        "plt.title('Words in all Reviews', fontsize=24)\n",
        "plt.axis('off')\n",
        "plt.show()"
      ]
    },
    {
      "cell_type": "markdown",
      "metadata": {
        "id": "9oobScpGvDO8"
      },
      "source": [
        "## Model"
      ]
    },
    {
      "cell_type": "code",
      "execution_count": 20,
      "metadata": {
        "id": "L6N3kORRvL3B"
      },
      "outputs": [],
      "source": [
        "import os\n",
        "from transformers import AutoConfig\n",
        "import torch"
      ]
    },
    {
      "cell_type": "code",
      "execution_count": 21,
      "metadata": {
        "id": "myRZ9pN68gk-"
      },
      "outputs": [],
      "source": [
        "from transformers import RobertaTokenizer\n",
        "from torch.utils.data import Dataset"
      ]
    },
    {
      "cell_type": "code",
      "source": [
        "from transformers import RobertaConfig\n",
        "import transformers"
      ],
      "metadata": {
        "id": "6tW1SzY2wnZj"
      },
      "execution_count": 22,
      "outputs": []
    },
    {
      "cell_type": "code",
      "execution_count": 23,
      "metadata": {
        "id": "xJSSHTRlvads",
        "colab": {
          "base_uri": "https://localhost:8080/",
          "height": 49,
          "referenced_widgets": [
            "8d0721d40dec444d8032f2c75d46335b",
            "05e30537d2554ebabf1ada906ec76901",
            "287ac59dcada40a2bc1e7027356c8d44",
            "6aae9d6b49e14ea18b9b9d6c282f398b",
            "580d62a47dfe4a80afc2b41875c32aa1",
            "edbafe19e0994fd88c23e591b642ed67",
            "0277972f5e854d33b6c4d7211d75155e",
            "d9b40c7512d14482a1063ac621f89441",
            "5c1b79fbecca46f4a7e1408e0516ecee",
            "cccc177ddfdc4459bdc506216f393a91",
            "6050ef809fb74ad181cb37fb08771b47"
          ]
        },
        "outputId": "f3c0a994-fb37-412e-9052-2cc512084100"
      },
      "outputs": [
        {
          "output_type": "display_data",
          "data": {
            "text/plain": [
              "Downloading (…)lve/main/config.json:   0%|          | 0.00/481 [00:00<?, ?B/s]"
            ],
            "application/vnd.jupyter.widget-view+json": {
              "version_major": 2,
              "version_minor": 0,
              "model_id": "8d0721d40dec444d8032f2c75d46335b"
            }
          },
          "metadata": {}
        }
      ],
      "source": [
        "config = AutoConfig.from_pretrained(\"roberta-base\")"
      ]
    },
    {
      "cell_type": "code",
      "execution_count": 24,
      "metadata": {
        "id": "taGFG1rd9F4L"
      },
      "outputs": [],
      "source": [
        "MAX_LEN=512"
      ]
    },
    {
      "cell_type": "code",
      "execution_count": 25,
      "metadata": {
        "id": "KMev9kXI8xMh"
      },
      "outputs": [],
      "source": [
        "class CustomDataset(Dataset):\n",
        "      def __init__(self, dataframe, tokenizer, max_len):\n",
        "\n",
        "        self.tokenizer = tokenizer\n",
        "        self.comment_text = dataframe[\"text\"].tolist()\n",
        "        self.targets = dataframe[\"sentiment\"].tolist()\n",
        "        self.max_len = max_len\n",
        "      def __len__(self):\n",
        "        return len(self.comment_text)\n",
        "        \n",
        "      def __getitem__(self, index):\n",
        "        comment_text = str(self.comment_text[index])\n",
        "        comment_text = \" \".join(comment_text.split())\n",
        "        inputs = self.tokenizer.encode_plus(\n",
        "            comment_text,\n",
        "            None,\n",
        "            add_special_tokens=True,\n",
        "            max_length=self.max_len,\n",
        "            pad_to_max_length=True,\n",
        "            return_token_type_ids=True,\n",
        "            truncation=True,\n",
        "            return_tensors='pt'\n",
        "        )\n",
        "        ids = inputs['input_ids']\n",
        "        mask = inputs['attention_mask']\n",
        "        token_type_ids = inputs[\"token_type_ids\"]\n",
        "\n",
        "        return {\n",
        "            'ids': torch.tensor(ids, dtype=torch.long),\n",
        "            'mask': torch.tensor(mask, dtype=torch.long),\n",
        "            'token_type_ids': torch.tensor(token_type_ids, dtype=torch.long),\n",
        "            'targets': torch.tensor(self.targets[index], dtype=torch.long).to(device)\n",
        "        }"
      ]
    },
    {
      "cell_type": "code",
      "source": [
        "class BERTClass(torch.nn.Module):\n",
        "    def __init__(self):\n",
        "        super(BERTClass, self).__init__()\n",
        "        config = RobertaConfig()\n",
        "        config.max_position_embeddings = 512\n",
        "        self.l1 = transformers.RobertaModel(config).from_pretrained(\"roberta-base\")\n",
        "        self.l2 = torch.nn.Dropout(0.2)\n",
        "        self.l3 = torch.nn.Linear(768,1)\n",
        "\n",
        "    def forward(self, ids, mask, token_type_ids):\n",
        "        output_1=self.l1(ids,token_type_ids=token_type_ids)\n",
        "        output_2 = self.l2(output_1[1])\n",
        "        output = self.l3(output_2)\n",
        "        return output\n"
      ],
      "metadata": {
        "id": "6VcC9puDuBox"
      },
      "execution_count": 26,
      "outputs": []
    },
    {
      "cell_type": "code",
      "source": [
        "model = BERTClass()"
      ],
      "metadata": {
        "colab": {
          "base_uri": "https://localhost:8080/",
          "height": 123,
          "referenced_widgets": [
            "7a0eec33abbf4c9a8c747b733b171f08",
            "d047ea352ef544119eec8de6f4712cca",
            "7131f17d8f844f0e99e633c72c49baf0",
            "44b914735f8a48e9a52aff6ad5faec37",
            "535f37ccf73644f7a6c12b1e472e87ce",
            "cc16126a2d72432f84809a8413612aec",
            "d4e842f0225744349ac99200154de8a4",
            "f9434bb550a148dcafbe61bf8f83b733",
            "268be963e35749c689bd4da5c3ef07ed",
            "e906bb4bc8294c7b85e418248632a9a7",
            "9bed7fd8343c4b68b68814c64de938d8"
          ]
        },
        "id": "s11L5pckv6-y",
        "outputId": "f6b153f3-600e-4c8c-9984-3a4641bb3fdb"
      },
      "execution_count": 27,
      "outputs": [
        {
          "output_type": "display_data",
          "data": {
            "text/plain": [
              "Downloading (…)\"pytorch_model.bin\";:   0%|          | 0.00/501M [00:00<?, ?B/s]"
            ],
            "application/vnd.jupyter.widget-view+json": {
              "version_major": 2,
              "version_minor": 0,
              "model_id": "7a0eec33abbf4c9a8c747b733b171f08"
            }
          },
          "metadata": {}
        },
        {
          "output_type": "stream",
          "name": "stderr",
          "text": [
            "Some weights of the model checkpoint at roberta-base were not used when initializing RobertaModel: ['lm_head.decoder.weight', 'lm_head.layer_norm.bias', 'lm_head.dense.weight', 'lm_head.bias', 'lm_head.dense.bias', 'lm_head.layer_norm.weight']\n",
            "- This IS expected if you are initializing RobertaModel from the checkpoint of a model trained on another task or with another architecture (e.g. initializing a BertForSequenceClassification model from a BertForPreTraining model).\n",
            "- This IS NOT expected if you are initializing RobertaModel from the checkpoint of a model that you expect to be exactly identical (initializing a BertForSequenceClassification model from a BertForSequenceClassification model).\n"
          ]
        }
      ]
    },
    {
      "cell_type": "code",
      "source": [
        "if torch.cuda.is_available():\n",
        "    device = torch.device(\"cuda\")\n",
        "    print('GPU found (', torch.cuda.get_device_name(torch.cuda.current_device()), ')')\n",
        "    torch.cuda.set_device(torch.cuda.current_device())\n",
        "    print('num device avail: ', torch.cuda.device_count())\n",
        "\n",
        "else:\n",
        "    DEVICE = torch.device('cpu')\n",
        "    print('running on cpu')"
      ],
      "metadata": {
        "colab": {
          "base_uri": "https://localhost:8080/"
        },
        "id": "nAg__vDef9jG",
        "outputId": "6bc2db77-8841-4ad7-e954-0fc04ff013e9"
      },
      "execution_count": 28,
      "outputs": [
        {
          "output_type": "stream",
          "name": "stdout",
          "text": [
            "GPU found ( NVIDIA A100-SXM4-40GB )\n",
            "num device avail:  1\n"
          ]
        }
      ]
    },
    {
      "cell_type": "code",
      "source": [
        "if (device == torch.device(\"cuda\")):\n",
        "    model = model.cuda()\n",
        "    # model.parameters() returns a generator obj\n",
        "    # print('model loaded to gpu? ', next(model.parameters()).is_cuda)\n",
        "    print('\\ngpu mem alloc: ', round(torch.cuda.memory_allocated() * 1e-9, 2), ' GB')"
      ],
      "metadata": {
        "colab": {
          "base_uri": "https://localhost:8080/"
        },
        "id": "Z9Cz07btf8dV",
        "outputId": "be8ab142-0295-4fbb-e2fb-b5121153d4cf"
      },
      "execution_count": 29,
      "outputs": [
        {
          "output_type": "stream",
          "name": "stdout",
          "text": [
            "\n",
            "gpu mem alloc:  0.5  GB\n"
          ]
        }
      ]
    },
    {
      "cell_type": "markdown",
      "source": [
        "## Dataloader\n"
      ],
      "metadata": {
        "id": "EBTfKnZNxtXE"
      }
    },
    {
      "cell_type": "code",
      "source": [
        "df"
      ],
      "metadata": {
        "colab": {
          "base_uri": "https://localhost:8080/",
          "height": 424
        },
        "id": "MaR-fWT10aCN",
        "outputId": "bfa58a4d-78d0-4012-9793-e669b9486c11"
      },
      "execution_count": 30,
      "outputs": [
        {
          "output_type": "execute_result",
          "data": {
            "text/plain": [
              "                                                   text  sentiment\n",
              "0     delicatessen director marc caro jean pierre je...          0\n",
              "1     grateful song grace chan comfort u starring le...          0\n",
              "2     part buddy comedy part fish water story part n...          0\n",
              "3     animal marginally inspired comedy manages lumb...          0\n",
              "4     starring ben stiller elizabeth hurley maria be...          0\n",
              "...                                                 ...        ...\n",
              "2001  known successful highest grossing romantic com...          1\n",
              "2002  offended something mary tread water american p...          1\n",
              "2003  synopsis captain picard crew starship enterpri...          1\n",
              "2004  good year want plenty sci fi multiplex comedy ...          1\n",
              "2005  last night could aka tagged end say end world ...          1\n",
              "\n",
              "[2006 rows x 2 columns]"
            ],
            "text/html": [
              "\n",
              "  <div id=\"df-8124bd00-98a3-4fb2-836d-0787a25ae5bd\">\n",
              "    <div class=\"colab-df-container\">\n",
              "      <div>\n",
              "<style scoped>\n",
              "    .dataframe tbody tr th:only-of-type {\n",
              "        vertical-align: middle;\n",
              "    }\n",
              "\n",
              "    .dataframe tbody tr th {\n",
              "        vertical-align: top;\n",
              "    }\n",
              "\n",
              "    .dataframe thead th {\n",
              "        text-align: right;\n",
              "    }\n",
              "</style>\n",
              "<table border=\"1\" class=\"dataframe\">\n",
              "  <thead>\n",
              "    <tr style=\"text-align: right;\">\n",
              "      <th></th>\n",
              "      <th>text</th>\n",
              "      <th>sentiment</th>\n",
              "    </tr>\n",
              "  </thead>\n",
              "  <tbody>\n",
              "    <tr>\n",
              "      <th>0</th>\n",
              "      <td>delicatessen director marc caro jean pierre je...</td>\n",
              "      <td>0</td>\n",
              "    </tr>\n",
              "    <tr>\n",
              "      <th>1</th>\n",
              "      <td>grateful song grace chan comfort u starring le...</td>\n",
              "      <td>0</td>\n",
              "    </tr>\n",
              "    <tr>\n",
              "      <th>2</th>\n",
              "      <td>part buddy comedy part fish water story part n...</td>\n",
              "      <td>0</td>\n",
              "    </tr>\n",
              "    <tr>\n",
              "      <th>3</th>\n",
              "      <td>animal marginally inspired comedy manages lumb...</td>\n",
              "      <td>0</td>\n",
              "    </tr>\n",
              "    <tr>\n",
              "      <th>4</th>\n",
              "      <td>starring ben stiller elizabeth hurley maria be...</td>\n",
              "      <td>0</td>\n",
              "    </tr>\n",
              "    <tr>\n",
              "      <th>...</th>\n",
              "      <td>...</td>\n",
              "      <td>...</td>\n",
              "    </tr>\n",
              "    <tr>\n",
              "      <th>2001</th>\n",
              "      <td>known successful highest grossing romantic com...</td>\n",
              "      <td>1</td>\n",
              "    </tr>\n",
              "    <tr>\n",
              "      <th>2002</th>\n",
              "      <td>offended something mary tread water american p...</td>\n",
              "      <td>1</td>\n",
              "    </tr>\n",
              "    <tr>\n",
              "      <th>2003</th>\n",
              "      <td>synopsis captain picard crew starship enterpri...</td>\n",
              "      <td>1</td>\n",
              "    </tr>\n",
              "    <tr>\n",
              "      <th>2004</th>\n",
              "      <td>good year want plenty sci fi multiplex comedy ...</td>\n",
              "      <td>1</td>\n",
              "    </tr>\n",
              "    <tr>\n",
              "      <th>2005</th>\n",
              "      <td>last night could aka tagged end say end world ...</td>\n",
              "      <td>1</td>\n",
              "    </tr>\n",
              "  </tbody>\n",
              "</table>\n",
              "<p>2006 rows × 2 columns</p>\n",
              "</div>\n",
              "      <button class=\"colab-df-convert\" onclick=\"convertToInteractive('df-8124bd00-98a3-4fb2-836d-0787a25ae5bd')\"\n",
              "              title=\"Convert this dataframe to an interactive table.\"\n",
              "              style=\"display:none;\">\n",
              "        \n",
              "  <svg xmlns=\"http://www.w3.org/2000/svg\" height=\"24px\"viewBox=\"0 0 24 24\"\n",
              "       width=\"24px\">\n",
              "    <path d=\"M0 0h24v24H0V0z\" fill=\"none\"/>\n",
              "    <path d=\"M18.56 5.44l.94 2.06.94-2.06 2.06-.94-2.06-.94-.94-2.06-.94 2.06-2.06.94zm-11 1L8.5 8.5l.94-2.06 2.06-.94-2.06-.94L8.5 2.5l-.94 2.06-2.06.94zm10 10l.94 2.06.94-2.06 2.06-.94-2.06-.94-.94-2.06-.94 2.06-2.06.94z\"/><path d=\"M17.41 7.96l-1.37-1.37c-.4-.4-.92-.59-1.43-.59-.52 0-1.04.2-1.43.59L10.3 9.45l-7.72 7.72c-.78.78-.78 2.05 0 2.83L4 21.41c.39.39.9.59 1.41.59.51 0 1.02-.2 1.41-.59l7.78-7.78 2.81-2.81c.8-.78.8-2.07 0-2.86zM5.41 20L4 18.59l7.72-7.72 1.47 1.35L5.41 20z\"/>\n",
              "  </svg>\n",
              "      </button>\n",
              "      \n",
              "  <style>\n",
              "    .colab-df-container {\n",
              "      display:flex;\n",
              "      flex-wrap:wrap;\n",
              "      gap: 12px;\n",
              "    }\n",
              "\n",
              "    .colab-df-convert {\n",
              "      background-color: #E8F0FE;\n",
              "      border: none;\n",
              "      border-radius: 50%;\n",
              "      cursor: pointer;\n",
              "      display: none;\n",
              "      fill: #1967D2;\n",
              "      height: 32px;\n",
              "      padding: 0 0 0 0;\n",
              "      width: 32px;\n",
              "    }\n",
              "\n",
              "    .colab-df-convert:hover {\n",
              "      background-color: #E2EBFA;\n",
              "      box-shadow: 0px 1px 2px rgba(60, 64, 67, 0.3), 0px 1px 3px 1px rgba(60, 64, 67, 0.15);\n",
              "      fill: #174EA6;\n",
              "    }\n",
              "\n",
              "    [theme=dark] .colab-df-convert {\n",
              "      background-color: #3B4455;\n",
              "      fill: #D2E3FC;\n",
              "    }\n",
              "\n",
              "    [theme=dark] .colab-df-convert:hover {\n",
              "      background-color: #434B5C;\n",
              "      box-shadow: 0px 1px 3px 1px rgba(0, 0, 0, 0.15);\n",
              "      filter: drop-shadow(0px 1px 2px rgba(0, 0, 0, 0.3));\n",
              "      fill: #FFFFFF;\n",
              "    }\n",
              "  </style>\n",
              "\n",
              "      <script>\n",
              "        const buttonEl =\n",
              "          document.querySelector('#df-8124bd00-98a3-4fb2-836d-0787a25ae5bd button.colab-df-convert');\n",
              "        buttonEl.style.display =\n",
              "          google.colab.kernel.accessAllowed ? 'block' : 'none';\n",
              "\n",
              "        async function convertToInteractive(key) {\n",
              "          const element = document.querySelector('#df-8124bd00-98a3-4fb2-836d-0787a25ae5bd');\n",
              "          const dataTable =\n",
              "            await google.colab.kernel.invokeFunction('convertToInteractive',\n",
              "                                                     [key], {});\n",
              "          if (!dataTable) return;\n",
              "\n",
              "          const docLinkHtml = 'Like what you see? Visit the ' +\n",
              "            '<a target=\"_blank\" href=https://colab.research.google.com/notebooks/data_table.ipynb>data table notebook</a>'\n",
              "            + ' to learn more about interactive tables.';\n",
              "          element.innerHTML = '';\n",
              "          dataTable['output_type'] = 'display_data';\n",
              "          await google.colab.output.renderOutput(dataTable, element);\n",
              "          const docLink = document.createElement('div');\n",
              "          docLink.innerHTML = docLinkHtml;\n",
              "          element.appendChild(docLink);\n",
              "        }\n",
              "      </script>\n",
              "    </div>\n",
              "  </div>\n",
              "  "
            ]
          },
          "metadata": {},
          "execution_count": 30
        }
      ]
    },
    {
      "cell_type": "code",
      "source": [
        "train_size = 0.8\n",
        "train_dataset = df.sample(frac=train_size, random_state=42)\n",
        "test_dataset = df.drop(train_dataset.index).reset_index(drop=True)\n",
        "train_dataset = train_dataset.reset_index(drop=True)\n",
        "train_dataset"
      ],
      "metadata": {
        "colab": {
          "base_uri": "https://localhost:8080/",
          "height": 424
        },
        "id": "pqABwNPOxwEP",
        "outputId": "ce0c6d63-6141-4aca-8f50-872316369d22"
      },
      "execution_count": 31,
      "outputs": [
        {
          "output_type": "execute_result",
          "data": {
            "text/plain": [
              "                                                   text  sentiment\n",
              "0     italian hitchcock acknowledged master giallo m...          1\n",
              "1     affluent horse breeder past come haunt age old...          0\n",
              "2     susan granger review ghost mar sony picture en...          0\n",
              "3     recall trial tribulation high school year peri...          1\n",
              "4     back february monthly los angeles comic book s...          0\n",
              "...                                                 ...        ...\n",
              "1600  movie one first american film done director pa...          1\n",
              "1601  fellow american movie first glance look little...          1\n",
              "1602  scary first word came mind movie called vampir...          0\n",
              "1603  originally titled lose head parody scarlet pim...          1\n",
              "1604  high school comedy seems hot genre moment vars...          0\n",
              "\n",
              "[1605 rows x 2 columns]"
            ],
            "text/html": [
              "\n",
              "  <div id=\"df-dd4a14a8-d034-48f5-8c14-723157f66b2b\">\n",
              "    <div class=\"colab-df-container\">\n",
              "      <div>\n",
              "<style scoped>\n",
              "    .dataframe tbody tr th:only-of-type {\n",
              "        vertical-align: middle;\n",
              "    }\n",
              "\n",
              "    .dataframe tbody tr th {\n",
              "        vertical-align: top;\n",
              "    }\n",
              "\n",
              "    .dataframe thead th {\n",
              "        text-align: right;\n",
              "    }\n",
              "</style>\n",
              "<table border=\"1\" class=\"dataframe\">\n",
              "  <thead>\n",
              "    <tr style=\"text-align: right;\">\n",
              "      <th></th>\n",
              "      <th>text</th>\n",
              "      <th>sentiment</th>\n",
              "    </tr>\n",
              "  </thead>\n",
              "  <tbody>\n",
              "    <tr>\n",
              "      <th>0</th>\n",
              "      <td>italian hitchcock acknowledged master giallo m...</td>\n",
              "      <td>1</td>\n",
              "    </tr>\n",
              "    <tr>\n",
              "      <th>1</th>\n",
              "      <td>affluent horse breeder past come haunt age old...</td>\n",
              "      <td>0</td>\n",
              "    </tr>\n",
              "    <tr>\n",
              "      <th>2</th>\n",
              "      <td>susan granger review ghost mar sony picture en...</td>\n",
              "      <td>0</td>\n",
              "    </tr>\n",
              "    <tr>\n",
              "      <th>3</th>\n",
              "      <td>recall trial tribulation high school year peri...</td>\n",
              "      <td>1</td>\n",
              "    </tr>\n",
              "    <tr>\n",
              "      <th>4</th>\n",
              "      <td>back february monthly los angeles comic book s...</td>\n",
              "      <td>0</td>\n",
              "    </tr>\n",
              "    <tr>\n",
              "      <th>...</th>\n",
              "      <td>...</td>\n",
              "      <td>...</td>\n",
              "    </tr>\n",
              "    <tr>\n",
              "      <th>1600</th>\n",
              "      <td>movie one first american film done director pa...</td>\n",
              "      <td>1</td>\n",
              "    </tr>\n",
              "    <tr>\n",
              "      <th>1601</th>\n",
              "      <td>fellow american movie first glance look little...</td>\n",
              "      <td>1</td>\n",
              "    </tr>\n",
              "    <tr>\n",
              "      <th>1602</th>\n",
              "      <td>scary first word came mind movie called vampir...</td>\n",
              "      <td>0</td>\n",
              "    </tr>\n",
              "    <tr>\n",
              "      <th>1603</th>\n",
              "      <td>originally titled lose head parody scarlet pim...</td>\n",
              "      <td>1</td>\n",
              "    </tr>\n",
              "    <tr>\n",
              "      <th>1604</th>\n",
              "      <td>high school comedy seems hot genre moment vars...</td>\n",
              "      <td>0</td>\n",
              "    </tr>\n",
              "  </tbody>\n",
              "</table>\n",
              "<p>1605 rows × 2 columns</p>\n",
              "</div>\n",
              "      <button class=\"colab-df-convert\" onclick=\"convertToInteractive('df-dd4a14a8-d034-48f5-8c14-723157f66b2b')\"\n",
              "              title=\"Convert this dataframe to an interactive table.\"\n",
              "              style=\"display:none;\">\n",
              "        \n",
              "  <svg xmlns=\"http://www.w3.org/2000/svg\" height=\"24px\"viewBox=\"0 0 24 24\"\n",
              "       width=\"24px\">\n",
              "    <path d=\"M0 0h24v24H0V0z\" fill=\"none\"/>\n",
              "    <path d=\"M18.56 5.44l.94 2.06.94-2.06 2.06-.94-2.06-.94-.94-2.06-.94 2.06-2.06.94zm-11 1L8.5 8.5l.94-2.06 2.06-.94-2.06-.94L8.5 2.5l-.94 2.06-2.06.94zm10 10l.94 2.06.94-2.06 2.06-.94-2.06-.94-.94-2.06-.94 2.06-2.06.94z\"/><path d=\"M17.41 7.96l-1.37-1.37c-.4-.4-.92-.59-1.43-.59-.52 0-1.04.2-1.43.59L10.3 9.45l-7.72 7.72c-.78.78-.78 2.05 0 2.83L4 21.41c.39.39.9.59 1.41.59.51 0 1.02-.2 1.41-.59l7.78-7.78 2.81-2.81c.8-.78.8-2.07 0-2.86zM5.41 20L4 18.59l7.72-7.72 1.47 1.35L5.41 20z\"/>\n",
              "  </svg>\n",
              "      </button>\n",
              "      \n",
              "  <style>\n",
              "    .colab-df-container {\n",
              "      display:flex;\n",
              "      flex-wrap:wrap;\n",
              "      gap: 12px;\n",
              "    }\n",
              "\n",
              "    .colab-df-convert {\n",
              "      background-color: #E8F0FE;\n",
              "      border: none;\n",
              "      border-radius: 50%;\n",
              "      cursor: pointer;\n",
              "      display: none;\n",
              "      fill: #1967D2;\n",
              "      height: 32px;\n",
              "      padding: 0 0 0 0;\n",
              "      width: 32px;\n",
              "    }\n",
              "\n",
              "    .colab-df-convert:hover {\n",
              "      background-color: #E2EBFA;\n",
              "      box-shadow: 0px 1px 2px rgba(60, 64, 67, 0.3), 0px 1px 3px 1px rgba(60, 64, 67, 0.15);\n",
              "      fill: #174EA6;\n",
              "    }\n",
              "\n",
              "    [theme=dark] .colab-df-convert {\n",
              "      background-color: #3B4455;\n",
              "      fill: #D2E3FC;\n",
              "    }\n",
              "\n",
              "    [theme=dark] .colab-df-convert:hover {\n",
              "      background-color: #434B5C;\n",
              "      box-shadow: 0px 1px 3px 1px rgba(0, 0, 0, 0.15);\n",
              "      filter: drop-shadow(0px 1px 2px rgba(0, 0, 0, 0.3));\n",
              "      fill: #FFFFFF;\n",
              "    }\n",
              "  </style>\n",
              "\n",
              "      <script>\n",
              "        const buttonEl =\n",
              "          document.querySelector('#df-dd4a14a8-d034-48f5-8c14-723157f66b2b button.colab-df-convert');\n",
              "        buttonEl.style.display =\n",
              "          google.colab.kernel.accessAllowed ? 'block' : 'none';\n",
              "\n",
              "        async function convertToInteractive(key) {\n",
              "          const element = document.querySelector('#df-dd4a14a8-d034-48f5-8c14-723157f66b2b');\n",
              "          const dataTable =\n",
              "            await google.colab.kernel.invokeFunction('convertToInteractive',\n",
              "                                                     [key], {});\n",
              "          if (!dataTable) return;\n",
              "\n",
              "          const docLinkHtml = 'Like what you see? Visit the ' +\n",
              "            '<a target=\"_blank\" href=https://colab.research.google.com/notebooks/data_table.ipynb>data table notebook</a>'\n",
              "            + ' to learn more about interactive tables.';\n",
              "          element.innerHTML = '';\n",
              "          dataTable['output_type'] = 'display_data';\n",
              "          await google.colab.output.renderOutput(dataTable, element);\n",
              "          const docLink = document.createElement('div');\n",
              "          docLink.innerHTML = docLinkHtml;\n",
              "          element.appendChild(docLink);\n",
              "        }\n",
              "      </script>\n",
              "    </div>\n",
              "  </div>\n",
              "  "
            ]
          },
          "metadata": {},
          "execution_count": 31
        }
      ]
    },
    {
      "cell_type": "code",
      "source": [
        "print(df.shape)\n",
        "print(train_dataset.shape)\n",
        "print(test_dataset.shape)"
      ],
      "metadata": {
        "colab": {
          "base_uri": "https://localhost:8080/"
        },
        "id": "qB4mKt0aza4o",
        "outputId": "848a206d-106b-4aec-e5c9-f6438b9742f4"
      },
      "execution_count": 32,
      "outputs": [
        {
          "output_type": "stream",
          "name": "stdout",
          "text": [
            "(2006, 2)\n",
            "(1605, 2)\n",
            "(401, 2)\n"
          ]
        }
      ]
    },
    {
      "cell_type": "code",
      "source": [
        "from torch.utils.data import DataLoader"
      ],
      "metadata": {
        "id": "uFBkRnRt9zZe"
      },
      "execution_count": 33,
      "outputs": []
    },
    {
      "cell_type": "code",
      "source": [
        "tokenizer = RobertaTokenizer.from_pretrained('roberta-base')"
      ],
      "metadata": {
        "id": "iJBdlSxi2NRA",
        "colab": {
          "base_uri": "https://localhost:8080/",
          "height": 81,
          "referenced_widgets": [
            "4e0a11974c8d43b18057836c3b4f3a22",
            "1d64f3efe0c64787ab0690e7f4c27619",
            "dbab8afc6bc44876bff7be51fcd6fd32",
            "a8fd8645239a417f91e940db873ac75c",
            "76c4ac1141a94ec681f4376a147e4dff",
            "259ae007d6f84bbc9e42c72faa3c7cdf",
            "d79f278a8e6f40958a16a751cc8164b0",
            "32dbe9a151694fc3a7482f91691076e8",
            "52ab78fa716a4bf8ac156bd807ebf96a",
            "10e74239cf34499b85605703dfa7a995",
            "e3e68737e2eb4f4dbb470fb9effa4fd0",
            "d59d7c7d147641e1b344814e5339b7e4",
            "484028b3124e4629b1c56f619867f62b",
            "e8623d272ee74f019a0c2c6a0668f3d0",
            "bf3db78e8f324f8884c3a1af55b6f983",
            "35ec62ac10a142d8bd8a673c4d7334cc",
            "dc287f8ae36540e6a5565cdcf34eb181",
            "ee8c74c2c979447e8040d556cf4a352e",
            "3890e7c752734d04a343fb9bc9c1ed7d",
            "640be91a93744137adabee7e6302588e",
            "b94efac9174a4c4f81a5e69c03ef05cb",
            "6ee15726ded946098c51d0ec03fea21b"
          ]
        },
        "outputId": "de5fc2ba-a8aa-42c0-a47d-a25b7aee10ed"
      },
      "execution_count": 34,
      "outputs": [
        {
          "output_type": "display_data",
          "data": {
            "text/plain": [
              "Downloading (…)olve/main/vocab.json:   0%|          | 0.00/899k [00:00<?, ?B/s]"
            ],
            "application/vnd.jupyter.widget-view+json": {
              "version_major": 2,
              "version_minor": 0,
              "model_id": "4e0a11974c8d43b18057836c3b4f3a22"
            }
          },
          "metadata": {}
        },
        {
          "output_type": "display_data",
          "data": {
            "text/plain": [
              "Downloading (…)olve/main/merges.txt:   0%|          | 0.00/456k [00:00<?, ?B/s]"
            ],
            "application/vnd.jupyter.widget-view+json": {
              "version_major": 2,
              "version_minor": 0,
              "model_id": "d59d7c7d147641e1b344814e5339b7e4"
            }
          },
          "metadata": {}
        }
      ]
    },
    {
      "cell_type": "code",
      "source": [
        "MAX_len = 512"
      ],
      "metadata": {
        "id": "uS1aQCpX3M4R"
      },
      "execution_count": 35,
      "outputs": []
    },
    {
      "cell_type": "code",
      "source": [
        "training_set = CustomDataset(train_dataset, tokenizer, MAX_len)\n",
        "testing_set = CustomDataset(test_dataset, tokenizer, MAX_len)"
      ],
      "metadata": {
        "id": "q0jewslDzf4a"
      },
      "execution_count": 36,
      "outputs": []
    },
    {
      "cell_type": "code",
      "source": [
        "TRAIN_BATCH_SIZE=5\n",
        "VALID_BATCH_SIZE=1"
      ],
      "metadata": {
        "id": "WmzYHwwv9dRD"
      },
      "execution_count": 37,
      "outputs": []
    },
    {
      "cell_type": "code",
      "source": [
        "train_params = {'batch_size': TRAIN_BATCH_SIZE,\n",
        "                'shuffle': True,\n",
        "                'num_workers': 0\n",
        "                }\n",
        "\n",
        "test_params = {'batch_size': VALID_BATCH_SIZE,\n",
        "                'shuffle': True,\n",
        "                'num_workers': 0\n",
        "                }"
      ],
      "metadata": {
        "id": "xq_JfhCQ9e4L"
      },
      "execution_count": 38,
      "outputs": []
    },
    {
      "cell_type": "code",
      "source": [
        "train_dataloader = DataLoader(training_set, **train_params)\n",
        "test_dataloader = DataLoader(testing_set, **test_params)"
      ],
      "metadata": {
        "id": "kT0_ljZC9g7s"
      },
      "execution_count": 39,
      "outputs": []
    },
    {
      "cell_type": "code",
      "source": [
        "print(len(train_dataloader))"
      ],
      "metadata": {
        "colab": {
          "base_uri": "https://localhost:8080/"
        },
        "id": "iiEc8cdtoVZs",
        "outputId": "13e2c183-ff0c-462a-f6b3-b09b24f7d56d"
      },
      "execution_count": 40,
      "outputs": [
        {
          "output_type": "stream",
          "name": "stdout",
          "text": [
            "321\n"
          ]
        }
      ]
    },
    {
      "cell_type": "code",
      "source": [
        "print(len(test_dataloader))"
      ],
      "metadata": {
        "colab": {
          "base_uri": "https://localhost:8080/"
        },
        "id": "1T3OYyh5xd6o",
        "outputId": "33e91f6d-39cb-496e-8886-7f03f0da21be"
      },
      "execution_count": 41,
      "outputs": [
        {
          "output_type": "stream",
          "name": "stdout",
          "text": [
            "401\n"
          ]
        }
      ]
    },
    {
      "cell_type": "markdown",
      "source": [
        "## Model"
      ],
      "metadata": {
        "id": "0HoxUX5p-nku"
      }
    },
    {
      "cell_type": "code",
      "source": [
        "def loss_fn(outputs, targets):\n",
        "    loss=torch.nn.BCEWithLogitsLoss()(outputs, targets)\n",
        "    return loss"
      ],
      "metadata": {
        "id": "vn5gyla3bv2_"
      },
      "execution_count": 42,
      "outputs": []
    },
    {
      "cell_type": "code",
      "source": [
        "LEARNING_RATE=1e-5\n",
        "optimizer = torch.optim.Adam(params =  model.parameters(), lr=LEARNING_RATE)"
      ],
      "metadata": {
        "id": "q4pZX-XxbyhC"
      },
      "execution_count": 43,
      "outputs": []
    },
    {
      "cell_type": "code",
      "source": [
        "def train(epoch):\n",
        "    model.train()\n",
        "    average_loss=0\n",
        "    for i,data in enumerate(train_dataloader, 0):\n",
        "\n",
        "        ids = data['ids'].to(device, dtype = torch.long)\n",
        "        mask = data['mask'].to(device, dtype = torch.long)\n",
        "        token_type_ids = data['token_type_ids'].to(device, dtype = torch.long)\n",
        "        targets = data['targets'].to(device, dtype = torch.float)\n",
        "\n",
        "        outputs = model(ids.squeeze(), mask.squeeze(), token_type_ids.squeeze())\n",
        "\n",
        "        optimizer.zero_grad()\n",
        "\n",
        "        loss = loss_fn(outputs.squeeze(), targets)\n",
        "        average_loss += loss\n",
        "\n",
        "        if i%50==0:\n",
        "            print(f'Epoch: {epoch}, Loss:  {average_loss/(i+1)}')\n",
        "        loss.backward() \n",
        "        optimizer.step() \n",
        "    return average_loss/i"
      ],
      "metadata": {
        "id": "23Qe_huo-om3"
      },
      "execution_count": 44,
      "outputs": []
    },
    {
      "cell_type": "code",
      "source": [
        "EPOCHS=5\n",
        "temp = []\n",
        "for epoch in range(EPOCHS):\n",
        "  x = train(epoch)\n",
        "  temp.append(x)"
      ],
      "metadata": {
        "colab": {
          "base_uri": "https://localhost:8080/"
        },
        "id": "bPzheaiQcbSi",
        "outputId": "ac722588-8127-49ea-f089-15c7221ddaaf"
      },
      "execution_count": 58,
      "outputs": [
        {
          "output_type": "stream",
          "name": "stdout",
          "text": [
            "Epoch: 0, Loss:  0.39516395330429077\n",
            "Epoch: 0, Loss:  0.1619182527065277\n",
            "Epoch: 0, Loss:  0.1429983228445053\n",
            "Epoch: 0, Loss:  0.15320782363414764\n",
            "Epoch: 0, Loss:  0.1696883589029312\n",
            "Epoch: 0, Loss:  0.1680457890033722\n",
            "Epoch: 0, Loss:  0.18826508522033691\n",
            "Epoch: 1, Loss:  0.020567825064063072\n",
            "Epoch: 1, Loss:  0.12052030861377716\n",
            "Epoch: 1, Loss:  0.11119303107261658\n",
            "Epoch: 1, Loss:  0.14414724707603455\n",
            "Epoch: 1, Loss:  0.14265158772468567\n",
            "Epoch: 1, Loss:  0.1286117434501648\n",
            "Epoch: 1, Loss:  0.12479431927204132\n",
            "Epoch: 2, Loss:  0.0065110595896840096\n",
            "Epoch: 2, Loss:  0.0698726624250412\n",
            "Epoch: 2, Loss:  0.09385668486356735\n",
            "Epoch: 2, Loss:  0.08710680156946182\n",
            "Epoch: 2, Loss:  0.07968879491090775\n",
            "Epoch: 2, Loss:  0.08211897313594818\n",
            "Epoch: 2, Loss:  0.09026101231575012\n",
            "Epoch: 3, Loss:  0.02774442546069622\n",
            "Epoch: 3, Loss:  0.08042129129171371\n",
            "Epoch: 3, Loss:  0.07969854027032852\n",
            "Epoch: 3, Loss:  0.06261881440877914\n",
            "Epoch: 3, Loss:  0.05057426914572716\n",
            "Epoch: 3, Loss:  0.046992503106594086\n",
            "Epoch: 3, Loss:  0.041940394788980484\n",
            "Epoch: 4, Loss:  0.005994514562189579\n",
            "Epoch: 4, Loss:  0.06572458893060684\n",
            "Epoch: 4, Loss:  0.04797935113310814\n",
            "Epoch: 4, Loss:  0.044673431664705276\n",
            "Epoch: 4, Loss:  0.037723854184150696\n",
            "Epoch: 4, Loss:  0.04235387593507767\n",
            "Epoch: 4, Loss:  0.03973608836531639\n"
          ]
        }
      ]
    },
    {
      "cell_type": "code",
      "source": [
        "import matplotlib.pyplot as plt"
      ],
      "metadata": {
        "id": "AE9VNh04mI-d"
      },
      "execution_count": 46,
      "outputs": []
    },
    {
      "cell_type": "code",
      "source": [
        "epoch_losses_train = [temp[i].item() for i in range(0,len(temp))]"
      ],
      "metadata": {
        "id": "wPzzUI6cmksM"
      },
      "execution_count": 60,
      "outputs": []
    },
    {
      "cell_type": "code",
      "source": [
        "plt.plot([0,1,2,3,4],epoch_losses_train)\n",
        "plt.title('loss per epoch')\n",
        "plt.ylabel('loss')\n",
        "plt.xlabel('epoch')"
      ],
      "metadata": {
        "colab": {
          "base_uri": "https://localhost:8080/",
          "height": 313
        },
        "id": "IRmFvVJXmUVj",
        "outputId": "16880168-d5e6-43f6-b676-99671e63f999"
      },
      "execution_count": 61,
      "outputs": [
        {
          "output_type": "execute_result",
          "data": {
            "text/plain": [
              "Text(0.5, 0, 'epoch')"
            ]
          },
          "metadata": {},
          "execution_count": 61
        },
        {
          "output_type": "display_data",
          "data": {
            "text/plain": [
              "<Figure size 432x288 with 1 Axes>"
            ],
            "image/png": "[encoded data removed]"
          },
          "metadata": {}
        }
      ]
    },
    {
      "cell_type": "markdown",
      "source": [
        "## Save and load model"
      ],
      "metadata": {
        "id": "r9anquRQmmED"
      }
    },
    {
      "cell_type": "code",
      "source": [
        "model.eval()"
      ],
      "metadata": {
        "colab": {
          "base_uri": "https://localhost:8080/"
        },
        "id": "nY8uAnP_oKzw",
        "outputId": "08c86797-73b0-4e37-a146-793a1f5dd038"
      },
      "execution_count": 49,
      "outputs": [
        {
          "output_type": "execute_result",
          "data": {
            "text/plain": [
              "BERTClass(\n",
              "  (l1): RobertaModel(\n",
              "    (embeddings): RobertaEmbeddings(\n",
              "      (word_embeddings): Embedding(50265, 768, padding_idx=1)\n",
              "      (position_embeddings): Embedding(514, 768, padding_idx=1)\n",
              "      (token_type_embeddings): Embedding(1, 768)\n",
              "      (LayerNorm): LayerNorm((768,), eps=1e-05, elementwise_affine=True)\n",
              "      (dropout): Dropout(p=0.1, inplace=False)\n",
              "    )\n",
              "    (encoder): RobertaEncoder(\n",
              "      (layer): ModuleList(\n",
              "        (0): RobertaLayer(\n",
              "          (attention): RobertaAttention(\n",
              "            (self): RobertaSelfAttention(\n",
              "              (query): Linear(in_features=768, out_features=768, bias=True)\n",
              "              (key): Linear(in_features=768, out_features=768, bias=True)\n",
              "              (value): Linear(in_features=768, out_features=768, bias=True)\n",
              "              (dropout): Dropout(p=0.1, inplace=False)\n",
              "            )\n",
              "            (output): RobertaSelfOutput(\n",
              "              (dense): Linear(in_features=768, out_features=768, bias=True)\n",
              "              (LayerNorm): LayerNorm((768,), eps=1e-05, elementwise_affine=True)\n",
              "              (dropout): Dropout(p=0.1, inplace=False)\n",
              "            )\n",
              "          )\n",
              "          (intermediate): RobertaIntermediate(\n",
              "            (dense): Linear(in_features=768, out_features=3072, bias=True)\n",
              "            (intermediate_act_fn): GELUActivation()\n",
              "          )\n",
              "          (output): RobertaOutput(\n",
              "            (dense): Linear(in_features=3072, out_features=768, bias=True)\n",
              "            (LayerNorm): LayerNorm((768,), eps=1e-05, elementwise_affine=True)\n",
              "            (dropout): Dropout(p=0.1, inplace=False)\n",
              "          )\n",
              "        )\n",
              "        (1): RobertaLayer(\n",
              "          (attention): RobertaAttention(\n",
              "            (self): RobertaSelfAttention(\n",
              "              (query): Linear(in_features=768, out_features=768, bias=True)\n",
              "              (key): Linear(in_features=768, out_features=768, bias=True)\n",
              "              (value): Linear(in_features=768, out_features=768, bias=True)\n",
              "              (dropout): Dropout(p=0.1, inplace=False)\n",
              "            )\n",
              "            (output): RobertaSelfOutput(\n",
              "              (dense): Linear(in_features=768, out_features=768, bias=True)\n",
              "              (LayerNorm): LayerNorm((768,), eps=1e-05, elementwise_affine=True)\n",
              "              (dropout): Dropout(p=0.1, inplace=False)\n",
              "            )\n",
              "          )\n",
              "          (intermediate): RobertaIntermediate(\n",
              "            (dense): Linear(in_features=768, out_features=3072, bias=True)\n",
              "            (intermediate_act_fn): GELUActivation()\n",
              "          )\n",
              "          (output): RobertaOutput(\n",
              "            (dense): Linear(in_features=3072, out_features=768, bias=True)\n",
              "            (LayerNorm): LayerNorm((768,), eps=1e-05, elementwise_affine=True)\n",
              "            (dropout): Dropout(p=0.1, inplace=False)\n",
              "          )\n",
              "        )\n",
              "        (2): RobertaLayer(\n",
              "          (attention): RobertaAttention(\n",
              "            (self): RobertaSelfAttention(\n",
              "              (query): Linear(in_features=768, out_features=768, bias=True)\n",
              "              (key): Linear(in_features=768, out_features=768, bias=True)\n",
              "              (value): Linear(in_features=768, out_features=768, bias=True)\n",
              "              (dropout): Dropout(p=0.1, inplace=False)\n",
              "            )\n",
              "            (output): RobertaSelfOutput(\n",
              "              (dense): Linear(in_features=768, out_features=768, bias=True)\n",
              "              (LayerNorm): LayerNorm((768,), eps=1e-05, elementwise_affine=True)\n",
              "              (dropout): Dropout(p=0.1, inplace=False)\n",
              "            )\n",
              "          )\n",
              "          (intermediate): RobertaIntermediate(\n",
              "            (dense): Linear(in_features=768, out_features=3072, bias=True)\n",
              "            (intermediate_act_fn): GELUActivation()\n",
              "          )\n",
              "          (output): RobertaOutput(\n",
              "            (dense): Linear(in_features=3072, out_features=768, bias=True)\n",
              "            (LayerNorm): LayerNorm((768,), eps=1e-05, elementwise_affine=True)\n",
              "            (dropout): Dropout(p=0.1, inplace=False)\n",
              "          )\n",
              "        )\n",
              "        (3): RobertaLayer(\n",
              "          (attention): RobertaAttention(\n",
              "            (self): RobertaSelfAttention(\n",
              "              (query): Linear(in_features=768, out_features=768, bias=True)\n",
              "              (key): Linear(in_features=768, out_features=768, bias=True)\n",
              "              (value): Linear(in_features=768, out_features=768, bias=True)\n",
              "              (dropout): Dropout(p=0.1, inplace=False)\n",
              "            )\n",
              "            (output): RobertaSelfOutput(\n",
              "              (dense): Linear(in_features=768, out_features=768, bias=True)\n",
              "              (LayerNorm): LayerNorm((768,), eps=1e-05, elementwise_affine=True)\n",
              "              (dropout): Dropout(p=0.1, inplace=False)\n",
              "            )\n",
              "          )\n",
              "          (intermediate): RobertaIntermediate(\n",
              "            (dense): Linear(in_features=768, out_features=3072, bias=True)\n",
              "            (intermediate_act_fn): GELUActivation()\n",
              "          )\n",
              "          (output): RobertaOutput(\n",
              "            (dense): Linear(in_features=3072, out_features=768, bias=True)\n",
              "            (LayerNorm): LayerNorm((768,), eps=1e-05, elementwise_affine=True)\n",
              "            (dropout): Dropout(p=0.1, inplace=False)\n",
              "          )\n",
              "        )\n",
              "        (4): RobertaLayer(\n",
              "          (attention): RobertaAttention(\n",
              "            (self): RobertaSelfAttention(\n",
              "              (query): Linear(in_features=768, out_features=768, bias=True)\n",
              "              (key): Linear(in_features=768, out_features=768, bias=True)\n",
              "              (value): Linear(in_features=768, out_features=768, bias=True)\n",
              "              (dropout): Dropout(p=0.1, inplace=False)\n",
              "            )\n",
              "            (output): RobertaSelfOutput(\n",
              "              (dense): Linear(in_features=768, out_features=768, bias=True)\n",
              "              (LayerNorm): LayerNorm((768,), eps=1e-05, elementwise_affine=True)\n",
              "              (dropout): Dropout(p=0.1, inplace=False)\n",
              "            )\n",
              "          )\n",
              "          (intermediate): RobertaIntermediate(\n",
              "            (dense): Linear(in_features=768, out_features=3072, bias=True)\n",
              "            (intermediate_act_fn): GELUActivation()\n",
              "          )\n",
              "          (output): RobertaOutput(\n",
              "            (dense): Linear(in_features=3072, out_features=768, bias=True)\n",
              "            (LayerNorm): LayerNorm((768,), eps=1e-05, elementwise_affine=True)\n",
              "            (dropout): Dropout(p=0.1, inplace=False)\n",
              "          )\n",
              "        )\n",
              "        (5): RobertaLayer(\n",
              "          (attention): RobertaAttention(\n",
              "            (self): RobertaSelfAttention(\n",
              "              (query): Linear(in_features=768, out_features=768, bias=True)\n",
              "              (key): Linear(in_features=768, out_features=768, bias=True)\n",
              "              (value): Linear(in_features=768, out_features=768, bias=True)\n",
              "              (dropout): Dropout(p=0.1, inplace=False)\n",
              "            )\n",
              "            (output): RobertaSelfOutput(\n",
              "              (dense): Linear(in_features=768, out_features=768, bias=True)\n",
              "              (LayerNorm): LayerNorm((768,), eps=1e-05, elementwise_affine=True)\n",
              "              (dropout): Dropout(p=0.1, inplace=False)\n",
              "            )\n",
              "          )\n",
              "          (intermediate): RobertaIntermediate(\n",
              "            (dense): Linear(in_features=768, out_features=3072, bias=True)\n",
              "            (intermediate_act_fn): GELUActivation()\n",
              "          )\n",
              "          (output): RobertaOutput(\n",
              "            (dense): Linear(in_features=3072, out_features=768, bias=True)\n",
              "            (LayerNorm): LayerNorm((768,), eps=1e-05, elementwise_affine=True)\n",
              "            (dropout): Dropout(p=0.1, inplace=False)\n",
              "          )\n",
              "        )\n",
              "        (6): RobertaLayer(\n",
              "          (attention): RobertaAttention(\n",
              "            (self): RobertaSelfAttention(\n",
              "              (query): Linear(in_features=768, out_features=768, bias=True)\n",
              "              (key): Linear(in_features=768, out_features=768, bias=True)\n",
              "              (value): Linear(in_features=768, out_features=768, bias=True)\n",
              "              (dropout): Dropout(p=0.1, inplace=False)\n",
              "            )\n",
              "            (output): RobertaSelfOutput(\n",
              "              (dense): Linear(in_features=768, out_features=768, bias=True)\n",
              "              (LayerNorm): LayerNorm((768,), eps=1e-05, elementwise_affine=True)\n",
              "              (dropout): Dropout(p=0.1, inplace=False)\n",
              "            )\n",
              "          )\n",
              "          (intermediate): RobertaIntermediate(\n",
              "            (dense): Linear(in_features=768, out_features=3072, bias=True)\n",
              "            (intermediate_act_fn): GELUActivation()\n",
              "          )\n",
              "          (output): RobertaOutput(\n",
              "            (dense): Linear(in_features=3072, out_features=768, bias=True)\n",
              "            (LayerNorm): LayerNorm((768,), eps=1e-05, elementwise_affine=True)\n",
              "            (dropout): Dropout(p=0.1, inplace=False)\n",
              "          )\n",
              "        )\n",
              "        (7): RobertaLayer(\n",
              "          (attention): RobertaAttention(\n",
              "            (self): RobertaSelfAttention(\n",
              "              (query): Linear(in_features=768, out_features=768, bias=True)\n",
              "              (key): Linear(in_features=768, out_features=768, bias=True)\n",
              "              (value): Linear(in_features=768, out_features=768, bias=True)\n",
              "              (dropout): Dropout(p=0.1, inplace=False)\n",
              "            )\n",
              "            (output): RobertaSelfOutput(\n",
              "              (dense): Linear(in_features=768, out_features=768, bias=True)\n",
              "              (LayerNorm): LayerNorm((768,), eps=1e-05, elementwise_affine=True)\n",
              "              (dropout): Dropout(p=0.1, inplace=False)\n",
              "            )\n",
              "          )\n",
              "          (intermediate): RobertaIntermediate(\n",
              "            (dense): Linear(in_features=768, out_features=3072, bias=True)\n",
              "            (intermediate_act_fn): GELUActivation()\n",
              "          )\n",
              "          (output): RobertaOutput(\n",
              "            (dense): Linear(in_features=3072, out_features=768, bias=True)\n",
              "            (LayerNorm): LayerNorm((768,), eps=1e-05, elementwise_affine=True)\n",
              "            (dropout): Dropout(p=0.1, inplace=False)\n",
              "          )\n",
              "        )\n",
              "        (8): RobertaLayer(\n",
              "          (attention): RobertaAttention(\n",
              "            (self): RobertaSelfAttention(\n",
              "              (query): Linear(in_features=768, out_features=768, bias=True)\n",
              "              (key): Linear(in_features=768, out_features=768, bias=True)\n",
              "              (value): Linear(in_features=768, out_features=768, bias=True)\n",
              "              (dropout): Dropout(p=0.1, inplace=False)\n",
              "            )\n",
              "            (output): RobertaSelfOutput(\n",
              "              (dense): Linear(in_features=768, out_features=768, bias=True)\n",
              "              (LayerNorm): LayerNorm((768,), eps=1e-05, elementwise_affine=True)\n",
              "              (dropout): Dropout(p=0.1, inplace=False)\n",
              "            )\n",
              "          )\n",
              "          (intermediate): RobertaIntermediate(\n",
              "            (dense): Linear(in_features=768, out_features=3072, bias=True)\n",
              "            (intermediate_act_fn): GELUActivation()\n",
              "          )\n",
              "          (output): RobertaOutput(\n",
              "            (dense): Linear(in_features=3072, out_features=768, bias=True)\n",
              "            (LayerNorm): LayerNorm((768,), eps=1e-05, elementwise_affine=True)\n",
              "            (dropout): Dropout(p=0.1, inplace=False)\n",
              "          )\n",
              "        )\n",
              "        (9): RobertaLayer(\n",
              "          (attention): RobertaAttention(\n",
              "            (self): RobertaSelfAttention(\n",
              "              (query): Linear(in_features=768, out_features=768, bias=True)\n",
              "              (key): Linear(in_features=768, out_features=768, bias=True)\n",
              "              (value): Linear(in_features=768, out_features=768, bias=True)\n",
              "              (dropout): Dropout(p=0.1, inplace=False)\n",
              "            )\n",
              "            (output): RobertaSelfOutput(\n",
              "              (dense): Linear(in_features=768, out_features=768, bias=True)\n",
              "              (LayerNorm): LayerNorm((768,), eps=1e-05, elementwise_affine=True)\n",
              "              (dropout): Dropout(p=0.1, inplace=False)\n",
              "            )\n",
              "          )\n",
              "          (intermediate): RobertaIntermediate(\n",
              "            (dense): Linear(in_features=768, out_features=3072, bias=True)\n",
              "            (intermediate_act_fn): GELUActivation()\n",
              "          )\n",
              "          (output): RobertaOutput(\n",
              "            (dense): Linear(in_features=3072, out_features=768, bias=True)\n",
              "            (LayerNorm): LayerNorm((768,), eps=1e-05, elementwise_affine=True)\n",
              "            (dropout): Dropout(p=0.1, inplace=False)\n",
              "          )\n",
              "        )\n",
              "        (10): RobertaLayer(\n",
              "          (attention): RobertaAttention(\n",
              "            (self): RobertaSelfAttention(\n",
              "              (query): Linear(in_features=768, out_features=768, bias=True)\n",
              "              (key): Linear(in_features=768, out_features=768, bias=True)\n",
              "              (value): Linear(in_features=768, out_features=768, bias=True)\n",
              "              (dropout): Dropout(p=0.1, inplace=False)\n",
              "            )\n",
              "            (output): RobertaSelfOutput(\n",
              "              (dense): Linear(in_features=768, out_features=768, bias=True)\n",
              "              (LayerNorm): LayerNorm((768,), eps=1e-05, elementwise_affine=True)\n",
              "              (dropout): Dropout(p=0.1, inplace=False)\n",
              "            )\n",
              "          )\n",
              "          (intermediate): RobertaIntermediate(\n",
              "            (dense): Linear(in_features=768, out_features=3072, bias=True)\n",
              "            (intermediate_act_fn): GELUActivation()\n",
              "          )\n",
              "          (output): RobertaOutput(\n",
              "            (dense): Linear(in_features=3072, out_features=768, bias=True)\n",
              "            (LayerNorm): LayerNorm((768,), eps=1e-05, elementwise_affine=True)\n",
              "            (dropout): Dropout(p=0.1, inplace=False)\n",
              "          )\n",
              "        )\n",
              "        (11): RobertaLayer(\n",
              "          (attention): RobertaAttention(\n",
              "            (self): RobertaSelfAttention(\n",
              "              (query): Linear(in_features=768, out_features=768, bias=True)\n",
              "              (key): Linear(in_features=768, out_features=768, bias=True)\n",
              "              (value): Linear(in_features=768, out_features=768, bias=True)\n",
              "              (dropout): Dropout(p=0.1, inplace=False)\n",
              "            )\n",
              "            (output): RobertaSelfOutput(\n",
              "              (dense): Linear(in_features=768, out_features=768, bias=True)\n",
              "              (LayerNorm): LayerNorm((768,), eps=1e-05, elementwise_affine=True)\n",
              "              (dropout): Dropout(p=0.1, inplace=False)\n",
              "            )\n",
              "          )\n",
              "          (intermediate): RobertaIntermediate(\n",
              "            (dense): Linear(in_features=768, out_features=3072, bias=True)\n",
              "            (intermediate_act_fn): GELUActivation()\n",
              "          )\n",
              "          (output): RobertaOutput(\n",
              "            (dense): Linear(in_features=3072, out_features=768, bias=True)\n",
              "            (LayerNorm): LayerNorm((768,), eps=1e-05, elementwise_affine=True)\n",
              "            (dropout): Dropout(p=0.1, inplace=False)\n",
              "          )\n",
              "        )\n",
              "      )\n",
              "    )\n",
              "    (pooler): RobertaPooler(\n",
              "      (dense): Linear(in_features=768, out_features=768, bias=True)\n",
              "      (activation): Tanh()\n",
              "    )\n",
              "  )\n",
              "  (l2): Dropout(p=0.2, inplace=False)\n",
              "  (l3): Linear(in_features=768, out_features=1, bias=True)\n",
              ")"
            ]
          },
          "metadata": {},
          "execution_count": 49
        }
      ]
    },
    {
      "cell_type": "code",
      "source": [
        "model_path = '/content/drive/MyDrive/movie/model.pt'"
      ],
      "metadata": {
        "id": "4w7WFpwqccVN"
      },
      "execution_count": 50,
      "outputs": []
    },
    {
      "cell_type": "code",
      "source": [
        "torch.save(model.state_dict(), model_path)"
      ],
      "metadata": {
        "id": "awNEM8w4G-fW"
      },
      "execution_count": 51,
      "outputs": []
    },
    {
      "cell_type": "code",
      "source": [
        "model.load_state_dict(torch.load(model_path))"
      ],
      "metadata": {
        "id": "C8aq0g2Tmo0F",
        "colab": {
          "base_uri": "https://localhost:8080/"
        },
        "outputId": "3e2082d5-ccc6-4d0e-f1be-45bb24924dff"
      },
      "execution_count": 52,
      "outputs": [
        {
          "output_type": "execute_result",
          "data": {
            "text/plain": [
              "<All keys matched successfully>"
            ]
          },
          "metadata": {},
          "execution_count": 52
        }
      ]
    },
    {
      "cell_type": "markdown",
      "source": [
        "## Validation"
      ],
      "metadata": {
        "id": "Ikut3KYMnX3b"
      }
    },
    {
      "cell_type": "code",
      "source": [
        "from sklearn import metrics\n",
        "import numpy as np\n",
        "from sklearn.metrics import confusion_matrix\n",
        "from sklearn.metrics import precision_score\n",
        "from sklearn.metrics import recall_score"
      ],
      "metadata": {
        "id": "Xf5JIH_Svoxx"
      },
      "execution_count": 53,
      "outputs": []
    },
    {
      "cell_type": "code",
      "source": [
        "def validation(epoch):\n",
        "  model.eval()\n",
        "  final_targets = []\n",
        "  final_outputs = []\n",
        "  sigmoid_validator = torch.nn.Sigmoid()\n",
        "  with torch.no_grad():\n",
        "    for i, data in enumerate(test_dataloader,0):\n",
        "            ids = data['ids'].to(device, dtype = torch.long)\n",
        "            mask = data['mask'].to(device, dtype = torch.long)\n",
        "            token_type_ids = data['token_type_ids'].to(device, dtype = torch.long)\n",
        "            targets = data['targets'].to(device, dtype = torch.long)\n",
        "            ids=ids.squeeze()\n",
        "            mask=mask.squeeze()\n",
        "            token_type_ids=token_type_ids.squeeze()\n",
        "            outputs = model(ids.unsqueeze(0), mask.unsqueeze(0), token_type_ids.unsqueeze(0))\n",
        "            final_targets.extend(targets.cpu().detach().numpy().tolist())\n",
        "            final_outputs.extend(sigmoid_validator(outputs))\n",
        "  return final_targets, final_outputs\n"
      ],
      "metadata": {
        "id": "enmPtT9CnY9Q"
      },
      "execution_count": 54,
      "outputs": []
    },
    {
      "cell_type": "code",
      "source": [
        "for epoch in range(1):\n",
        "    outputs, targets = validation(epoch)\n",
        "    outputs = np.array(outputs) >= 0.5\n",
        "    targets = np.array([targets[i].item() for i in range(len(targets))]) >= 0.5\n",
        "    accuracy = metrics.accuracy_score(targets, outputs)\n",
        "    precision = precision_score(targets, outputs)\n",
        "    recall = recall_score(targets, outputs)\n",
        "    f1_score_micro = metrics.f1_score(targets, outputs, average='micro')\n",
        "    f1_score_macro = metrics.f1_score(targets, outputs, average='macro')\n",
        "\n",
        "    print(f\"Accuracy Score = {accuracy}\")\n",
        "    print(f\"Precision = {precision}\")\n",
        "    print(f\"Recall = {recall}\")\n",
        "    print(f\"F1 Score (Micro) = {f1_score_micro}\")\n",
        "    print(f\"F1 Score (Macro) = {f1_score_macro}\")\n"
      ],
      "metadata": {
        "id": "N_PC2ckaves8",
        "colab": {
          "base_uri": "https://localhost:8080/"
        },
        "outputId": "bafce7c2-3804-4f32-f962-c5128cf6951f"
      },
      "execution_count": 56,
      "outputs": [
        {
          "output_type": "stream",
          "name": "stdout",
          "text": [
            "Accuracy Score = 0.85785536159601\n",
            "Precision = 0.8227272727272728\n",
            "Recall = 0.9095477386934674\n",
            "F1 Score (Micro) = 0.85785536159601\n",
            "F1 Score (Macro) = 0.8575683742841653\n"
          ]
        }
      ]
    },
    {
      "cell_type": "code",
      "source": [
        "print(confusion_matrix(targets, outputs))\n",
        "sns.heatmap(confusion_matrix(targets, outputs),annot=True,fmt = '.5g')\n",
        "plt.xlabel('Predicted')\n",
        "plt.ylabel('Actual')\n",
        "plt.xticks(ticks = [0,1],labels = ['Negative','Positive'])\n",
        "plt.yticks(ticks = [0,1],labels = ['Negative','Positive'])"
      ],
      "metadata": {
        "colab": {
          "base_uri": "https://localhost:8080/",
          "height": 391
        },
        "id": "pXqA5TLZo6Lj",
        "outputId": "e10650be-3d0b-46c4-9921-cb38adf6ab22"
      },
      "execution_count": 57,
      "outputs": [
        {
          "output_type": "stream",
          "name": "stdout",
          "text": [
            "[[163  39]\n",
            " [ 18 181]]\n"
          ]
        },
        {
          "output_type": "execute_result",
          "data": {
            "text/plain": [
              "([<matplotlib.axis.YTick at 0x7f375a38a040>,\n",
              "  <matplotlib.axis.YTick at 0x7f375a38ac40>],\n",
              " [Text(0, 0.5, 'Negative'), Text(0, 1.5, 'Positive')])"
            ]
          },
          "metadata": {},
          "execution_count": 57
        },
        {
          "output_type": "display_data",
          "data": {
            "text/plain": [
              "<Figure size 432x288 with 2 Axes>"
            ],
            "image/png": "[encoded data removed]"
          },
          "metadata": {}
        }
      ]
    }
  ],
  "metadata": {
    "colab": {
      "provenance": [],
      "collapsed_sections": [
        "Ikut3KYMnX3b"
      ],
      "machine_shape": "hm"
    },
    "kernelspec": {
      "display_name": "Python 3",
      "name": "python3"
    },
    "language_info": {
      "name": "python"
    },
    "accelerator": "GPU",
    "gpuClass": "premium",
    "widgets": {
      "application/vnd.jupyter.widget-state+json": {
        "8d0721d40dec444d8032f2c75d46335b": {
          "model_module": "@jupyter-widgets/controls",
          "model_name": "HBoxModel",
          "model_module_version": "1.5.0",
          "state": {
            "_dom_classes": [],
            "_model_module": "@jupyter-widgets/controls",
            "_model_module_version": "1.5.0",
            "_model_name": "HBoxModel",
            "_view_count": null,
            "_view_module": "@jupyter-widgets/controls",
            "_view_module_version": "1.5.0",
            "_view_name": "HBoxView",
            "box_style": "",
            "children": [
              "IPY_MODEL_05e30537d2554ebabf1ada906ec76901",
              "IPY_MODEL_287ac59dcada40a2bc1e7027356c8d44",
              "IPY_MODEL_6aae9d6b49e14ea18b9b9d6c282f398b"
            ],
            "layout": "IPY_MODEL_580d62a47dfe4a80afc2b41875c32aa1"
          }
        },
        "05e30537d2554ebabf1ada906ec76901": {
          "model_module": "@jupyter-widgets/controls",
          "model_name": "HTMLModel",
          "model_module_version": "1.5.0",
          "state": {
            "_dom_classes": [],
            "_model_module": "@jupyter-widgets/controls",
            "_model_module_version": "1.5.0",
            "_model_name": "HTMLModel",
            "_view_count": null,
            "_view_module": "@jupyter-widgets/controls",
            "_view_module_version": "1.5.0",
            "_view_name": "HTMLView",
            "description": "",
            "description_tooltip": null,
            "layout": "IPY_MODEL_edbafe19e0994fd88c23e591b642ed67",
            "placeholder": "​",
            "style": "IPY_MODEL_0277972f5e854d33b6c4d7211d75155e",
            "value": "Downloading (…)lve/main/config.json: 100%"
          }
        },
        "287ac59dcada40a2bc1e7027356c8d44": {
          "model_module": "@jupyter-widgets/controls",
          "model_name": "FloatProgressModel",
          "model_module_version": "1.5.0",
          "state": {
            "_dom_classes": [],
            "_model_module": "@jupyter-widgets/controls",
            "_model_module_version": "1.5.0",
            "_model_name": "FloatProgressModel",
            "_view_count": null,
            "_view_module": "@jupyter-widgets/controls",
            "_view_module_version": "1.5.0",
            "_view_name": "ProgressView",
            "bar_style": "success",
            "description": "",
            "description_tooltip": null,
            "layout": "IPY_MODEL_d9b40c7512d14482a1063ac621f89441",
            "max": 481,
            "min": 0,
            "orientation": "horizontal",
            "style": "IPY_MODEL_5c1b79fbecca46f4a7e1408e0516ecee",
            "value": 481
          }
        },
        "6aae9d6b49e14ea18b9b9d6c282f398b": {
          "model_module": "@jupyter-widgets/controls",
          "model_name": "HTMLModel",
          "model_module_version": "1.5.0",
          "state": {
            "_dom_classes": [],
            "_model_module": "@jupyter-widgets/controls",
            "_model_module_version": "1.5.0",
            "_model_name": "HTMLModel",
            "_view_count": null,
            "_view_module": "@jupyter-widgets/controls",
            "_view_module_version": "1.5.0",
            "_view_name": "HTMLView",
            "description": "",
            "description_tooltip": null,
            "layout": "IPY_MODEL_cccc177ddfdc4459bdc506216f393a91",
            "placeholder": "​",
            "style": "IPY_MODEL_6050ef809fb74ad181cb37fb08771b47",
            "value": " 481/481 [00:00&lt;00:00, 25.3kB/s]"
          }
        },
        "580d62a47dfe4a80afc2b41875c32aa1": {
          "model_module": "@jupyter-widgets/base",
          "model_name": "LayoutModel",
          "model_module_version": "1.2.0",
          "state": {
            "_model_module": "@jupyter-widgets/base",
            "_model_module_version": "1.2.0",
            "_model_name": "LayoutModel",
            "_view_count": null,
            "_view_module": "@jupyter-widgets/base",
            "_view_module_version": "1.2.0",
            "_view_name": "LayoutView",
            "align_content": null,
            "align_items": null,
            "align_self": null,
            "border": null,
            "bottom": null,
            "display": null,
            "flex": null,
            "flex_flow": null,
            "grid_area": null,
            "grid_auto_columns": null,
            "grid_auto_flow": null,
            "grid_auto_rows": null,
            "grid_column": null,
            "grid_gap": null,
            "grid_row": null,
            "grid_template_areas": null,
            "grid_template_columns": null,
            "grid_template_rows": null,
            "height": null,
            "justify_content": null,
            "justify_items": null,
            "left": null,
            "margin": null,
            "max_height": null,
            "max_width": null,
            "min_height": null,
            "min_width": null,
            "object_fit": null,
            "object_position": null,
            "order": null,
            "overflow": null,
            "overflow_x": null,
            "overflow_y": null,
            "padding": null,
            "right": null,
            "top": null,
            "visibility": null,
            "width": null
          }
        },
        "edbafe19e0994fd88c23e591b642ed67": {
          "model_module": "@jupyter-widgets/base",
          "model_name": "LayoutModel",
          "model_module_version": "1.2.0",
          "state": {
            "_model_module": "@jupyter-widgets/base",
            "_model_module_version": "1.2.0",
            "_model_name": "LayoutModel",
            "_view_count": null,
            "_view_module": "@jupyter-widgets/base",
            "_view_module_version": "1.2.0",
            "_view_name": "LayoutView",
            "align_content": null,
            "align_items": null,
            "align_self": null,
            "border": null,
            "bottom": null,
            "display": null,
            "flex": null,
            "flex_flow": null,
            "grid_area": null,
            "grid_auto_columns": null,
            "grid_auto_flow": null,
            "grid_auto_rows": null,
            "grid_column": null,
            "grid_gap": null,
            "grid_row": null,
            "grid_template_areas": null,
            "grid_template_columns": null,
            "grid_template_rows": null,
            "height": null,
            "justify_content": null,
            "justify_items": null,
            "left": null,
            "margin": null,
            "max_height": null,
            "max_width": null,
            "min_height": null,
            "min_width": null,
            "object_fit": null,
            "object_position": null,
            "order": null,
            "overflow": null,
            "overflow_x": null,
            "overflow_y": null,
            "padding": null,
            "right": null,
            "top": null,
            "visibility": null,
            "width": null
          }
        },
        "0277972f5e854d33b6c4d7211d75155e": {
          "model_module": "@jupyter-widgets/controls",
          "model_name": "DescriptionStyleModel",
          "model_module_version": "1.5.0",
          "state": {
            "_model_module": "@jupyter-widgets/controls",
            "_model_module_version": "1.5.0",
            "_model_name": "DescriptionStyleModel",
            "_view_count": null,
            "_view_module": "@jupyter-widgets/base",
            "_view_module_version": "1.2.0",
            "_view_name": "StyleView",
            "description_width": ""
          }
        },
        "d9b40c7512d14482a1063ac621f89441": {
          "model_module": "@jupyter-widgets/base",
          "model_name": "LayoutModel",
          "model_module_version": "1.2.0",
          "state": {
            "_model_module": "@jupyter-widgets/base",
            "_model_module_version": "1.2.0",
            "_model_name": "LayoutModel",
            "_view_count": null,
            "_view_module": "@jupyter-widgets/base",
            "_view_module_version": "1.2.0",
            "_view_name": "LayoutView",
            "align_content": null,
            "align_items": null,
            "align_self": null,
            "border": null,
            "bottom": null,
            "display": null,
            "flex": null,
            "flex_flow": null,
            "grid_area": null,
            "grid_auto_columns": null,
            "grid_auto_flow": null,
            "grid_auto_rows": null,
            "grid_column": null,
            "grid_gap": null,
            "grid_row": null,
            "grid_template_areas": null,
            "grid_template_columns": null,
            "grid_template_rows": null,
            "height": null,
            "justify_content": null,
            "justify_items": null,
            "left": null,
            "margin": null,
            "max_height": null,
            "max_width": null,
            "min_height": null,
            "min_width": null,
            "object_fit": null,
            "object_position": null,
            "order": null,
            "overflow": null,
            "overflow_x": null,
            "overflow_y": null,
            "padding": null,
            "right": null,
            "top": null,
            "visibility": null,
            "width": null
          }
        },
        "5c1b79fbecca46f4a7e1408e0516ecee": {
          "model_module": "@jupyter-widgets/controls",
          "model_name": "ProgressStyleModel",
          "model_module_version": "1.5.0",
          "state": {
            "_model_module": "@jupyter-widgets/controls",
            "_model_module_version": "1.5.0",
            "_model_name": "ProgressStyleModel",
            "_view_count": null,
            "_view_module": "@jupyter-widgets/base",
            "_view_module_version": "1.2.0",
            "_view_name": "StyleView",
            "bar_color": null,
            "description_width": ""
          }
        },
        "cccc177ddfdc4459bdc506216f393a91": {
          "model_module": "@jupyter-widgets/base",
          "model_name": "LayoutModel",
          "model_module_version": "1.2.0",
          "state": {
            "_model_module": "@jupyter-widgets/base",
            "_model_module_version": "1.2.0",
            "_model_name": "LayoutModel",
            "_view_count": null,
            "_view_module": "@jupyter-widgets/base",
            "_view_module_version": "1.2.0",
            "_view_name": "LayoutView",
            "align_content": null,
            "align_items": null,
            "align_self": null,
            "border": null,
            "bottom": null,
            "display": null,
            "flex": null,
            "flex_flow": null,
            "grid_area": null,
            "grid_auto_columns": null,
            "grid_auto_flow": null,
            "grid_auto_rows": null,
            "grid_column": null,
            "grid_gap": null,
            "grid_row": null,
            "grid_template_areas": null,
            "grid_template_columns": null,
            "grid_template_rows": null,
            "height": null,
            "justify_content": null,
            "justify_items": null,
            "left": null,
            "margin": null,
            "max_height": null,
            "max_width": null,
            "min_height": null,
            "min_width": null,
            "object_fit": null,
            "object_position": null,
            "order": null,
            "overflow": null,
            "overflow_x": null,
            "overflow_y": null,
            "padding": null,
            "right": null,
            "top": null,
            "visibility": null,
            "width": null
          }
        },
        "6050ef809fb74ad181cb37fb08771b47": {
          "model_module": "@jupyter-widgets/controls",
          "model_name": "DescriptionStyleModel",
          "model_module_version": "1.5.0",
          "state": {
            "_model_module": "@jupyter-widgets/controls",
            "_model_module_version": "1.5.0",
            "_model_name": "DescriptionStyleModel",
            "_view_count": null,
            "_view_module": "@jupyter-widgets/base",
            "_view_module_version": "1.2.0",
            "_view_name": "StyleView",
            "description_width": ""
          }
        },
        "7a0eec33abbf4c9a8c747b733b171f08": {
          "model_module": "@jupyter-widgets/controls",
          "model_name": "HBoxModel",
          "model_module_version": "1.5.0",
          "state": {
            "_dom_classes": [],
            "_model_module": "@jupyter-widgets/controls",
            "_model_module_version": "1.5.0",
            "_model_name": "HBoxModel",
            "_view_count": null,
            "_view_module": "@jupyter-widgets/controls",
            "_view_module_version": "1.5.0",
            "_view_name": "HBoxView",
            "box_style": "",
            "children": [
              "IPY_MODEL_d047ea352ef544119eec8de6f4712cca",
              "IPY_MODEL_7131f17d8f844f0e99e633c72c49baf0",
              "IPY_MODEL_44b914735f8a48e9a52aff6ad5faec37"
            ],
            "layout": "IPY_MODEL_535f37ccf73644f7a6c12b1e472e87ce"
          }
        },
        "d047ea352ef544119eec8de6f4712cca": {
          "model_module": "@jupyter-widgets/controls",
          "model_name": "HTMLModel",
          "model_module_version": "1.5.0",
          "state": {
            "_dom_classes": [],
            "_model_module": "@jupyter-widgets/controls",
            "_model_module_version": "1.5.0",
            "_model_name": "HTMLModel",
            "_view_count": null,
            "_view_module": "@jupyter-widgets/controls",
            "_view_module_version": "1.5.0",
            "_view_name": "HTMLView",
            "description": "",
            "description_tooltip": null,
            "layout": "IPY_MODEL_cc16126a2d72432f84809a8413612aec",
            "placeholder": "​",
            "style": "IPY_MODEL_d4e842f0225744349ac99200154de8a4",
            "value": "Downloading (…)&quot;pytorch_model.bin&quot;;: 100%"
          }
        },
        "7131f17d8f844f0e99e633c72c49baf0": {
          "model_module": "@jupyter-widgets/controls",
          "model_name": "FloatProgressModel",
          "model_module_version": "1.5.0",
          "state": {
            "_dom_classes": [],
            "_model_module": "@jupyter-widgets/controls",
            "_model_module_version": "1.5.0",
            "_model_name": "FloatProgressModel",
            "_view_count": null,
            "_view_module": "@jupyter-widgets/controls",
            "_view_module_version": "1.5.0",
            "_view_name": "ProgressView",
            "bar_style": "success",
            "description": "",
            "description_tooltip": null,
            "layout": "IPY_MODEL_f9434bb550a148dcafbe61bf8f83b733",
            "max": 501200538,
            "min": 0,
            "orientation": "horizontal",
            "style": "IPY_MODEL_268be963e35749c689bd4da5c3ef07ed",
            "value": 501200538
          }
        },
        "44b914735f8a48e9a52aff6ad5faec37": {
          "model_module": "@jupyter-widgets/controls",
          "model_name": "HTMLModel",
          "model_module_version": "1.5.0",
          "state": {
            "_dom_classes": [],
            "_model_module": "@jupyter-widgets/controls",
            "_model_module_version": "1.5.0",
            "_model_name": "HTMLModel",
            "_view_count": null,
            "_view_module": "@jupyter-widgets/controls",
            "_view_module_version": "1.5.0",
            "_view_name": "HTMLView",
            "description": "",
            "description_tooltip": null,
            "layout": "IPY_MODEL_e906bb4bc8294c7b85e418248632a9a7",
            "placeholder": "​",
            "style": "IPY_MODEL_9bed7fd8343c4b68b68814c64de938d8",
            "value": " 501M/501M [00:01&lt;00:00, 315MB/s]"
          }
        },
        "535f37ccf73644f7a6c12b1e472e87ce": {
          "model_module": "@jupyter-widgets/base",
          "model_name": "LayoutModel",
          "model_module_version": "1.2.0",
          "state": {
            "_model_module": "@jupyter-widgets/base",
            "_model_module_version": "1.2.0",
            "_model_name": "LayoutModel",
            "_view_count": null,
            "_view_module": "@jupyter-widgets/base",
            "_view_module_version": "1.2.0",
            "_view_name": "LayoutView",
            "align_content": null,
            "align_items": null,
            "align_self": null,
            "border": null,
            "bottom": null,
            "display": null,
            "flex": null,
            "flex_flow": null,
            "grid_area": null,
            "grid_auto_columns": null,
            "grid_auto_flow": null,
            "grid_auto_rows": null,
            "grid_column": null,
            "grid_gap": null,
            "grid_row": null,
            "grid_template_areas": null,
            "grid_template_columns": null,
            "grid_template_rows": null,
            "height": null,
            "justify_content": null,
            "justify_items": null,
            "left": null,
            "margin": null,
            "max_height": null,
            "max_width": null,
            "min_height": null,
            "min_width": null,
            "object_fit": null,
            "object_position": null,
            "order": null,
            "overflow": null,
            "overflow_x": null,
            "overflow_y": null,
            "padding": null,
            "right": null,
            "top": null,
            "visibility": null,
            "width": null
          }
        },
        "cc16126a2d72432f84809a8413612aec": {
          "model_module": "@jupyter-widgets/base",
          "model_name": "LayoutModel",
          "model_module_version": "1.2.0",
          "state": {
            "_model_module": "@jupyter-widgets/base",
            "_model_module_version": "1.2.0",
            "_model_name": "LayoutModel",
            "_view_count": null,
            "_view_module": "@jupyter-widgets/base",
            "_view_module_version": "1.2.0",
            "_view_name": "LayoutView",
            "align_content": null,
            "align_items": null,
            "align_self": null,
            "border": null,
            "bottom": null,
            "display": null,
            "flex": null,
            "flex_flow": null,
            "grid_area": null,
            "grid_auto_columns": null,
            "grid_auto_flow": null,
            "grid_auto_rows": null,
            "grid_column": null,
            "grid_gap": null,
            "grid_row": null,
            "grid_template_areas": null,
            "grid_template_columns": null,
            "grid_template_rows": null,
            "height": null,
            "justify_content": null,
            "justify_items": null,
            "left": null,
            "margin": null,
            "max_height": null,
            "max_width": null,
            "min_height": null,
            "min_width": null,
            "object_fit": null,
            "object_position": null,
            "order": null,
            "overflow": null,
            "overflow_x": null,
            "overflow_y": null,
            "padding": null,
            "right": null,
            "top": null,
            "visibility": null,
            "width": null
          }
        },
        "d4e842f0225744349ac99200154de8a4": {
          "model_module": "@jupyter-widgets/controls",
          "model_name": "DescriptionStyleModel",
          "model_module_version": "1.5.0",
          "state": {
            "_model_module": "@jupyter-widgets/controls",
            "_model_module_version": "1.5.0",
            "_model_name": "DescriptionStyleModel",
            "_view_count": null,
            "_view_module": "@jupyter-widgets/base",
            "_view_module_version": "1.2.0",
            "_view_name": "StyleView",
            "description_width": ""
          }
        },
        "f9434bb550a148dcafbe61bf8f83b733": {
          "model_module": "@jupyter-widgets/base",
          "model_name": "LayoutModel",
          "model_module_version": "1.2.0",
          "state": {
            "_model_module": "@jupyter-widgets/base",
            "_model_module_version": "1.2.0",
            "_model_name": "LayoutModel",
            "_view_count": null,
            "_view_module": "@jupyter-widgets/base",
            "_view_module_version": "1.2.0",
            "_view_name": "LayoutView",
            "align_content": null,
            "align_items": null,
            "align_self": null,
            "border": null,
            "bottom": null,
            "display": null,
            "flex": null,
            "flex_flow": null,
            "grid_area": null,
            "grid_auto_columns": null,
            "grid_auto_flow": null,
            "grid_auto_rows": null,
            "grid_column": null,
            "grid_gap": null,
            "grid_row": null,
            "grid_template_areas": null,
            "grid_template_columns": null,
            "grid_template_rows": null,
            "height": null,
            "justify_content": null,
            "justify_items": null,
            "left": null,
            "margin": null,
            "max_height": null,
            "max_width": null,
            "min_height": null,
            "min_width": null,
            "object_fit": null,
            "object_position": null,
            "order": null,
            "overflow": null,
            "overflow_x": null,
            "overflow_y": null,
            "padding": null,
            "right": null,
            "top": null,
            "visibility": null,
            "width": null
          }
        },
        "268be963e35749c689bd4da5c3ef07ed": {
          "model_module": "@jupyter-widgets/controls",
          "model_name": "ProgressStyleModel",
          "model_module_version": "1.5.0",
          "state": {
            "_model_module": "@jupyter-widgets/controls",
            "_model_module_version": "1.5.0",
            "_model_name": "ProgressStyleModel",
            "_view_count": null,
            "_view_module": "@jupyter-widgets/base",
            "_view_module_version": "1.2.0",
            "_view_name": "StyleView",
            "bar_color": null,
            "description_width": ""
          }
        },
        "e906bb4bc8294c7b85e418248632a9a7": {
          "model_module": "@jupyter-widgets/base",
          "model_name": "LayoutModel",
          "model_module_version": "1.2.0",
          "state": {
            "_model_module": "@jupyter-widgets/base",
            "_model_module_version": "1.2.0",
            "_model_name": "LayoutModel",
            "_view_count": null,
            "_view_module": "@jupyter-widgets/base",
            "_view_module_version": "1.2.0",
            "_view_name": "LayoutView",
            "align_content": null,
            "align_items": null,
            "align_self": null,
            "border": null,
            "bottom": null,
            "display": null,
            "flex": null,
            "flex_flow": null,
            "grid_area": null,
            "grid_auto_columns": null,
            "grid_auto_flow": null,
            "grid_auto_rows": null,
            "grid_column": null,
            "grid_gap": null,
            "grid_row": null,
            "grid_template_areas": null,
            "grid_template_columns": null,
            "grid_template_rows": null,
            "height": null,
            "justify_content": null,
            "justify_items": null,
            "left": null,
            "margin": null,
            "max_height": null,
            "max_width": null,
            "min_height": null,
            "min_width": null,
            "object_fit": null,
            "object_position": null,
            "order": null,
            "overflow": null,
            "overflow_x": null,
            "overflow_y": null,
            "padding": null,
            "right": null,
            "top": null,
            "visibility": null,
            "width": null
          }
        },
        "9bed7fd8343c4b68b68814c64de938d8": {
          "model_module": "@jupyter-widgets/controls",
          "model_name": "DescriptionStyleModel",
          "model_module_version": "1.5.0",
          "state": {
            "_model_module": "@jupyter-widgets/controls",
            "_model_module_version": "1.5.0",
            "_model_name": "DescriptionStyleModel",
            "_view_count": null,
            "_view_module": "@jupyter-widgets/base",
            "_view_module_version": "1.2.0",
            "_view_name": "StyleView",
            "description_width": ""
          }
        },
        "4e0a11974c8d43b18057836c3b4f3a22": {
          "model_module": "@jupyter-widgets/controls",
          "model_name": "HBoxModel",
          "model_module_version": "1.5.0",
          "state": {
            "_dom_classes": [],
            "_model_module": "@jupyter-widgets/controls",
            "_model_module_version": "1.5.0",
            "_model_name": "HBoxModel",
            "_view_count": null,
            "_view_module": "@jupyter-widgets/controls",
            "_view_module_version": "1.5.0",
            "_view_name": "HBoxView",
            "box_style": "",
            "children": [
              "IPY_MODEL_1d64f3efe0c64787ab0690e7f4c27619",
              "IPY_MODEL_dbab8afc6bc44876bff7be51fcd6fd32",
              "IPY_MODEL_a8fd8645239a417f91e940db873ac75c"
            ],
            "layout": "IPY_MODEL_76c4ac1141a94ec681f4376a147e4dff"
          }
        },
        "1d64f3efe0c64787ab0690e7f4c27619": {
          "model_module": "@jupyter-widgets/controls",
          "model_name": "HTMLModel",
          "model_module_version": "1.5.0",
          "state": {
            "_dom_classes": [],
            "_model_module": "@jupyter-widgets/controls",
            "_model_module_version": "1.5.0",
            "_model_name": "HTMLModel",
            "_view_count": null,
            "_view_module": "@jupyter-widgets/controls",
            "_view_module_version": "1.5.0",
            "_view_name": "HTMLView",
            "description": "",
            "description_tooltip": null,
            "layout": "IPY_MODEL_259ae007d6f84bbc9e42c72faa3c7cdf",
            "placeholder": "​",
            "style": "IPY_MODEL_d79f278a8e6f40958a16a751cc8164b0",
            "value": "Downloading (…)olve/main/vocab.json: 100%"
          }
        },
        "dbab8afc6bc44876bff7be51fcd6fd32": {
          "model_module": "@jupyter-widgets/controls",
          "model_name": "FloatProgressModel",
          "model_module_version": "1.5.0",
          "state": {
            "_dom_classes": [],
            "_model_module": "@jupyter-widgets/controls",
            "_model_module_version": "1.5.0",
            "_model_name": "FloatProgressModel",
            "_view_count": null,
            "_view_module": "@jupyter-widgets/controls",
            "_view_module_version": "1.5.0",
            "_view_name": "ProgressView",
            "bar_style": "success",
            "description": "",
            "description_tooltip": null,
            "layout": "IPY_MODEL_32dbe9a151694fc3a7482f91691076e8",
            "max": 898823,
            "min": 0,
            "orientation": "horizontal",
            "style": "IPY_MODEL_52ab78fa716a4bf8ac156bd807ebf96a",
            "value": 898823
          }
        },
        "a8fd8645239a417f91e940db873ac75c": {
          "model_module": "@jupyter-widgets/controls",
          "model_name": "HTMLModel",
          "model_module_version": "1.5.0",
          "state": {
            "_dom_classes": [],
            "_model_module": "@jupyter-widgets/controls",
            "_model_module_version": "1.5.0",
            "_model_name": "HTMLModel",
            "_view_count": null,
            "_view_module": "@jupyter-widgets/controls",
            "_view_module_version": "1.5.0",
            "_view_name": "HTMLView",
            "description": "",
            "description_tooltip": null,
            "layout": "IPY_MODEL_10e74239cf34499b85605703dfa7a995",
            "placeholder": "​",
            "style": "IPY_MODEL_e3e68737e2eb4f4dbb470fb9effa4fd0",
            "value": " 899k/899k [00:00&lt;00:00, 2.93MB/s]"
          }
        },
        "76c4ac1141a94ec681f4376a147e4dff": {
          "model_module": "@jupyter-widgets/base",
          "model_name": "LayoutModel",
          "model_module_version": "1.2.0",
          "state": {
            "_model_module": "@jupyter-widgets/base",
            "_model_module_version": "1.2.0",
            "_model_name": "LayoutModel",
            "_view_count": null,
            "_view_module": "@jupyter-widgets/base",
            "_view_module_version": "1.2.0",
            "_view_name": "LayoutView",
            "align_content": null,
            "align_items": null,
            "align_self": null,
            "border": null,
            "bottom": null,
            "display": null,
            "flex": null,
            "flex_flow": null,
            "grid_area": null,
            "grid_auto_columns": null,
            "grid_auto_flow": null,
            "grid_auto_rows": null,
            "grid_column": null,
            "grid_gap": null,
            "grid_row": null,
            "grid_template_areas": null,
            "grid_template_columns": null,
            "grid_template_rows": null,
            "height": null,
            "justify_content": null,
            "justify_items": null,
            "left": null,
            "margin": null,
            "max_height": null,
            "max_width": null,
            "min_height": null,
            "min_width": null,
            "object_fit": null,
            "object_position": null,
            "order": null,
            "overflow": null,
            "overflow_x": null,
            "overflow_y": null,
            "padding": null,
            "right": null,
            "top": null,
            "visibility": null,
            "width": null
          }
        },
        "259ae007d6f84bbc9e42c72faa3c7cdf": {
          "model_module": "@jupyter-widgets/base",
          "model_name": "LayoutModel",
          "model_module_version": "1.2.0",
          "state": {
            "_model_module": "@jupyter-widgets/base",
            "_model_module_version": "1.2.0",
            "_model_name": "LayoutModel",
            "_view_count": null,
            "_view_module": "@jupyter-widgets/base",
            "_view_module_version": "1.2.0",
            "_view_name": "LayoutView",
            "align_content": null,
            "align_items": null,
            "align_self": null,
            "border": null,
            "bottom": null,
            "display": null,
            "flex": null,
            "flex_flow": null,
            "grid_area": null,
            "grid_auto_columns": null,
            "grid_auto_flow": null,
            "grid_auto_rows": null,
            "grid_column": null,
            "grid_gap": null,
            "grid_row": null,
            "grid_template_areas": null,
            "grid_template_columns": null,
            "grid_template_rows": null,
            "height": null,
            "justify_content": null,
            "justify_items": null,
            "left": null,
            "margin": null,
            "max_height": null,
            "max_width": null,
            "min_height": null,
            "min_width": null,
            "object_fit": null,
            "object_position": null,
            "order": null,
            "overflow": null,
            "overflow_x": null,
            "overflow_y": null,
            "padding": null,
            "right": null,
            "top": null,
            "visibility": null,
            "width": null
          }
        },
        "d79f278a8e6f40958a16a751cc8164b0": {
          "model_module": "@jupyter-widgets/controls",
          "model_name": "DescriptionStyleModel",
          "model_module_version": "1.5.0",
          "state": {
            "_model_module": "@jupyter-widgets/controls",
            "_model_module_version": "1.5.0",
            "_model_name": "DescriptionStyleModel",
            "_view_count": null,
            "_view_module": "@jupyter-widgets/base",
            "_view_module_version": "1.2.0",
            "_view_name": "StyleView",
            "description_width": ""
          }
        },
        "32dbe9a151694fc3a7482f91691076e8": {
          "model_module": "@jupyter-widgets/base",
          "model_name": "LayoutModel",
          "model_module_version": "1.2.0",
          "state": {
            "_model_module": "@jupyter-widgets/base",
            "_model_module_version": "1.2.0",
            "_model_name": "LayoutModel",
            "_view_count": null,
            "_view_module": "@jupyter-widgets/base",
            "_view_module_version": "1.2.0",
            "_view_name": "LayoutView",
            "align_content": null,
            "align_items": null,
            "align_self": null,
            "border": null,
            "bottom": null,
            "display": null,
            "flex": null,
            "flex_flow": null,
            "grid_area": null,
            "grid_auto_columns": null,
            "grid_auto_flow": null,
            "grid_auto_rows": null,
            "grid_column": null,
            "grid_gap": null,
            "grid_row": null,
            "grid_template_areas": null,
            "grid_template_columns": null,
            "grid_template_rows": null,
            "height": null,
            "justify_content": null,
            "justify_items": null,
            "left": null,
            "margin": null,
            "max_height": null,
            "max_width": null,
            "min_height": null,
            "min_width": null,
            "object_fit": null,
            "object_position": null,
            "order": null,
            "overflow": null,
            "overflow_x": null,
            "overflow_y": null,
            "padding": null,
            "right": null,
            "top": null,
            "visibility": null,
            "width": null
          }
        },
        "52ab78fa716a4bf8ac156bd807ebf96a": {
          "model_module": "@jupyter-widgets/controls",
          "model_name": "ProgressStyleModel",
          "model_module_version": "1.5.0",
          "state": {
            "_model_module": "@jupyter-widgets/controls",
            "_model_module_version": "1.5.0",
            "_model_name": "ProgressStyleModel",
            "_view_count": null,
            "_view_module": "@jupyter-widgets/base",
            "_view_module_version": "1.2.0",
            "_view_name": "StyleView",
            "bar_color": null,
            "description_width": ""
          }
        },
        "10e74239cf34499b85605703dfa7a995": {
          "model_module": "@jupyter-widgets/base",
          "model_name": "LayoutModel",
          "model_module_version": "1.2.0",
          "state": {
            "_model_module": "@jupyter-widgets/base",
            "_model_module_version": "1.2.0",
            "_model_name": "LayoutModel",
            "_view_count": null,
            "_view_module": "@jupyter-widgets/base",
            "_view_module_version": "1.2.0",
            "_view_name": "LayoutView",
            "align_content": null,
            "align_items": null,
            "align_self": null,
            "border": null,
            "bottom": null,
            "display": null,
            "flex": null,
            "flex_flow": null,
            "grid_area": null,
            "grid_auto_columns": null,
            "grid_auto_flow": null,
            "grid_auto_rows": null,
            "grid_column": null,
            "grid_gap": null,
            "grid_row": null,
            "grid_template_areas": null,
            "grid_template_columns": null,
            "grid_template_rows": null,
            "height": null,
            "justify_content": null,
            "justify_items": null,
            "left": null,
            "margin": null,
            "max_height": null,
            "max_width": null,
            "min_height": null,
            "min_width": null,
            "object_fit": null,
            "object_position": null,
            "order": null,
            "overflow": null,
            "overflow_x": null,
            "overflow_y": null,
            "padding": null,
            "right": null,
            "top": null,
            "visibility": null,
            "width": null
          }
        },
        "e3e68737e2eb4f4dbb470fb9effa4fd0": {
          "model_module": "@jupyter-widgets/controls",
          "model_name": "DescriptionStyleModel",
          "model_module_version": "1.5.0",
          "state": {
            "_model_module": "@jupyter-widgets/controls",
            "_model_module_version": "1.5.0",
            "_model_name": "DescriptionStyleModel",
            "_view_count": null,
            "_view_module": "@jupyter-widgets/base",
            "_view_module_version": "1.2.0",
            "_view_name": "StyleView",
            "description_width": ""
          }
        },
        "d59d7c7d147641e1b344814e5339b7e4": {
          "model_module": "@jupyter-widgets/controls",
          "model_name": "HBoxModel",
          "model_module_version": "1.5.0",
          "state": {
            "_dom_classes": [],
            "_model_module": "@jupyter-widgets/controls",
            "_model_module_version": "1.5.0",
            "_model_name": "HBoxModel",
            "_view_count": null,
            "_view_module": "@jupyter-widgets/controls",
            "_view_module_version": "1.5.0",
            "_view_name": "HBoxView",
            "box_style": "",
            "children": [
              "IPY_MODEL_484028b3124e4629b1c56f619867f62b",
              "IPY_MODEL_e8623d272ee74f019a0c2c6a0668f3d0",
              "IPY_MODEL_bf3db78e8f324f8884c3a1af55b6f983"
            ],
            "layout": "IPY_MODEL_35ec62ac10a142d8bd8a673c4d7334cc"
          }
        },
        "484028b3124e4629b1c56f619867f62b": {
          "model_module": "@jupyter-widgets/controls",
          "model_name": "HTMLModel",
          "model_module_version": "1.5.0",
          "state": {
            "_dom_classes": [],
            "_model_module": "@jupyter-widgets/controls",
            "_model_module_version": "1.5.0",
            "_model_name": "HTMLModel",
            "_view_count": null,
            "_view_module": "@jupyter-widgets/controls",
            "_view_module_version": "1.5.0",
            "_view_name": "HTMLView",
            "description": "",
            "description_tooltip": null,
            "layout": "IPY_MODEL_dc287f8ae36540e6a5565cdcf34eb181",
            "placeholder": "​",
            "style": "IPY_MODEL_ee8c74c2c979447e8040d556cf4a352e",
            "value": "Downloading (…)olve/main/merges.txt: 100%"
          }
        },
        "e8623d272ee74f019a0c2c6a0668f3d0": {
          "model_module": "@jupyter-widgets/controls",
          "model_name": "FloatProgressModel",
          "model_module_version": "1.5.0",
          "state": {
            "_dom_classes": [],
            "_model_module": "@jupyter-widgets/controls",
            "_model_module_version": "1.5.0",
            "_model_name": "FloatProgressModel",
            "_view_count": null,
            "_view_module": "@jupyter-widgets/controls",
            "_view_module_version": "1.5.0",
            "_view_name": "ProgressView",
            "bar_style": "success",
            "description": "",
            "description_tooltip": null,
            "layout": "IPY_MODEL_3890e7c752734d04a343fb9bc9c1ed7d",
            "max": 456318,
            "min": 0,
            "orientation": "horizontal",
            "style": "IPY_MODEL_640be91a93744137adabee7e6302588e",
            "value": 456318
          }
        },
        "bf3db78e8f324f8884c3a1af55b6f983": {
          "model_module": "@jupyter-widgets/controls",
          "model_name": "HTMLModel",
          "model_module_version": "1.5.0",
          "state": {
            "_dom_classes": [],
            "_model_module": "@jupyter-widgets/controls",
            "_model_module_version": "1.5.0",
            "_model_name": "HTMLModel",
            "_view_count": null,
            "_view_module": "@jupyter-widgets/controls",
            "_view_module_version": "1.5.0",
            "_view_name": "HTMLView",
            "description": "",
            "description_tooltip": null,
            "layout": "IPY_MODEL_b94efac9174a4c4f81a5e69c03ef05cb",
            "placeholder": "​",
            "style": "IPY_MODEL_6ee15726ded946098c51d0ec03fea21b",
            "value": " 456k/456k [00:00&lt;00:00, 1.78MB/s]"
          }
        },
        "35ec62ac10a142d8bd8a673c4d7334cc": {
          "model_module": "@jupyter-widgets/base",
          "model_name": "LayoutModel",
          "model_module_version": "1.2.0",
          "state": {
            "_model_module": "@jupyter-widgets/base",
            "_model_module_version": "1.2.0",
            "_model_name": "LayoutModel",
            "_view_count": null,
            "_view_module": "@jupyter-widgets/base",
            "_view_module_version": "1.2.0",
            "_view_name": "LayoutView",
            "align_content": null,
            "align_items": null,
            "align_self": null,
            "border": null,
            "bottom": null,
            "display": null,
            "flex": null,
            "flex_flow": null,
            "grid_area": null,
            "grid_auto_columns": null,
            "grid_auto_flow": null,
            "grid_auto_rows": null,
            "grid_column": null,
            "grid_gap": null,
            "grid_row": null,
            "grid_template_areas": null,
            "grid_template_columns": null,
            "grid_template_rows": null,
            "height": null,
            "justify_content": null,
            "justify_items": null,
            "left": null,
            "margin": null,
            "max_height": null,
            "max_width": null,
            "min_height": null,
            "min_width": null,
            "object_fit": null,
            "object_position": null,
            "order": null,
            "overflow": null,
            "overflow_x": null,
            "overflow_y": null,
            "padding": null,
            "right": null,
            "top": null,
            "visibility": null,
            "width": null
          }
        },
        "dc287f8ae36540e6a5565cdcf34eb181": {
          "model_module": "@jupyter-widgets/base",
          "model_name": "LayoutModel",
          "model_module_version": "1.2.0",
          "state": {
            "_model_module": "@jupyter-widgets/base",
            "_model_module_version": "1.2.0",
            "_model_name": "LayoutModel",
            "_view_count": null,
            "_view_module": "@jupyter-widgets/base",
            "_view_module_version": "1.2.0",
            "_view_name": "LayoutView",
            "align_content": null,
            "align_items": null,
            "align_self": null,
            "border": null,
            "bottom": null,
            "display": null,
            "flex": null,
            "flex_flow": null,
            "grid_area": null,
            "grid_auto_columns": null,
            "grid_auto_flow": null,
            "grid_auto_rows": null,
            "grid_column": null,
            "grid_gap": null,
            "grid_row": null,
            "grid_template_areas": null,
            "grid_template_columns": null,
            "grid_template_rows": null,
            "height": null,
            "justify_content": null,
            "justify_items": null,
            "left": null,
            "margin": null,
            "max_height": null,
            "max_width": null,
            "min_height": null,
            "min_width": null,
            "object_fit": null,
            "object_position": null,
            "order": null,
            "overflow": null,
            "overflow_x": null,
            "overflow_y": null,
            "padding": null,
            "right": null,
            "top": null,
            "visibility": null,
            "width": null
          }
        },
        "ee8c74c2c979447e8040d556cf4a352e": {
          "model_module": "@jupyter-widgets/controls",
          "model_name": "DescriptionStyleModel",
          "model_module_version": "1.5.0",
          "state": {
            "_model_module": "@jupyter-widgets/controls",
            "_model_module_version": "1.5.0",
            "_model_name": "DescriptionStyleModel",
            "_view_count": null,
            "_view_module": "@jupyter-widgets/base",
            "_view_module_version": "1.2.0",
            "_view_name": "StyleView",
            "description_width": ""
          }
        },
        "3890e7c752734d04a343fb9bc9c1ed7d": {
          "model_module": "@jupyter-widgets/base",
          "model_name": "LayoutModel",
          "model_module_version": "1.2.0",
          "state": {
            "_model_module": "@jupyter-widgets/base",
            "_model_module_version": "1.2.0",
            "_model_name": "LayoutModel",
            "_view_count": null,
            "_view_module": "@jupyter-widgets/base",
            "_view_module_version": "1.2.0",
            "_view_name": "LayoutView",
            "align_content": null,
            "align_items": null,
            "align_self": null,
            "border": null,
            "bottom": null,
            "display": null,
            "flex": null,
            "flex_flow": null,
            "grid_area": null,
            "grid_auto_columns": null,
            "grid_auto_flow": null,
            "grid_auto_rows": null,
            "grid_column": null,
            "grid_gap": null,
            "grid_row": null,
            "grid_template_areas": null,
            "grid_template_columns": null,
            "grid_template_rows": null,
            "height": null,
            "justify_content": null,
            "justify_items": null,
            "left": null,
            "margin": null,
            "max_height": null,
            "max_width": null,
            "min_height": null,
            "min_width": null,
            "object_fit": null,
            "object_position": null,
            "order": null,
            "overflow": null,
            "overflow_x": null,
            "overflow_y": null,
            "padding": null,
            "right": null,
            "top": null,
            "visibility": null,
            "width": null
          }
        },
        "640be91a93744137adabee7e6302588e": {
          "model_module": "@jupyter-widgets/controls",
          "model_name": "ProgressStyleModel",
          "model_module_version": "1.5.0",
          "state": {
            "_model_module": "@jupyter-widgets/controls",
            "_model_module_version": "1.5.0",
            "_model_name": "ProgressStyleModel",
            "_view_count": null,
            "_view_module": "@jupyter-widgets/base",
            "_view_module_version": "1.2.0",
            "_view_name": "StyleView",
            "bar_color": null,
            "description_width": ""
          }
        },
        "b94efac9174a4c4f81a5e69c03ef05cb": {
          "model_module": "@jupyter-widgets/base",
          "model_name": "LayoutModel",
          "model_module_version": "1.2.0",
          "state": {
            "_model_module": "@jupyter-widgets/base",
            "_model_module_version": "1.2.0",
            "_model_name": "LayoutModel",
            "_view_count": null,
            "_view_module": "@jupyter-widgets/base",
            "_view_module_version": "1.2.0",
            "_view_name": "LayoutView",
            "align_content": null,
            "align_items": null,
            "align_self": null,
            "border": null,
            "bottom": null,
            "display": null,
            "flex": null,
            "flex_flow": null,
            "grid_area": null,
            "grid_auto_columns": null,
            "grid_auto_flow": null,
            "grid_auto_rows": null,
            "grid_column": null,
            "grid_gap": null,
            "grid_row": null,
            "grid_template_areas": null,
            "grid_template_columns": null,
            "grid_template_rows": null,
            "height": null,
            "justify_content": null,
            "justify_items": null,
            "left": null,
            "margin": null,
            "max_height": null,
            "max_width": null,
            "min_height": null,
            "min_width": null,
            "object_fit": null,
            "object_position": null,
            "order": null,
            "overflow": null,
            "overflow_x": null,
            "overflow_y": null,
            "padding": null,
            "right": null,
            "top": null,
            "visibility": null,
            "width": null
          }
        },
        "6ee15726ded946098c51d0ec03fea21b": {
          "model_module": "@jupyter-widgets/controls",
          "model_name": "DescriptionStyleModel",
          "model_module_version": "1.5.0",
          "state": {
            "_model_module": "@jupyter-widgets/controls",
            "_model_module_version": "1.5.0",
            "_model_name": "DescriptionStyleModel",
            "_view_count": null,
            "_view_module": "@jupyter-widgets/base",
            "_view_module_version": "1.2.0",
            "_view_name": "StyleView",
            "description_width": ""
          }
        }
      }
    }
  },
  "nbformat": 4,
  "nbformat_minor": 0
}